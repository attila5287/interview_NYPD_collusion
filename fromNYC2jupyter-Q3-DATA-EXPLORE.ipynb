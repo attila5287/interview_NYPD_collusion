{
 "cells": [
  {
   "cell_type": "code",
   "execution_count": 2,
   "metadata": {
    "ExecuteTime": {
     "end_time": "2019-05-08T06:10:51.280890Z",
     "start_time": "2019-05-08T06:10:49.713885Z"
    }
   },
   "outputs": [],
   "source": [
    "from IPython.core.interactiveshell import InteractiveShell\n",
    "InteractiveShell.ast_node_interactivity = \"all\"\n",
    "import warnings; warnings.simplefilter('ignore')\n",
    "import pandas as pd\n",
    "import os\n",
    "import datetime as dt\n",
    "import matplotlib.pyplot as plt\n",
    "plt.style.use('fivethirtyeight')"
   ]
  },
  {
   "cell_type": "code",
   "execution_count": 3,
   "metadata": {
    "ExecuteTime": {
     "end_time": "2019-05-08T06:10:58.279857Z",
     "start_time": "2019-05-08T06:10:51.304840Z"
    }
   },
   "outputs": [
    {
     "data": {
      "text/html": [
       "<div>\n",
       "<style scoped>\n",
       "    .dataframe tbody tr th:only-of-type {\n",
       "        vertical-align: middle;\n",
       "    }\n",
       "\n",
       "    .dataframe tbody tr th {\n",
       "        vertical-align: top;\n",
       "    }\n",
       "\n",
       "    .dataframe thead th {\n",
       "        text-align: right;\n",
       "    }\n",
       "</style>\n",
       "<table border=\"1\" class=\"dataframe\">\n",
       "  <thead>\n",
       "    <tr style=\"text-align: right;\">\n",
       "      <th></th>\n",
       "      <th>DATE</th>\n",
       "      <th>TIME</th>\n",
       "      <th>BOROUGH</th>\n",
       "      <th>ZIP CODE</th>\n",
       "      <th>LATITUDE</th>\n",
       "      <th>LONGITUDE</th>\n",
       "      <th>LOCATION</th>\n",
       "      <th>ON STREET NAME</th>\n",
       "      <th>CROSS STREET NAME</th>\n",
       "      <th>OFF STREET NAME</th>\n",
       "      <th>...</th>\n",
       "      <th>CONTRIBUTING FACTOR VEHICLE 2</th>\n",
       "      <th>CONTRIBUTING FACTOR VEHICLE 3</th>\n",
       "      <th>CONTRIBUTING FACTOR VEHICLE 4</th>\n",
       "      <th>CONTRIBUTING FACTOR VEHICLE 5</th>\n",
       "      <th>UNIQUE KEY</th>\n",
       "      <th>VEHICLE TYPE CODE 1</th>\n",
       "      <th>VEHICLE TYPE CODE 2</th>\n",
       "      <th>VEHICLE TYPE CODE 3</th>\n",
       "      <th>VEHICLE TYPE CODE 4</th>\n",
       "      <th>VEHICLE TYPE CODE 5</th>\n",
       "    </tr>\n",
       "  </thead>\n",
       "  <tbody>\n",
       "    <tr>\n",
       "      <th>0</th>\n",
       "      <td>04/30/2019</td>\n",
       "      <td>0:00</td>\n",
       "      <td>BROOKLYN</td>\n",
       "      <td>11222</td>\n",
       "      <td>40.727184</td>\n",
       "      <td>-73.950700</td>\n",
       "      <td>(40.727184, -73.9507)</td>\n",
       "      <td>NaN</td>\n",
       "      <td>NaN</td>\n",
       "      <td>236       ECKFORD STREET</td>\n",
       "      <td>...</td>\n",
       "      <td>Unspecified</td>\n",
       "      <td>NaN</td>\n",
       "      <td>NaN</td>\n",
       "      <td>NaN</td>\n",
       "      <td>4123208</td>\n",
       "      <td>Sedan</td>\n",
       "      <td>Station Wagon/Sport Utility Vehicle</td>\n",
       "      <td>NaN</td>\n",
       "      <td>NaN</td>\n",
       "      <td>NaN</td>\n",
       "    </tr>\n",
       "    <tr>\n",
       "      <th>1</th>\n",
       "      <td>04/30/2019</td>\n",
       "      <td>0:00</td>\n",
       "      <td>MANHATTAN</td>\n",
       "      <td>10075</td>\n",
       "      <td>40.776318</td>\n",
       "      <td>-73.962135</td>\n",
       "      <td>(40.776318, -73.962135)</td>\n",
       "      <td>EAST 79 STREET</td>\n",
       "      <td>MADISON AVENUE</td>\n",
       "      <td>NaN</td>\n",
       "      <td>...</td>\n",
       "      <td>Unspecified</td>\n",
       "      <td>NaN</td>\n",
       "      <td>NaN</td>\n",
       "      <td>NaN</td>\n",
       "      <td>4123128</td>\n",
       "      <td>Station Wagon/Sport Utility Vehicle</td>\n",
       "      <td>Ambulance</td>\n",
       "      <td>NaN</td>\n",
       "      <td>NaN</td>\n",
       "      <td>NaN</td>\n",
       "    </tr>\n",
       "    <tr>\n",
       "      <th>2</th>\n",
       "      <td>04/30/2019</td>\n",
       "      <td>0:00</td>\n",
       "      <td>QUEENS</td>\n",
       "      <td>11354</td>\n",
       "      <td>40.763283</td>\n",
       "      <td>-73.830710</td>\n",
       "      <td>(40.763283, -73.83071)</td>\n",
       "      <td>NaN</td>\n",
       "      <td>NaN</td>\n",
       "      <td>137-17    NORTHERN BOULEVARD</td>\n",
       "      <td>...</td>\n",
       "      <td>Unspecified</td>\n",
       "      <td>NaN</td>\n",
       "      <td>NaN</td>\n",
       "      <td>NaN</td>\n",
       "      <td>4124069</td>\n",
       "      <td>Sedan</td>\n",
       "      <td>NaN</td>\n",
       "      <td>NaN</td>\n",
       "      <td>NaN</td>\n",
       "      <td>NaN</td>\n",
       "    </tr>\n",
       "    <tr>\n",
       "      <th>3</th>\n",
       "      <td>04/30/2019</td>\n",
       "      <td>0:00</td>\n",
       "      <td>QUEENS</td>\n",
       "      <td>11412</td>\n",
       "      <td>40.705240</td>\n",
       "      <td>-73.775080</td>\n",
       "      <td>(40.70524, -73.77508)</td>\n",
       "      <td>LIBERTY AVENUE</td>\n",
       "      <td>DUNKIRK STREET</td>\n",
       "      <td>NaN</td>\n",
       "      <td>...</td>\n",
       "      <td>Unspecified</td>\n",
       "      <td>NaN</td>\n",
       "      <td>NaN</td>\n",
       "      <td>NaN</td>\n",
       "      <td>4123202</td>\n",
       "      <td>COMMU</td>\n",
       "      <td>Sedan</td>\n",
       "      <td>NaN</td>\n",
       "      <td>NaN</td>\n",
       "      <td>NaN</td>\n",
       "    </tr>\n",
       "    <tr>\n",
       "      <th>4</th>\n",
       "      <td>04/30/2019</td>\n",
       "      <td>0:00</td>\n",
       "      <td>NaN</td>\n",
       "      <td>NaN</td>\n",
       "      <td>40.593525</td>\n",
       "      <td>-73.996280</td>\n",
       "      <td>(40.593525, -73.99628)</td>\n",
       "      <td>BELT PARKWAY</td>\n",
       "      <td>NaN</td>\n",
       "      <td>NaN</td>\n",
       "      <td>...</td>\n",
       "      <td>Unspecified</td>\n",
       "      <td>NaN</td>\n",
       "      <td>NaN</td>\n",
       "      <td>NaN</td>\n",
       "      <td>4123344</td>\n",
       "      <td>Station Wagon/Sport Utility Vehicle</td>\n",
       "      <td>Sedan</td>\n",
       "      <td>NaN</td>\n",
       "      <td>NaN</td>\n",
       "      <td>NaN</td>\n",
       "    </tr>\n",
       "  </tbody>\n",
       "</table>\n",
       "<p>5 rows × 29 columns</p>\n",
       "</div>"
      ],
      "text/plain": [
       "         DATE  TIME    BOROUGH ZIP CODE   LATITUDE  LONGITUDE  \\\n",
       "0  04/30/2019  0:00   BROOKLYN    11222  40.727184 -73.950700   \n",
       "1  04/30/2019  0:00  MANHATTAN    10075  40.776318 -73.962135   \n",
       "2  04/30/2019  0:00     QUEENS    11354  40.763283 -73.830710   \n",
       "3  04/30/2019  0:00     QUEENS    11412  40.705240 -73.775080   \n",
       "4  04/30/2019  0:00        NaN      NaN  40.593525 -73.996280   \n",
       "\n",
       "                  LOCATION                    ON STREET NAME  \\\n",
       "0    (40.727184, -73.9507)                               NaN   \n",
       "1  (40.776318, -73.962135)  EAST 79 STREET                     \n",
       "2   (40.763283, -73.83071)                               NaN   \n",
       "3    (40.70524, -73.77508)  LIBERTY AVENUE                     \n",
       "4   (40.593525, -73.99628)  BELT PARKWAY                       \n",
       "\n",
       "  CROSS STREET NAME                           OFF STREET NAME  \\\n",
       "0               NaN  236       ECKFORD STREET                   \n",
       "1    MADISON AVENUE                                       NaN   \n",
       "2               NaN  137-17    NORTHERN BOULEVARD               \n",
       "3    DUNKIRK STREET                                       NaN   \n",
       "4               NaN                                       NaN   \n",
       "\n",
       "          ...          CONTRIBUTING FACTOR VEHICLE 2  \\\n",
       "0         ...                            Unspecified   \n",
       "1         ...                            Unspecified   \n",
       "2         ...                            Unspecified   \n",
       "3         ...                            Unspecified   \n",
       "4         ...                            Unspecified   \n",
       "\n",
       "   CONTRIBUTING FACTOR VEHICLE 3  CONTRIBUTING FACTOR VEHICLE 4  \\\n",
       "0                            NaN                            NaN   \n",
       "1                            NaN                            NaN   \n",
       "2                            NaN                            NaN   \n",
       "3                            NaN                            NaN   \n",
       "4                            NaN                            NaN   \n",
       "\n",
       "   CONTRIBUTING FACTOR VEHICLE 5  UNIQUE KEY  \\\n",
       "0                            NaN     4123208   \n",
       "1                            NaN     4123128   \n",
       "2                            NaN     4124069   \n",
       "3                            NaN     4123202   \n",
       "4                            NaN     4123344   \n",
       "\n",
       "                   VEHICLE TYPE CODE 1                  VEHICLE TYPE CODE 2  \\\n",
       "0                                Sedan  Station Wagon/Sport Utility Vehicle   \n",
       "1  Station Wagon/Sport Utility Vehicle                            Ambulance   \n",
       "2                                Sedan                                  NaN   \n",
       "3                                COMMU                                Sedan   \n",
       "4  Station Wagon/Sport Utility Vehicle                                Sedan   \n",
       "\n",
       "   VEHICLE TYPE CODE 3 VEHICLE TYPE CODE 4 VEHICLE TYPE CODE 5  \n",
       "0                  NaN                 NaN                 NaN  \n",
       "1                  NaN                 NaN                 NaN  \n",
       "2                  NaN                 NaN                 NaN  \n",
       "3                  NaN                 NaN                 NaN  \n",
       "4                  NaN                 NaN                 NaN  \n",
       "\n",
       "[5 rows x 29 columns]"
      ]
     },
     "execution_count": 3,
     "metadata": {},
     "output_type": "execute_result"
    }
   ],
   "source": [
    "FILE_NAME = 'NYPD_Motor_Vehicle_Collisions.csv'\n",
    "master_df = pd.read_csv(FILE_NAME)\n",
    "master_df.head()"
   ]
  },
  {
   "cell_type": "markdown",
   "metadata": {},
   "source": [
    "### Q-3: What proportion of collisions in 2016 resulted in injury or death of a cyclist?"
   ]
  },
  {
   "cell_type": "code",
   "execution_count": 4,
   "metadata": {
    "ExecuteTime": {
     "end_time": "2019-05-08T06:11:00.149829Z",
     "start_time": "2019-05-08T06:11:00.109812Z"
    }
   },
   "outputs": [],
   "source": [
    "cycle_df = master_df[[\n",
    "    'DATE',\n",
    "    'NUMBER OF CYCLIST INJURED',\n",
    "    'NUMBER OF CYCLIST KILLED',    \n",
    "]]"
   ]
  },
  {
   "cell_type": "code",
   "execution_count": 5,
   "metadata": {
    "ExecuteTime": {
     "end_time": "2019-05-08T06:11:02.417143Z",
     "start_time": "2019-05-08T06:11:01.807474Z"
    }
   },
   "outputs": [],
   "source": [
    "cycle_df['dat3'] = [date[-4:] for date in cycle_df['DATE']]\n",
    "cycle2016_df = cycle_df.loc[cycle_df['dat3'] == '2016']"
   ]
  },
  {
   "cell_type": "code",
   "execution_count": null,
   "metadata": {
    "ExecuteTime": {
     "end_time": "2019-05-06T04:14:15.249452Z",
     "start_time": "2019-05-06T04:14:15.238458Z"
    }
   },
   "outputs": [],
   "source": [
    "cycle2016_df = cycle2016_df [[\n",
    "    'dat3', \n",
    "    'NUMBER OF CYCLIST INJURED',\n",
    "    'NUMBER OF CYCLIST KILLED',\n",
    "    \n",
    "]]"
   ]
  },
  {
   "cell_type": "code",
   "execution_count": null,
   "metadata": {
    "ExecuteTime": {
     "end_time": "2019-05-06T04:49:28.717423Z",
     "start_time": "2019-05-06T04:49:28.703429Z"
    }
   },
   "outputs": [],
   "source": [
    "# like venn diagrams a + b - intersect(A and B)\n",
    "# like venn diagrams a \n",
    "cycle2016_df['NUMBER OF CYCLIST INJURED'].sum()\n",
    "# like venn diagrams b\n",
    "cycle2016_df['NUMBER OF CYCLIST KILLED'].sum()"
   ]
  },
  {
   "cell_type": "code",
   "execution_count": null,
   "metadata": {
    "ExecuteTime": {
     "end_time": "2019-05-06T04:49:51.774966Z",
     "start_time": "2019-05-06T04:49:51.701004Z"
    }
   },
   "outputs": [],
   "source": [
    "cycle2016_df.loc[cycle2016_df['NUMBER OF CYCLIST INJURED'] == 0].count()\n",
    "cycle2016_df.loc[cycle2016_df['NUMBER OF CYCLIST KILLED'] != 0]\n",
    "# AS BELOW SHOWS, THERE ARE NO ACCIDENTS WITH CYCLISTS BOTH INJURED/KILLED \n",
    "# THUS venn diagram ex: a+b-0 = ANSWER!"
   ]
  },
  {
   "cell_type": "code",
   "execution_count": null,
   "metadata": {
    "ExecuteTime": {
     "end_time": "2019-05-06T04:58:57.860118Z",
     "start_time": "2019-05-06T04:58:57.822140Z"
    }
   },
   "outputs": [],
   "source": [
    "total2016 = cycle2016_df.count()[0]\n",
    "cyclist2016killed = cycle2016_df.loc[cycle2016_df['NUMBER OF CYCLIST KILLED'] != 0].count()[0]\n",
    "cyclist2016 = cycle2016_df.loc[cycle2016_df['NUMBER OF CYCLIST INJURED'] != 0].count()[0]"
   ]
  },
  {
   "cell_type": "code",
   "execution_count": null,
   "metadata": {
    "ExecuteTime": {
     "end_time": "2019-05-06T05:00:08.430107Z",
     "start_time": "2019-05-06T05:00:08.425110Z"
    }
   },
   "outputs": [],
   "source": [
    "ratio_injured = int(cyclist2016) / int(total2016)*100\n",
    "ratio_killed = int(cyclist2016killed)/int(total2016)*100\n",
    "ratio_injKill = ratio_killed + ratio_injured"
   ]
  },
  {
   "cell_type": "code",
   "execution_count": null,
   "metadata": {
    "ExecuteTime": {
     "end_time": "2019-05-06T05:00:10.220086Z",
     "start_time": "2019-05-06T05:00:10.214081Z"
    }
   },
   "outputs": [],
   "source": [
    "print(\n",
    "    '{:,.2}%'.format(ratio_killed + ratio_injured)\n",
    ")\n"
   ]
  },
  {
   "cell_type": "code",
   "execution_count": null,
   "metadata": {},
   "outputs": [],
   "source": []
  },
  {
   "cell_type": "code",
   "execution_count": null,
   "metadata": {},
   "outputs": [],
   "source": []
  },
  {
   "cell_type": "code",
   "execution_count": null,
   "metadata": {},
   "outputs": [],
   "source": []
  }
 ],
 "metadata": {
  "kernelspec": {
   "display_name": "Python 3",
   "language": "python",
   "name": "python3"
  },
  "language_info": {
   "codemirror_mode": {
    "name": "ipython",
    "version": 3
   },
   "file_extension": ".py",
   "mimetype": "text/x-python",
   "name": "python",
   "nbconvert_exporter": "python",
   "pygments_lexer": "ipython3",
   "version": "3.6.5"
  },
  "varInspector": {
   "cols": {
    "lenName": 16,
    "lenType": 16,
    "lenVar": 40
   },
   "kernels_config": {
    "python": {
     "delete_cmd_postfix": "",
     "delete_cmd_prefix": "del ",
     "library": "var_list.py",
     "varRefreshCmd": "print(var_dic_list())"
    },
    "r": {
     "delete_cmd_postfix": ") ",
     "delete_cmd_prefix": "rm(",
     "library": "var_list.r",
     "varRefreshCmd": "cat(var_dic_list()) "
    }
   },
   "types_to_exclude": [
    "module",
    "function",
    "builtin_function_or_method",
    "instance",
    "_Feature"
   ],
   "window_display": false
  }
 },
 "nbformat": 4,
 "nbformat_minor": 2
}
