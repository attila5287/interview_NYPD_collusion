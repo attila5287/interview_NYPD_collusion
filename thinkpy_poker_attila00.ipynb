{
 "cells": [
  {
   "cell_type": "code",
   "execution_count": 33,
   "metadata": {
    "ExecuteTime": {
     "end_time": "2019-05-28T13:18:21.126972Z",
     "start_time": "2019-05-28T13:18:19.932771Z"
    }
   },
   "outputs": [],
   "source": [
    "import pandas as pd\n",
    "import numpy as np"
   ]
  },
  {
   "cell_type": "code",
   "execution_count": 33,
   "metadata": {
    "ExecuteTime": {
     "end_time": "2019-05-27T22:18:57.971802Z",
     "start_time": "2019-05-27T22:18:57.967806Z"
    }
   },
   "outputs": [],
   "source": [
    "from __future__ import print_function, division"
   ]
  },
  {
   "cell_type": "code",
   "execution_count": 1,
   "metadata": {
    "ExecuteTime": {
     "end_time": "2019-05-28T11:44:30.695303Z",
     "start_time": "2019-05-28T11:44:30.690305Z"
    }
   },
   "outputs": [],
   "source": [
    "import random"
   ]
  },
  {
   "cell_type": "code",
   "execution_count": 37,
   "metadata": {
    "ExecuteTime": {
     "end_time": "2019-05-28T13:28:57.953725Z",
     "start_time": "2019-05-28T13:28:57.947731Z"
    }
   },
   "outputs": [],
   "source": [
    "class C4rd:\n",
    "    def __init__(self,suit = 0,rank = 2 ):\n",
    "        self.suit = suit\n",
    "        self.rank = rank\n",
    "    suit_nam3s = ['Clubs','Diamonds','Hearts','Spades']\n",
    "    rank_l1st = [ None,'Ace','2','3','4','5','6','7','8','9','10','Jack','Queen','King']\n",
    "    \n",
    "    \n",
    "    def __str__(self):\n",
    "        print_out = '%s of %s ' % (C4rd.rank_l1st[self.rank],\n",
    "                               C4rd.suit_nam3s[self.suit]\n",
    "                              )\n",
    "        return print_out"
   ]
  },
  {
   "cell_type": "code",
   "execution_count": null,
   "metadata": {},
   "outputs": [],
   "source": [
    "class D3ck:\n",
    "    def __init__():"
   ]
  },
  {
   "cell_type": "code",
   "execution_count": 38,
   "metadata": {
    "ExecuteTime": {
     "end_time": "2019-05-28T13:28:58.084701Z",
     "start_time": "2019-05-28T13:28:58.079704Z"
    }
   },
   "outputs": [
    {
     "data": {
      "text/plain": [
       "'Ace of Diamonds '"
      ]
     },
     "execution_count": 38,
     "metadata": {},
     "output_type": "execute_result"
    }
   ],
   "source": [
    "C4rd(1, 1).__str__()\n",
    "# print(C4rd(1, 1))"
   ]
  },
  {
   "cell_type": "code",
   "execution_count": 59,
   "metadata": {
    "ExecuteTime": {
     "end_time": "2019-05-28T13:38:53.574336Z",
     "start_time": "2019-05-28T13:38:53.569340Z"
    }
   },
   "outputs": [
    {
     "name": "stdout",
     "output_type": "stream",
     "text": [
      "[ 7  1 42 10 24 16 31  5 15  4 37 20 46  3 17 36 38 13 29 28 21 27 32 19\n",
      " 33 43 34 22 14 30 47 48 39 40  6 45  9 18 26 35  0 11 12 23 44 25 51  8\n",
      " 50  2 41 49]\n"
     ]
    }
   ],
   "source": [
    "suit_nam3s = ['Clubs','Diamonds','Hearts','Spades']\n",
    "rank_l1st = [ None,'Ace','2','3','4','5','6','7','8','9','10','Jack','Queen','King']"
   ]
  },
  {
   "cell_type": "code",
   "execution_count": 75,
   "metadata": {
    "ExecuteTime": {
     "end_time": "2019-05-28T14:14:37.371009Z",
     "start_time": "2019-05-28T14:14:37.366994Z"
    }
   },
   "outputs": [],
   "source": [
    "cardNo_list = np.arange(52)\n",
    "np.random.shuffle(cardNo_list)\n",
    "# list(cardNo_list)"
   ]
  },
  {
   "cell_type": "code",
   "execution_count": 84,
   "metadata": {
    "ExecuteTime": {
     "end_time": "2019-05-28T14:30:36.935442Z",
     "start_time": "2019-05-28T14:30:36.932443Z"
    }
   },
   "outputs": [],
   "source": [
    "d3ck_list = []\n",
    "for suit in range(4):\n",
    "    for rank in range(1, 14):\n",
    "        card = C4rd(suit, rank)\n",
    "        d3ck_list.append(card)"
   ]
  },
  {
   "cell_type": "code",
   "execution_count": 93,
   "metadata": {
    "ExecuteTime": {
     "end_time": "2019-05-28T14:36:13.306407Z",
     "start_time": "2019-05-28T14:36:13.298411Z"
    }
   },
   "outputs": [
    {
     "data": {
      "text/plain": [
       "{32: 'Ace of Clubs ',\n",
       " 0: '2 of Clubs ',\n",
       " 2: '3 of Clubs ',\n",
       " 29: '4 of Clubs ',\n",
       " 42: '5 of Clubs ',\n",
       " 20: '6 of Clubs ',\n",
       " 9: '7 of Clubs ',\n",
       " 21: '8 of Clubs ',\n",
       " 25: '9 of Clubs ',\n",
       " 28: '10 of Clubs ',\n",
       " 11: 'Jack of Clubs ',\n",
       " 49: 'Queen of Clubs ',\n",
       " 16: 'King of Clubs ',\n",
       " 41: 'Ace of Diamonds ',\n",
       " 26: '2 of Diamonds ',\n",
       " 34: '3 of Diamonds ',\n",
       " 18: '4 of Diamonds ',\n",
       " 30: '5 of Diamonds ',\n",
       " 12: '6 of Diamonds ',\n",
       " 15: '7 of Diamonds ',\n",
       " 5: '8 of Diamonds ',\n",
       " 10: '9 of Diamonds ',\n",
       " 51: '10 of Diamonds ',\n",
       " 8: 'Jack of Diamonds ',\n",
       " 7: 'Queen of Diamonds ',\n",
       " 38: 'King of Diamonds ',\n",
       " 35: 'Ace of Hearts ',\n",
       " 39: '2 of Hearts ',\n",
       " 50: '3 of Hearts ',\n",
       " 31: '4 of Hearts ',\n",
       " 4: '5 of Hearts ',\n",
       " 27: '6 of Hearts ',\n",
       " 36: '7 of Hearts ',\n",
       " 14: '8 of Hearts ',\n",
       " 37: '9 of Hearts ',\n",
       " 43: '10 of Hearts ',\n",
       " 33: 'Jack of Hearts ',\n",
       " 40: 'Queen of Hearts ',\n",
       " 6: 'King of Hearts ',\n",
       " 3: 'Ace of Spades ',\n",
       " 17: '2 of Spades ',\n",
       " 47: '3 of Spades ',\n",
       " 45: '4 of Spades ',\n",
       " 44: '5 of Spades ',\n",
       " 19: '6 of Spades ',\n",
       " 24: '7 of Spades ',\n",
       " 46: '8 of Spades ',\n",
       " 48: '9 of Spades ',\n",
       " 1: '10 of Spades ',\n",
       " 22: 'Jack of Spades ',\n",
       " 23: 'Queen of Spades ',\n",
       " 13: 'King of Spades '}"
      ]
     },
     "execution_count": 93,
     "metadata": {},
     "output_type": "execute_result"
    }
   ],
   "source": [
    "dict(\n",
    "    zip(\n",
    "        cardNo_list,\n",
    "               [\n",
    "            card.__str__() for card in d3ck_list\n",
    "        ]\n",
    "    )\n",
    ")"
   ]
  },
  {
   "cell_type": "code",
   "execution_count": 92,
   "metadata": {
    "ExecuteTime": {
     "end_time": "2019-05-28T14:35:23.014714Z",
     "start_time": "2019-05-28T14:35:23.005719Z"
    }
   },
   "outputs": [
    {
     "data": {
      "text/plain": [
       "{'Ace of Clubs ': 32,\n",
       " '2 of Clubs ': 0,\n",
       " '3 of Clubs ': 2,\n",
       " '4 of Clubs ': 29,\n",
       " '5 of Clubs ': 42,\n",
       " '6 of Clubs ': 20,\n",
       " '7 of Clubs ': 9,\n",
       " '8 of Clubs ': 21,\n",
       " '9 of Clubs ': 25,\n",
       " '10 of Clubs ': 28,\n",
       " 'Jack of Clubs ': 11,\n",
       " 'Queen of Clubs ': 49,\n",
       " 'King of Clubs ': 16,\n",
       " 'Ace of Diamonds ': 41,\n",
       " '2 of Diamonds ': 26,\n",
       " '3 of Diamonds ': 34,\n",
       " '4 of Diamonds ': 18,\n",
       " '5 of Diamonds ': 30,\n",
       " '6 of Diamonds ': 12,\n",
       " '7 of Diamonds ': 15,\n",
       " '8 of Diamonds ': 5,\n",
       " '9 of Diamonds ': 10,\n",
       " '10 of Diamonds ': 51,\n",
       " 'Jack of Diamonds ': 8,\n",
       " 'Queen of Diamonds ': 7,\n",
       " 'King of Diamonds ': 38,\n",
       " 'Ace of Hearts ': 35,\n",
       " '2 of Hearts ': 39,\n",
       " '3 of Hearts ': 50,\n",
       " '4 of Hearts ': 31,\n",
       " '5 of Hearts ': 4,\n",
       " '6 of Hearts ': 27,\n",
       " '7 of Hearts ': 36,\n",
       " '8 of Hearts ': 14,\n",
       " '9 of Hearts ': 37,\n",
       " '10 of Hearts ': 43,\n",
       " 'Jack of Hearts ': 33,\n",
       " 'Queen of Hearts ': 40,\n",
       " 'King of Hearts ': 6,\n",
       " 'Ace of Spades ': 3,\n",
       " '2 of Spades ': 17,\n",
       " '3 of Spades ': 47,\n",
       " '4 of Spades ': 45,\n",
       " '5 of Spades ': 44,\n",
       " '6 of Spades ': 19,\n",
       " '7 of Spades ': 24,\n",
       " '8 of Spades ': 46,\n",
       " '9 of Spades ': 48,\n",
       " '10 of Spades ': 1,\n",
       " 'Jack of Spades ': 22,\n",
       " 'Queen of Spades ': 23,\n",
       " 'King of Spades ': 13}"
      ]
     },
     "execution_count": 92,
     "metadata": {},
     "output_type": "execute_result"
    }
   ],
   "source": [
    "dict(\n",
    "    zip(\n",
    "        [\n",
    "            card.__str__() for card in d3ck_list\n",
    "        ], \n",
    "        cardNo_list\n",
    "    )\n",
    ")"
   ]
  },
  {
   "cell_type": "code",
   "execution_count": 76,
   "metadata": {
    "ExecuteTime": {
     "end_time": "2019-05-28T14:17:29.610007Z",
     "start_time": "2019-05-28T14:17:29.605013Z"
    }
   },
   "outputs": [],
   "source": [
    "class D3ck:\n",
    "    \"\"\"Represents a deck of cards.\n",
    "\n",
    "    Attributes:\n",
    "      cards: list of Card objects.\n",
    "    \"\"\"\n",
    "    def __init__(self):\n",
    "        \"\"\"Initializes the Deck with 52 cards.\n",
    "        \"\"\"\n",
    "        self.cards = []\n",
    "        for suit in range(4):\n",
    "            for rank in range(1, 14):\n",
    "                card = Card(suit, rank)\n",
    "                self.cards.append(card)\n",
    "\n",
    "    def __str__(self):\n",
    "        \"\"\"Returns a string representation of the deck.\n",
    "        \"\"\"\n",
    "        res = []\n",
    "        for card in self.cards:\n",
    "            res.append(str(card))\n",
    "        return '\\n'.join(res)"
   ]
  },
  {
   "cell_type": "code",
   "execution_count": 81,
   "metadata": {
    "ExecuteTime": {
     "end_time": "2019-05-28T14:29:50.952022Z",
     "start_time": "2019-05-28T14:29:50.941027Z"
    }
   },
   "outputs": [
    {
     "ename": "AttributeError",
     "evalue": "type object 'D3ck' has no attribute 'cards'",
     "output_type": "error",
     "traceback": [
      "\u001b[1;31m----------------------------------------\u001b[0m",
      "\u001b[1;31mAttributeError\u001b[0mTraceback (most recent call last)",
      "\u001b[1;32m<ipython-input-81-914f75a93dd7>\u001b[0m in \u001b[0;36m<module>\u001b[1;34m()\u001b[0m\n\u001b[0;32m      1\u001b[0m print(\n\u001b[1;32m----> 2\u001b[1;33m     \u001b[0mD3ck\u001b[0m\u001b[1;33m.\u001b[0m\u001b[0mcards\u001b[0m\u001b[1;33m\u001b[0m\u001b[0m\n\u001b[0m\u001b[0;32m      3\u001b[0m )\n",
      "\u001b[1;31mAttributeError\u001b[0m: type object 'D3ck' has no attribute 'cards'"
     ]
    }
   ],
   "source": [
    "print(\n",
    "    D3ck.cards\n",
    ")"
   ]
  },
  {
   "cell_type": "code",
   "execution_count": null,
   "metadata": {},
   "outputs": [],
   "source": [
    "cardNo_list = np.arange(52)\n",
    "np.random.shuffle(cardNo_list)\n",
    "list(cardNo_list)"
   ]
  },
  {
   "cell_type": "code",
   "execution_count": null,
   "metadata": {},
   "outputs": [],
   "source": []
  },
  {
   "cell_type": "code",
   "execution_count": null,
   "metadata": {},
   "outputs": [],
   "source": []
  },
  {
   "cell_type": "code",
   "execution_count": null,
   "metadata": {},
   "outputs": [],
   "source": []
  },
  {
   "cell_type": "code",
   "execution_count": null,
   "metadata": {},
   "outputs": [],
   "source": []
  }
 ],
 "metadata": {
  "kernelspec": {
   "display_name": "Python 3",
   "language": "python",
   "name": "python3"
  },
  "language_info": {
   "codemirror_mode": {
    "name": "ipython",
    "version": 3
   },
   "file_extension": ".py",
   "mimetype": "text/x-python",
   "name": "python",
   "nbconvert_exporter": "python",
   "pygments_lexer": "ipython3",
   "version": "3.6.5"
  }
 },
 "nbformat": 4,
 "nbformat_minor": 2
}
