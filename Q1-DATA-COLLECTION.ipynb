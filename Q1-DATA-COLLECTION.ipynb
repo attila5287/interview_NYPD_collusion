{
 "cells": [
  {
   "cell_type": "code",
   "execution_count": 1,
   "metadata": {
    "ExecuteTime": {
     "end_time": "2019-05-06T21:01:34.652413Z",
     "start_time": "2019-05-06T21:01:33.179852Z"
    }
   },
   "outputs": [],
   "source": [
    "from IPython.core.interactiveshell import InteractiveShell\n",
    "InteractiveShell.ast_node_interactivity = \"all\"\n",
    "import warnings; warnings.simplefilter('ignore')\n",
    "import pandas as pd\n",
    "import os\n",
    "import datetime as dt\n",
    "import matplotlib.pyplot as plt\n",
    "plt.style.use('fivethirtyeight')"
   ]
  },
  {
   "cell_type": "code",
   "execution_count": null,
   "metadata": {
    "ExecuteTime": {
     "end_time": "2019-05-04T11:59:31.409519Z",
     "start_time": "2019-05-04T11:59:24.798694Z"
    }
   },
   "outputs": [],
   "source": [
    "FILE_NAME = 'NYC_trafficAccidents.csv'\n",
    "master_df = pd.read_csv(FILE_NAME)\n",
    "master_df.head()"
   ]
  },
  {
   "cell_type": "code",
   "execution_count": null,
   "metadata": {
    "ExecuteTime": {
     "end_time": "2019-05-04T11:59:33.489674Z",
     "start_time": "2019-05-04T11:59:33.448697Z"
    }
   },
   "outputs": [],
   "source": [
    "focus_df = master_df[['DATE', 'NUMBER OF PERSONS INJURED']]\n",
    "focus_df.head()\n",
    "focus_df.dtypes"
   ]
  },
  {
   "cell_type": "code",
   "execution_count": null,
   "metadata": {
    "ExecuteTime": {
     "end_time": "2019-05-04T11:59:35.537509Z",
     "start_time": "2019-05-04T11:59:35.216681Z"
    }
   },
   "outputs": [],
   "source": [
    "focus_df['dat3'] = [ date[-4:] for date in focus_df['DATE']]\n",
    "focus_df.dtypes"
   ]
  },
  {
   "cell_type": "code",
   "execution_count": null,
   "metadata": {
    "ExecuteTime": {
     "end_time": "2019-05-04T11:59:38.021085Z",
     "start_time": "2019-05-04T11:59:37.230525Z"
    }
   },
   "outputs": [],
   "source": [
    "focus_df['dat3x'] = [\n",
    "    int(date) for date in focus_df['dat3']\n",
    "]"
   ]
  },
  {
   "cell_type": "code",
   "execution_count": null,
   "metadata": {
    "ExecuteTime": {
     "end_time": "2019-05-04T11:59:39.732090Z",
     "start_time": "2019-05-04T11:59:39.718095Z"
    }
   },
   "outputs": [],
   "source": [
    "focus_df.head()\n",
    "focus_df.dtypes"
   ]
  },
  {
   "cell_type": "code",
   "execution_count": null,
   "metadata": {
    "ExecuteTime": {
     "end_time": "2019-05-04T11:59:41.663018Z",
     "start_time": "2019-05-04T11:59:41.462094Z"
    }
   },
   "outputs": [],
   "source": [
    "grp_df = focus_df.groupby('dat3x').sum()"
   ]
  },
  {
   "cell_type": "code",
   "execution_count": null,
   "metadata": {
    "ExecuteTime": {
     "end_time": "2019-05-04T11:59:43.380991Z",
     "start_time": "2019-05-04T11:59:43.373996Z"
    }
   },
   "outputs": [],
   "source": [
    "grp_df.sum()"
   ]
  },
  {
   "cell_type": "code",
   "execution_count": null,
   "metadata": {
    "ExecuteTime": {
     "end_time": "2019-05-04T11:59:45.124990Z",
     "start_time": "2019-05-04T11:59:45.117995Z"
    }
   },
   "outputs": [],
   "source": [
    "grp_df[:-1].sum()\n",
    "         "
   ]
  },
  {
   "cell_type": "markdown",
   "metadata": {},
   "source": [
    "### MINIMIZE DATASET WORK WITH FOCUSED"
   ]
  },
  {
   "cell_type": "code",
   "execution_count": null,
   "metadata": {
    "ExecuteTime": {
     "end_time": "2019-05-04T13:19:48.325418Z",
     "start_time": "2019-05-04T13:19:48.272451Z"
    }
   },
   "outputs": [],
   "source": [
    "boro_df = master_df[['DATE', 'BOROUGH' ,'UNIQUE KEY']]\n",
    "# master_df.columns\n",
    "boro_df.head()"
   ]
  },
  {
   "cell_type": "code",
   "execution_count": null,
   "metadata": {
    "ExecuteTime": {
     "end_time": "2019-05-04T13:19:52.284559Z",
     "start_time": "2019-05-04T13:19:51.894368Z"
    }
   },
   "outputs": [],
   "source": [
    "boro_df['ye4r'] = [ date[-4:] for date in boro_df['DATE']]\n",
    "boro_df.head()"
   ]
  },
  {
   "cell_type": "code",
   "execution_count": null,
   "metadata": {
    "ExecuteTime": {
     "end_time": "2019-05-04T13:21:06.911905Z",
     "start_time": "2019-05-04T13:21:06.556111Z"
    }
   },
   "outputs": [],
   "source": [
    "boro_df.dropna(inplace=True)\n",
    "boro_df.head()"
   ]
  },
  {
   "cell_type": "code",
   "execution_count": null,
   "metadata": {
    "ExecuteTime": {
     "end_time": "2019-05-04T13:31:30.305106Z",
     "start_time": "2019-05-04T13:31:30.219155Z"
    }
   },
   "outputs": [],
   "source": [
    "boro_df = boro_df[['UNIQUE KEY','BOROUGH', 'ye4r']]\n",
    "boro_df.head()"
   ]
  },
  {
   "cell_type": "code",
   "execution_count": null,
   "metadata": {
    "ExecuteTime": {
     "end_time": "2019-05-04T13:32:29.283507Z",
     "start_time": "2019-05-04T13:32:29.063634Z"
    }
   },
   "outputs": [],
   "source": [
    "final_df = boro_df.groupby(['ye4r', 'BOROUGH']).count()\n",
    "final_df.reset_index(inplace=True)\n",
    "final_df.head()"
   ]
  },
  {
   "cell_type": "code",
   "execution_count": null,
   "metadata": {
    "ExecuteTime": {
     "end_time": "2019-05-04T13:46:13.571485Z",
     "start_time": "2019-05-04T13:46:13.562491Z"
    }
   },
   "outputs": [],
   "source": [
    "pivot_df = final_df.pivot(\n",
    "    index = 'ye4r',\n",
    "    columns = 'BOROUGH',\n",
    "    values = 'UNIQUE KEY'    \n",
    ")"
   ]
  },
  {
   "cell_type": "code",
   "execution_count": null,
   "metadata": {
    "ExecuteTime": {
     "end_time": "2019-05-04T13:57:09.547762Z",
     "start_time": "2019-05-04T13:57:09.537767Z"
    }
   },
   "outputs": [],
   "source": [
    "pivot_df"
   ]
  },
  {
   "cell_type": "code",
   "execution_count": null,
   "metadata": {
    "ExecuteTime": {
     "end_time": "2019-05-04T13:47:24.812426Z",
     "start_time": "2019-05-04T13:47:24.671626Z"
    }
   },
   "outputs": [],
   "source": [
    "boro_list = pivot_df.columns[:4]\n",
    "print(boro_list)\n",
    "for boro in boro_list:\n",
    "    plt.plot(\n",
    "    pivot_df.index,\n",
    "    pivot_df[boro]\n",
    "    )\n",
    "plt.show()\n",
    "    \n",
    "    "
   ]
  },
  {
   "cell_type": "code",
   "execution_count": null,
   "metadata": {
    "ExecuteTime": {
     "end_time": "2019-05-04T14:23:07.995090Z",
     "start_time": "2019-05-04T14:23:07.990094Z"
    }
   },
   "outputs": [],
   "source": [
    "# print only last output \n",
    "from IPython.core.interactiveshell import InteractiveShell\n",
    "InteractiveShell.ast_node_interactivity = \"last\""
   ]
  },
  {
   "cell_type": "code",
   "execution_count": null,
   "metadata": {
    "ExecuteTime": {
     "end_time": "2019-05-04T14:26:42.526462Z",
     "start_time": "2019-05-04T14:26:41.941799Z"
    }
   },
   "outputs": [],
   "source": [
    "fig, axes = plt.subplots(2,2, figsize=(10, 5), sharex=True,sharey=True)\n",
    "color_list = [\n",
    "'firebrick',\n",
    "'rebeccapurple',\n",
    "'lightcoral',\n",
    "'steelblue'\n",
    "]\n",
    "\n",
    "plt.xticks(rotation= 90)\n",
    "\n",
    "for ax, column, color in zip(axes.flatten(), pivot_df.columns, color_list):\n",
    "# for ax, feature, name in zip(axes.flatten(), data.data.T, data.feature_names):\n",
    "#     ax.hist(feature, bins=len(np.unique(data.data.T[0]))//2)\n",
    "    plt.xticks(rotation= 90)\n",
    "    numPers_list = []\n",
    "    numPers_list = pivot_df[column].astype(dtype=int, inplace=True)\n",
    "    ax.plot(list(pivot_df[column]), linewidth=0.5, color = color, marker = 'o', label = column)\n",
    "    ax.legend(loc = 'best')\n",
    "\n",
    "plt.show()\n",
    "fig.savefig('nyc_accidents.png')\n"
   ]
  },
  {
   "cell_type": "code",
   "execution_count": null,
   "metadata": {},
   "outputs": [],
   "source": []
  },
  {
   "cell_type": "code",
   "execution_count": null,
   "metadata": {},
   "outputs": [],
   "source": []
  },
  {
   "cell_type": "code",
   "execution_count": null,
   "metadata": {},
   "outputs": [],
   "source": []
  },
  {
   "cell_type": "code",
   "execution_count": null,
   "metadata": {},
   "outputs": [],
   "source": []
  },
  {
   "cell_type": "code",
   "execution_count": null,
   "metadata": {},
   "outputs": [],
   "source": []
  },
  {
   "cell_type": "code",
   "execution_count": null,
   "metadata": {},
   "outputs": [],
   "source": []
  }
 ],
 "metadata": {
  "kernelspec": {
   "display_name": "Python 3",
   "language": "python",
   "name": "python3"
  },
  "language_info": {
   "codemirror_mode": {
    "name": "ipython",
    "version": 3
   },
   "file_extension": ".py",
   "mimetype": "text/x-python",
   "name": "python",
   "nbconvert_exporter": "python",
   "pygments_lexer": "ipython3",
   "version": "3.6.5"
  },
  "varInspector": {
   "cols": {
    "lenName": 16,
    "lenType": 16,
    "lenVar": 40
   },
   "kernels_config": {
    "python": {
     "delete_cmd_postfix": "",
     "delete_cmd_prefix": "del ",
     "library": "var_list.py",
     "varRefreshCmd": "print(var_dic_list())"
    },
    "r": {
     "delete_cmd_postfix": ") ",
     "delete_cmd_prefix": "rm(",
     "library": "var_list.r",
     "varRefreshCmd": "cat(var_dic_list()) "
    }
   },
   "types_to_exclude": [
    "module",
    "function",
    "builtin_function_or_method",
    "instance",
    "_Feature"
   ],
   "window_display": false
  }
 },
 "nbformat": 4,
 "nbformat_minor": 2
}
