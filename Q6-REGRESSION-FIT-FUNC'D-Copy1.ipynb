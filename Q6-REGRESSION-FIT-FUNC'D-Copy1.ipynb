{
 "cells": [
  {
   "cell_type": "code",
   "execution_count": 8,
   "metadata": {
    "ExecuteTime": {
     "end_time": "2019-05-16T08:06:00.882573Z",
     "start_time": "2019-05-16T08:06:00.879579Z"
    }
   },
   "outputs": [],
   "source": [
    "# Q-6: Consider the total number of collisions each year from 2013-2018. \n",
    "# * Is there an apparent trend? \n",
    "# * Fit a linear regression for the number of collisions per year and report its slope."
   ]
  },
  {
   "cell_type": "code",
   "execution_count": 9,
   "metadata": {
    "ExecuteTime": {
     "end_time": "2019-05-16T08:06:02.530339Z",
     "start_time": "2019-05-16T08:06:01.060138Z"
    }
   },
   "outputs": [],
   "source": [
    "from IPython.core.interactiveshell import InteractiveShell\n",
    "InteractiveShell.ast_node_interactivity = \"all\"\n",
    "import warnings; warnings.simplefilter('ignore')\n",
    "import pandas as pd\n",
    "import os\n",
    "import matplotlib.pyplot as plt\n",
    "import seaborn as sns\n",
    "plt.style.use('fivethirtyeight')"
   ]
  },
  {
   "cell_type": "code",
   "execution_count": 10,
   "metadata": {
    "ExecuteTime": {
     "end_time": "2019-05-16T08:06:02.558971Z",
     "start_time": "2019-05-16T08:06:02.550974Z"
    }
   },
   "outputs": [],
   "source": [
    "def dataFram3NYC(FILE_NAME = 'NYPD_Motor_Vehicle_Collisions.csv', use_parent_dir = False):\n",
    "    \"\"\"\n",
    "    READS ~1,5 MILLION ROW CSV FILE, RETURNS MASTER DATAFRAME\n",
    "    use_parent_dir will use parent directory as base directory\n",
    "    \"\"\"\n",
    "    if use_parent_dir == True:\n",
    "        CURRENTWRK_DIR = os.getcwd()\n",
    "        BASE_DIR = os.path.dirname(CURRENTWRK_DIR)\n",
    "    elif use_parent_dir == False:\n",
    "        BASE_DIR = os.getcwd()\n",
    "        \n",
    "#     STATIC_FOLDER = os.path.dirname(BASE_DIR)\n",
    "    STATIC_FOLDER = ''\n",
    "    # FILE_NAME = 'NYPD_Motor_Vehicle_Collisions.csv'\n",
    "    PATH_COMPILED = os.path.join( BASE_DIR, STATIC_FOLDER, FILE_NAME)\n",
    "    print('\\n> > > > dataFrameNYC() now reading csv with file path below')\n",
    "    print(PATH_COMPILED)\n",
    "    print()\n",
    "    _df = pd.read_csv(PATH_COMPILED, encoding = \"iso-8859-1\", low_memory = False)\n",
    "    col_list = list(_df.columns)\n",
    "    col_ind3x = np.arange(len(col_list))\n",
    "    col_dict = dict(zip( col_ind3x, col_list))\n",
    "    print(col_dict)\n",
    "    return _df"
   ]
  },
  {
   "cell_type": "code",
   "execution_count": 11,
   "metadata": {
    "ExecuteTime": {
     "end_time": "2019-05-16T08:06:02.600978Z",
     "start_time": "2019-05-16T08:06:02.578959Z"
    },
    "scrolled": false
   },
   "outputs": [],
   "source": [
    "def focusDataframer(columns2keep_list = [0,23]):\n",
    "    \"\"\"\n",
    "    MODIFIED DATA FRAMER, PRINTS OUT ALL COLUMN INDEX/NAMES, \n",
    "    REQUIRES A LIST OF REQUESTED COLUMN INDEXES AS INTEGERS\n",
    "    RETURNS A DATAFRAME WITH ONLY USER-SELECTED COLUMNS\n",
    "    \"\"\"\n",
    "    pass\n",
    "    raw_df = dataFram3NYC(use_parent_dir=True)\n",
    "    col_list = list(raw_df.columns)\n",
    "    col_ind3x = np.arange(len(col_list))\n",
    "    col_dict = dict(zip( col_ind3x, col_list))\n",
    "    col_final = []\n",
    "    for index in columns2keep_list:\n",
    "        add_this_column = col_dict[index]\n",
    "        col_final.append(add_this_column)\n",
    "    col_final = [\n",
    "        str(index)\n",
    "        for index in col_final\n",
    "    ]\n",
    "    _df = raw_df[\n",
    "        col_final\n",
    "    ]\n",
    "    print()\n",
    "    print('> > > focusDataframer(columns2keep_list = [indexNo_as_int00, indexNo_as_int01]')\n",
    "    print('> > >                * selected columns:')\n",
    "    for selected_col,keepthis in zip(columns2keep_list,col_final):\n",
    "        print('> > >                                  ', selected_col,' keeps ', keepthis)\n",
    "    return _df"
   ]
  },
  {
   "cell_type": "code",
   "execution_count": 12,
   "metadata": {
    "ExecuteTime": {
     "end_time": "2019-05-16T08:06:02.681952Z",
     "start_time": "2019-05-16T08:06:02.621964Z"
    },
    "scrolled": true
   },
   "outputs": [],
   "source": [
    "def solution06of08():\n",
    "\n",
    "    def gr0upYearByCollusionCount(focus_df = focusDataframer([0,23])):\n",
    "        \"\"\"\n",
    "        REQUIRES A DATAFRAME WITH A TARGET FIELD NAMED 'DATE',\n",
    "        GROUP YEAR BY COLLUSION COUNT\n",
    "        \"\"\"\n",
    "        pass\n",
    "        print()\n",
    "        print('> > > > gr0upYearByCollusionCount() calculated collusion count under year: ')\n",
    "        focus_df['ye4r'] = [date[-4:] for date in focus_df['DATE']]\n",
    "        gr0uped_df = focus_df.groupby('ye4r').count().drop(columns = 'DATE')\n",
    "        gr0uped_df['c0llusionCount'] = [\n",
    "            collusionCount\n",
    "            for collusionCount in gr0uped_df['UNIQUE KEY']\n",
    "        ]\n",
    "        gr0uped_df = gr0uped_df.drop(columns='UNIQUE KEY')\n",
    "        check_row_total = gr0uped_df.sum()[0]\n",
    "        print('> > > > check if sum of all yearly collusion counts add up total row number {:,}'.format(check_row_total))\n",
    "        print('> > > >                                                                     1,487,383 expected []')\n",
    "        return gr0uped_df\n",
    "    # ----------------- 1487383\n",
    "    gr0upYearByCollusionCount()\n",
    "\n",
    "    def yearLabeledCollusionCountDF(gr0uped_df = gr0upYearByCollusionCount(), \n",
    "                                 year_first = 2013, \n",
    "                                 year_last =  2018):\n",
    "        \"\"\"\n",
    "        REQUIRES GROUPED DATAFRAME WITH YEAR ON INDEX AND COLLUSION COUNT AS VALUES\n",
    "        \"\"\"\n",
    "        pass\n",
    "        print()\n",
    "        print('> > > yearLabeledCollusionCountDF() returns a _df with below years on label: ')\n",
    "        year_last += 1\n",
    "        yrs_list = [int(year) for year in np.arange(int(year_first), int(year_last))]\n",
    "        print(yrs_list)\n",
    "        yearLabel_df = gr0uped_df.T\n",
    "        yearStr_list = [str(year) for year in yrs_list]\n",
    "        return yearLabel_df[yearStr_list].T\n",
    "\n",
    "    def snsRegressionPlot(df = yearLabeledCollusionCountDF().T, yTarget='c0llusionCount',gr0up_df=yearLabeledCollusionCountDF()):\n",
    "        \"\"\"df is a pivoted dataframe,\n",
    "        yTarget is the value to be predicted\n",
    "        ----default is 'United States'\n",
    "        returns plot with regression\n",
    "        \"\"\"\n",
    "        c0lorList=['coral', 'goldenrod', 'salmon', 'orangered', 'darkolivegreen', 'olivedrab',\n",
    "                   'cadetblue', 'palevioletred', 'mediumorchid', 'darkorange', 'teal', 'cyan', 'aqua']\n",
    "\n",
    "        plt.rcParams[\"font.size\"] = 12\n",
    "\n",
    "        _colList_ = df.columns\n",
    "        plt.figure(figsize = (12,8))        \n",
    "        plt.title('Q6 - NO-OF-COLLUSIONS vs YEAR: TREND ANALYSIS')\n",
    "        plt.xlabel('YEAR ')\n",
    "        plt.ylabel('NUMBER OF COLLUSIONS')\n",
    "        int_for_x_axis = [\n",
    "            int(year)\n",
    "            for year in gr0up_df.index\n",
    "                         ]\n",
    "        x_axis = pd.Series(int_for_x_axis)\n",
    "        y_axis = pd.Series(gr0up_df[yTarget])\n",
    "        rand1nt = np.random.randint(0,len(c0lorList))\n",
    "        c0lor = c0lorList[rand1nt] \n",
    "        sns.regplot(y=y_axis, x=x_axis, data=df, fit_reg = True, color= c0lor, marker='o')\n",
    "        plt.grid(True)\n",
    "        plt.show()\n",
    "        return None\n",
    "\n",
    "    snsRegressionPlot()\n",
    "    # hit ctrl+enter for jedi lightsaber experience lol\n",
    "\n",
    "    # Q-6: Consider the total number of collisions each year from 2013-2018. \n",
    "    # * Is there an apparent trend? \n",
    "    # * Fit a linear regression for the number of collisions per year and report its slope.\n",
    "    return None"
   ]
  },
  {
   "cell_type": "code",
   "execution_count": 13,
   "metadata": {
    "ExecuteTime": {
     "end_time": "2019-05-16T08:06:13.269870Z",
     "start_time": "2019-05-16T08:06:02.705942Z"
    }
   },
   "outputs": [
    {
     "name": "stdout",
     "output_type": "stream",
     "text": [
      "\n",
      "> > > > dataFrameNYC() now reading csv with file path below\n",
      "C:\\Users\\DENVER\\Desktop\\interviewPY\\INT_03_PYTHON_PANDAS_NYC_COLLISION\\NYPD_Motor_Vehicle_Collisions.csv\n",
      "\n",
      "{0: 'DATE', 1: 'TIME', 2: 'BOROUGH', 3: 'ZIP CODE', 4: 'LATITUDE', 5: 'LONGITUDE', 6: 'LOCATION', 7: 'ON STREET NAME', 8: 'CROSS STREET NAME', 9: 'OFF STREET NAME', 10: 'NUMBER OF PERSONS INJURED', 11: 'NUMBER OF PERSONS KILLED', 12: 'NUMBER OF PEDESTRIANS INJURED', 13: 'NUMBER OF PEDESTRIANS KILLED', 14: 'NUMBER OF CYCLIST INJURED', 15: 'NUMBER OF CYCLIST KILLED', 16: 'NUMBER OF MOTORIST INJURED', 17: 'NUMBER OF MOTORIST KILLED', 18: 'CONTRIBUTING FACTOR VEHICLE 1', 19: 'CONTRIBUTING FACTOR VEHICLE 2', 20: 'CONTRIBUTING FACTOR VEHICLE 3', 21: 'CONTRIBUTING FACTOR VEHICLE 4', 22: 'CONTRIBUTING FACTOR VEHICLE 5', 23: 'UNIQUE KEY', 24: 'VEHICLE TYPE CODE 1', 25: 'VEHICLE TYPE CODE 2', 26: 'VEHICLE TYPE CODE 3', 27: 'VEHICLE TYPE CODE 4', 28: 'VEHICLE TYPE CODE 5'}\n",
      "\n",
      "> > > focusDataframer(columns2keep_list = [indexNo_as_int00, indexNo_as_int01]\n",
      "> > >                * selected columns:\n",
      "> > >                                   0  keeps  DATE\n",
      "> > >                                   23  keeps  UNIQUE KEY\n",
      "\n",
      "> > > > gr0upYearByCollusionCount() calculated collusion count under year: \n",
      "> > > > check if sum of all yearly collusion counts add up total row number 1,487,383\n",
      "> > > >                                                                     1,487,383 expected []\n",
      "\n",
      "> > > > gr0upYearByCollusionCount() calculated collusion count under year: \n",
      "> > > > check if sum of all yearly collusion counts add up total row number 1,487,383\n",
      "> > > >                                                                     1,487,383 expected []\n",
      "\n",
      "> > > yearLabeledCollusionCountDF() returns a _df with below years on label: \n",
      "[2013, 2014, 2015, 2016, 2017, 2018]\n",
      "\n",
      "> > > yearLabeledCollusionCountDF() returns a _df with below years on label: \n",
      "[2013, 2014, 2015, 2016, 2017, 2018]\n"
     ]
    },
    {
     "data": {
      "image/png": "[encoded data removed]",
      "text/plain": [
       "<Figure size 864x576 with 1 Axes>"
      ]
     },
     "metadata": {},
     "output_type": "display_data"
    }
   ],
   "source": [
    "solution06of08()"
   ]
  },
  {
   "cell_type": "code",
   "execution_count": null,
   "metadata": {},
   "outputs": [],
   "source": []
  },
  {
   "cell_type": "code",
   "execution_count": null,
   "metadata": {},
   "outputs": [],
   "source": []
  },
  {
   "cell_type": "code",
   "execution_count": null,
   "metadata": {},
   "outputs": [],
   "source": []
  }
 ],
 "metadata": {
  "kernelspec": {
   "display_name": "Python 3",
   "language": "python",
   "name": "python3"
  },
  "language_info": {
   "codemirror_mode": {
    "name": "ipython",
    "version": 3
   },
   "file_extension": ".py",
   "mimetype": "text/x-python",
   "name": "python",
   "nbconvert_exporter": "python",
   "pygments_lexer": "ipython3",
   "version": "3.6.5"
  },
  "varInspector": {
   "cols": {
    "lenName": 16,
    "lenType": 16,
    "lenVar": 40
   },
   "kernels_config": {
    "python": {
     "delete_cmd_postfix": "",
     "delete_cmd_prefix": "del ",
     "library": "var_list.py",
     "varRefreshCmd": "print(var_dic_list())"
    },
    "r": {
     "delete_cmd_postfix": ") ",
     "delete_cmd_prefix": "rm(",
     "library": "var_list.r",
     "varRefreshCmd": "cat(var_dic_list()) "
    }
   },
   "types_to_exclude": [
    "module",
    "function",
    "builtin_function_or_method",
    "instance",
    "_Feature"
   ],
   "window_display": false
  }
 },
 "nbformat": 4,
 "nbformat_minor": 2
}
