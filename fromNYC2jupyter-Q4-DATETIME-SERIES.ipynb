{
 "cells": [
  {
   "cell_type": "code",
   "execution_count": 1,
   "metadata": {
    "ExecuteTime": {
     "end_time": "2019-05-08T12:12:58.179533Z",
     "start_time": "2019-05-08T12:12:56.297599Z"
    }
   },
   "outputs": [],
   "source": [
    "from IPython.core.interactiveshell import InteractiveShell\n",
    "InteractiveShell.ast_node_interactivity = \"all\"\n",
    "import warnings; warnings.simplefilter('ignore')\n",
    "import pandas as pd\n",
    "import os\n",
    "import matplotlib.pyplot as plt\n",
    "plt.style.use('fivethirtyeight')"
   ]
  },
  {
   "cell_type": "markdown",
   "metadata": {},
   "source": [
    "Q-4: For each borough, compute the number of accidents per capita involving alcohol in 2017. Report the highest rate among the 5 boroughs. Use populations as given by https://en.wikipedia.org/wiki/Demographics_of_New_York_City."
   ]
  },
  {
   "cell_type": "code",
   "execution_count": 7,
   "metadata": {
    "ExecuteTime": {
     "end_time": "2019-05-08T12:13:22.328378Z",
     "start_time": "2019-05-08T12:13:15.138536Z"
    }
   },
   "outputs": [
    {
     "data": {
      "text/html": [
       "<div>\n",
       "<style scoped>\n",
       "    .dataframe tbody tr th:only-of-type {\n",
       "        vertical-align: middle;\n",
       "    }\n",
       "\n",
       "    .dataframe tbody tr th {\n",
       "        vertical-align: top;\n",
       "    }\n",
       "\n",
       "    .dataframe thead th {\n",
       "        text-align: right;\n",
       "    }\n",
       "</style>\n",
       "<table border=\"1\" class=\"dataframe\">\n",
       "  <thead>\n",
       "    <tr style=\"text-align: right;\">\n",
       "      <th></th>\n",
       "      <th>DATE</th>\n",
       "      <th>TIME</th>\n",
       "      <th>BOROUGH</th>\n",
       "      <th>ZIP CODE</th>\n",
       "      <th>LATITUDE</th>\n",
       "      <th>LONGITUDE</th>\n",
       "      <th>LOCATION</th>\n",
       "      <th>ON STREET NAME</th>\n",
       "      <th>CROSS STREET NAME</th>\n",
       "      <th>OFF STREET NAME</th>\n",
       "      <th>...</th>\n",
       "      <th>CONTRIBUTING FACTOR VEHICLE 2</th>\n",
       "      <th>CONTRIBUTING FACTOR VEHICLE 3</th>\n",
       "      <th>CONTRIBUTING FACTOR VEHICLE 4</th>\n",
       "      <th>CONTRIBUTING FACTOR VEHICLE 5</th>\n",
       "      <th>UNIQUE KEY</th>\n",
       "      <th>VEHICLE TYPE CODE 1</th>\n",
       "      <th>VEHICLE TYPE CODE 2</th>\n",
       "      <th>VEHICLE TYPE CODE 3</th>\n",
       "      <th>VEHICLE TYPE CODE 4</th>\n",
       "      <th>VEHICLE TYPE CODE 5</th>\n",
       "    </tr>\n",
       "  </thead>\n",
       "  <tbody>\n",
       "    <tr>\n",
       "      <th>0</th>\n",
       "      <td>04/30/2019</td>\n",
       "      <td>0:00</td>\n",
       "      <td>BROOKLYN</td>\n",
       "      <td>11222</td>\n",
       "      <td>40.727184</td>\n",
       "      <td>-73.950700</td>\n",
       "      <td>(40.727184, -73.9507)</td>\n",
       "      <td>NaN</td>\n",
       "      <td>NaN</td>\n",
       "      <td>236       ECKFORD STREET</td>\n",
       "      <td>...</td>\n",
       "      <td>Unspecified</td>\n",
       "      <td>NaN</td>\n",
       "      <td>NaN</td>\n",
       "      <td>NaN</td>\n",
       "      <td>4123208</td>\n",
       "      <td>Sedan</td>\n",
       "      <td>Station Wagon/Sport Utility Vehicle</td>\n",
       "      <td>NaN</td>\n",
       "      <td>NaN</td>\n",
       "      <td>NaN</td>\n",
       "    </tr>\n",
       "    <tr>\n",
       "      <th>1</th>\n",
       "      <td>04/30/2019</td>\n",
       "      <td>0:00</td>\n",
       "      <td>MANHATTAN</td>\n",
       "      <td>10075</td>\n",
       "      <td>40.776318</td>\n",
       "      <td>-73.962135</td>\n",
       "      <td>(40.776318, -73.962135)</td>\n",
       "      <td>EAST 79 STREET</td>\n",
       "      <td>MADISON AVENUE</td>\n",
       "      <td>NaN</td>\n",
       "      <td>...</td>\n",
       "      <td>Unspecified</td>\n",
       "      <td>NaN</td>\n",
       "      <td>NaN</td>\n",
       "      <td>NaN</td>\n",
       "      <td>4123128</td>\n",
       "      <td>Station Wagon/Sport Utility Vehicle</td>\n",
       "      <td>Ambulance</td>\n",
       "      <td>NaN</td>\n",
       "      <td>NaN</td>\n",
       "      <td>NaN</td>\n",
       "    </tr>\n",
       "  </tbody>\n",
       "</table>\n",
       "<p>2 rows × 29 columns</p>\n",
       "</div>"
      ],
      "text/plain": [
       "         DATE  TIME    BOROUGH ZIP CODE   LATITUDE  LONGITUDE  \\\n",
       "0  04/30/2019  0:00   BROOKLYN    11222  40.727184 -73.950700   \n",
       "1  04/30/2019  0:00  MANHATTAN    10075  40.776318 -73.962135   \n",
       "\n",
       "                  LOCATION                    ON STREET NAME  \\\n",
       "0    (40.727184, -73.9507)                               NaN   \n",
       "1  (40.776318, -73.962135)  EAST 79 STREET                     \n",
       "\n",
       "  CROSS STREET NAME                           OFF STREET NAME  \\\n",
       "0               NaN  236       ECKFORD STREET                   \n",
       "1    MADISON AVENUE                                       NaN   \n",
       "\n",
       "          ...          CONTRIBUTING FACTOR VEHICLE 2  \\\n",
       "0         ...                            Unspecified   \n",
       "1         ...                            Unspecified   \n",
       "\n",
       "   CONTRIBUTING FACTOR VEHICLE 3  CONTRIBUTING FACTOR VEHICLE 4  \\\n",
       "0                            NaN                            NaN   \n",
       "1                            NaN                            NaN   \n",
       "\n",
       "   CONTRIBUTING FACTOR VEHICLE 5  UNIQUE KEY  \\\n",
       "0                            NaN     4123208   \n",
       "1                            NaN     4123128   \n",
       "\n",
       "                   VEHICLE TYPE CODE 1                  VEHICLE TYPE CODE 2  \\\n",
       "0                                Sedan  Station Wagon/Sport Utility Vehicle   \n",
       "1  Station Wagon/Sport Utility Vehicle                            Ambulance   \n",
       "\n",
       "   VEHICLE TYPE CODE 3 VEHICLE TYPE CODE 4 VEHICLE TYPE CODE 5  \n",
       "0                  NaN                 NaN                 NaN  \n",
       "1                  NaN                 NaN                 NaN  \n",
       "\n",
       "[2 rows x 29 columns]"
      ]
     },
     "execution_count": 7,
     "metadata": {},
     "output_type": "execute_result"
    }
   ],
   "source": [
    "FILE_NAME = 'NYPD_Motor_Vehicle_Collisions.csv'\n",
    "master_df = pd.read_csv(FILE_NAME)\n",
    "master_df.head(2)"
   ]
  },
  {
   "cell_type": "code",
   "execution_count": 8,
   "metadata": {
    "ExecuteTime": {
     "end_time": "2019-05-08T12:13:23.184788Z",
     "start_time": "2019-05-08T12:13:23.177294Z"
    }
   },
   "outputs": [],
   "source": [
    "fileName_population2017NYC = 'nyc_demograph_2017.csv'\n",
    "demographic_df = pd.read_csv(fileName_population2017NYC)"
   ]
  },
  {
   "cell_type": "code",
   "execution_count": 9,
   "metadata": {
    "ExecuteTime": {
     "end_time": "2019-05-08T12:13:24.076613Z",
     "start_time": "2019-05-08T12:13:24.070124Z"
    }
   },
   "outputs": [
    {
     "data": {
      "text/plain": [
       "Index(['Jurisdiction', 'PopulationEst2017'], dtype='object')"
      ]
     },
     "execution_count": 9,
     "metadata": {},
     "output_type": "execute_result"
    }
   ],
   "source": [
    "demographic_df.columns\n",
    "demographic_df.set_index('Jurisdiction', inplace = True)"
   ]
  },
  {
   "cell_type": "code",
   "execution_count": 10,
   "metadata": {
    "ExecuteTime": {
     "end_time": "2019-05-08T12:13:25.116175Z",
     "start_time": "2019-05-08T12:13:25.102700Z"
    }
   },
   "outputs": [
    {
     "data": {
      "text/html": [
       "<div>\n",
       "<style scoped>\n",
       "    .dataframe tbody tr th:only-of-type {\n",
       "        vertical-align: middle;\n",
       "    }\n",
       "\n",
       "    .dataframe tbody tr th {\n",
       "        vertical-align: top;\n",
       "    }\n",
       "\n",
       "    .dataframe thead th {\n",
       "        text-align: right;\n",
       "    }\n",
       "</style>\n",
       "<table border=\"1\" class=\"dataframe\">\n",
       "  <thead>\n",
       "    <tr style=\"text-align: right;\">\n",
       "      <th>Jurisdiction</th>\n",
       "      <th>Bronx</th>\n",
       "      <th>Brooklyn</th>\n",
       "      <th>Manhattan</th>\n",
       "      <th>Queens</th>\n",
       "      <th>Staten Island</th>\n",
       "    </tr>\n",
       "  </thead>\n",
       "  <tbody>\n",
       "    <tr>\n",
       "      <th>PopulationEst2017</th>\n",
       "      <td>1471160</td>\n",
       "      <td>2648771</td>\n",
       "      <td>1664727</td>\n",
       "      <td>2358582</td>\n",
       "      <td>479458</td>\n",
       "    </tr>\n",
       "  </tbody>\n",
       "</table>\n",
       "</div>"
      ],
      "text/plain": [
       "Jurisdiction         Bronx  Brooklyn  Manhattan   Queens  Staten Island\n",
       "PopulationEst2017  1471160   2648771    1664727  2358582         479458"
      ]
     },
     "execution_count": 10,
     "metadata": {},
     "output_type": "execute_result"
    }
   ],
   "source": [
    "demoT_df = demographic_df.T\n",
    "demoT_df"
   ]
  },
  {
   "cell_type": "code",
   "execution_count": 11,
   "metadata": {
    "ExecuteTime": {
     "end_time": "2019-05-08T12:13:26.201654Z",
     "start_time": "2019-05-08T12:13:26.182190Z"
    }
   },
   "outputs": [
    {
     "name": "stdout",
     "output_type": "stream",
     "text": [
      "Bronx\n"
     ]
    },
    {
     "data": {
      "text/plain": [
       "1471160"
      ]
     },
     "execution_count": 11,
     "metadata": {},
     "output_type": "execute_result"
    },
    {
     "name": "stdout",
     "output_type": "stream",
     "text": [
      "Brooklyn\n"
     ]
    },
    {
     "data": {
      "text/plain": [
       "2648771"
      ]
     },
     "execution_count": 11,
     "metadata": {},
     "output_type": "execute_result"
    },
    {
     "name": "stdout",
     "output_type": "stream",
     "text": [
      "Manhattan\n"
     ]
    },
    {
     "data": {
      "text/plain": [
       "1664727"
      ]
     },
     "execution_count": 11,
     "metadata": {},
     "output_type": "execute_result"
    },
    {
     "name": "stdout",
     "output_type": "stream",
     "text": [
      "Queens\n"
     ]
    },
    {
     "data": {
      "text/plain": [
       "2358582"
      ]
     },
     "execution_count": 11,
     "metadata": {},
     "output_type": "execute_result"
    },
    {
     "name": "stdout",
     "output_type": "stream",
     "text": [
      "Staten Island\n"
     ]
    },
    {
     "data": {
      "text/plain": [
       "479458"
      ]
     },
     "execution_count": 11,
     "metadata": {},
     "output_type": "execute_result"
    }
   ],
   "source": [
    "for boro in demoT_df:\n",
    "    print(boro)\n",
    "    demoT_df[boro][0]"
   ]
  },
  {
   "cell_type": "code",
   "execution_count": 12,
   "metadata": {
    "ExecuteTime": {
     "end_time": "2019-05-08T12:13:27.294119Z",
     "start_time": "2019-05-08T12:13:27.287630Z"
    },
    "scrolled": true
   },
   "outputs": [
    {
     "data": {
      "text/plain": [
       "Index(['DATE', 'TIME', 'BOROUGH', 'ZIP CODE', 'LATITUDE', 'LONGITUDE',\n",
       "       'LOCATION', 'ON STREET NAME', 'CROSS STREET NAME', 'OFF STREET NAME',\n",
       "       'NUMBER OF PERSONS INJURED', 'NUMBER OF PERSONS KILLED',\n",
       "       'NUMBER OF PEDESTRIANS INJURED', 'NUMBER OF PEDESTRIANS KILLED',\n",
       "       'NUMBER OF CYCLIST INJURED', 'NUMBER OF CYCLIST KILLED',\n",
       "       'NUMBER OF MOTORIST INJURED', 'NUMBER OF MOTORIST KILLED',\n",
       "       'CONTRIBUTING FACTOR VEHICLE 1', 'CONTRIBUTING FACTOR VEHICLE 2',\n",
       "       'CONTRIBUTING FACTOR VEHICLE 3', 'CONTRIBUTING FACTOR VEHICLE 4',\n",
       "       'CONTRIBUTING FACTOR VEHICLE 5', 'UNIQUE KEY', 'VEHICLE TYPE CODE 1',\n",
       "       'VEHICLE TYPE CODE 2', 'VEHICLE TYPE CODE 3', 'VEHICLE TYPE CODE 4',\n",
       "       'VEHICLE TYPE CODE 5'],\n",
       "      dtype='object')"
      ]
     },
     "execution_count": 12,
     "metadata": {},
     "output_type": "execute_result"
    }
   ],
   "source": [
    "master_df.columns"
   ]
  },
  {
   "cell_type": "code",
   "execution_count": 13,
   "metadata": {
    "ExecuteTime": {
     "end_time": "2019-05-08T12:13:28.333222Z",
     "start_time": "2019-05-08T12:13:28.289765Z"
    }
   },
   "outputs": [],
   "source": [
    "anything2drink_df = master_df[[\n",
    "    'DATE',\n",
    "    'BOROUGH',\n",
    "    'CONTRIBUTING FACTOR VEHICLE 1'\n",
    "    ]]"
   ]
  },
  {
   "cell_type": "code",
   "execution_count": 14,
   "metadata": {
    "ExecuteTime": {
     "end_time": "2019-05-08T12:13:29.877806Z",
     "start_time": "2019-05-08T12:13:29.151660Z"
    }
   },
   "outputs": [],
   "source": [
    "anything2drink_df['dat3'] = [date[-4:] for date in anything2drink_df['DATE']]\n",
    "anything2drink_df = anything2drink_df.loc[anything2drink_df['dat3'] == '2017']"
   ]
  },
  {
   "cell_type": "code",
   "execution_count": 15,
   "metadata": {
    "ExecuteTime": {
     "end_time": "2019-05-08T12:13:30.775164Z",
     "start_time": "2019-05-08T12:13:30.693786Z"
    }
   },
   "outputs": [],
   "source": [
    "anything2drink_df = anything2drink_df.drop(columns=['DATE']).dropna()"
   ]
  },
  {
   "cell_type": "code",
   "execution_count": 16,
   "metadata": {
    "ExecuteTime": {
     "end_time": "2019-05-08T12:13:31.620591Z",
     "start_time": "2019-05-08T12:13:31.571183Z"
    }
   },
   "outputs": [],
   "source": [
    "percapita_df = anything2drink_df.groupby(['dat3', 'BOROUGH',\n",
    "                           'CONTRIBUTING FACTOR VEHICLE 1']).count()"
   ]
  },
  {
   "cell_type": "code",
   "execution_count": 17,
   "metadata": {
    "ExecuteTime": {
     "end_time": "2019-05-08T12:13:32.478993Z",
     "start_time": "2019-05-08T12:13:32.455537Z"
    }
   },
   "outputs": [
    {
     "data": {
      "text/html": [
       "<div>\n",
       "<style scoped>\n",
       "    .dataframe tbody tr th:only-of-type {\n",
       "        vertical-align: middle;\n",
       "    }\n",
       "\n",
       "    .dataframe tbody tr th {\n",
       "        vertical-align: top;\n",
       "    }\n",
       "\n",
       "    .dataframe thead th {\n",
       "        text-align: right;\n",
       "    }\n",
       "</style>\n",
       "<table border=\"1\" class=\"dataframe\">\n",
       "  <thead>\n",
       "    <tr style=\"text-align: right;\">\n",
       "      <th></th>\n",
       "      <th></th>\n",
       "      <th></th>\n",
       "    </tr>\n",
       "    <tr>\n",
       "      <th>dat3</th>\n",
       "      <th>BOROUGH</th>\n",
       "      <th>CONTRIBUTING FACTOR VEHICLE 1</th>\n",
       "    </tr>\n",
       "  </thead>\n",
       "  <tbody>\n",
       "    <tr>\n",
       "      <th rowspan=\"61\" valign=\"top\">2017</th>\n",
       "      <th rowspan=\"30\" valign=\"top\">BRONX</th>\n",
       "      <th>Accelerator Defective</th>\n",
       "    </tr>\n",
       "    <tr>\n",
       "      <th>Aggressive Driving/Road Rage</th>\n",
       "    </tr>\n",
       "    <tr>\n",
       "      <th>Alcohol Involvement</th>\n",
       "    </tr>\n",
       "    <tr>\n",
       "      <th>Animals Action</th>\n",
       "    </tr>\n",
       "    <tr>\n",
       "      <th>Backing Unsafely</th>\n",
       "    </tr>\n",
       "    <tr>\n",
       "      <th>Brakes Defective</th>\n",
       "    </tr>\n",
       "    <tr>\n",
       "      <th>Cell Phone (hand-Held)</th>\n",
       "    </tr>\n",
       "    <tr>\n",
       "      <th>Cell Phone (hands-free)</th>\n",
       "    </tr>\n",
       "    <tr>\n",
       "      <th>Driver Inattention/Distraction</th>\n",
       "    </tr>\n",
       "    <tr>\n",
       "      <th>Driver Inexperience</th>\n",
       "    </tr>\n",
       "    <tr>\n",
       "      <th>Driverless/Runaway Vehicle</th>\n",
       "    </tr>\n",
       "    <tr>\n",
       "      <th>Drugs (illegal)</th>\n",
       "    </tr>\n",
       "    <tr>\n",
       "      <th>Eating or Drinking</th>\n",
       "    </tr>\n",
       "    <tr>\n",
       "      <th>Failure to Keep Right</th>\n",
       "    </tr>\n",
       "    <tr>\n",
       "      <th>Failure to Yield Right-of-Way</th>\n",
       "    </tr>\n",
       "    <tr>\n",
       "      <th>Fatigued/Drowsy</th>\n",
       "    </tr>\n",
       "    <tr>\n",
       "      <th>Fell Asleep</th>\n",
       "    </tr>\n",
       "    <tr>\n",
       "      <th>Following Too Closely</th>\n",
       "    </tr>\n",
       "    <tr>\n",
       "      <th>Glare</th>\n",
       "    </tr>\n",
       "    <tr>\n",
       "      <th>Headlights Defective</th>\n",
       "    </tr>\n",
       "    <tr>\n",
       "      <th>Illnes</th>\n",
       "    </tr>\n",
       "    <tr>\n",
       "      <th>Lane Marking Improper/Inadequate</th>\n",
       "    </tr>\n",
       "    <tr>\n",
       "      <th>Listening/Using Headphones</th>\n",
       "    </tr>\n",
       "    <tr>\n",
       "      <th>Lost Consciousness</th>\n",
       "    </tr>\n",
       "    <tr>\n",
       "      <th>Obstruction/Debris</th>\n",
       "    </tr>\n",
       "    <tr>\n",
       "      <th>Other Electronic Device</th>\n",
       "    </tr>\n",
       "    <tr>\n",
       "      <th>Other Lighting Defects</th>\n",
       "    </tr>\n",
       "    <tr>\n",
       "      <th>Other Vehicular</th>\n",
       "    </tr>\n",
       "    <tr>\n",
       "      <th>Outside Car Distraction</th>\n",
       "    </tr>\n",
       "    <tr>\n",
       "      <th>Oversized Vehicle</th>\n",
       "    </tr>\n",
       "    <tr>\n",
       "      <th>...</th>\n",
       "      <th>...</th>\n",
       "    </tr>\n",
       "    <tr>\n",
       "      <th rowspan=\"30\" valign=\"top\">STATEN ISLAND</th>\n",
       "      <th>Following Too Closely</th>\n",
       "    </tr>\n",
       "    <tr>\n",
       "      <th>Glare</th>\n",
       "    </tr>\n",
       "    <tr>\n",
       "      <th>Illnes</th>\n",
       "    </tr>\n",
       "    <tr>\n",
       "      <th>Lane Marking Improper/Inadequate</th>\n",
       "    </tr>\n",
       "    <tr>\n",
       "      <th>Lost Consciousness</th>\n",
       "    </tr>\n",
       "    <tr>\n",
       "      <th>Obstruction/Debris</th>\n",
       "    </tr>\n",
       "    <tr>\n",
       "      <th>Other Electronic Device</th>\n",
       "    </tr>\n",
       "    <tr>\n",
       "      <th>Other Vehicular</th>\n",
       "    </tr>\n",
       "    <tr>\n",
       "      <th>Outside Car Distraction</th>\n",
       "    </tr>\n",
       "    <tr>\n",
       "      <th>Oversized Vehicle</th>\n",
       "    </tr>\n",
       "    <tr>\n",
       "      <th>Passenger Distraction</th>\n",
       "    </tr>\n",
       "    <tr>\n",
       "      <th>Passing Too Closely</th>\n",
       "    </tr>\n",
       "    <tr>\n",
       "      <th>Passing or Lane Usage Improper</th>\n",
       "    </tr>\n",
       "    <tr>\n",
       "      <th>Pavement Defective</th>\n",
       "    </tr>\n",
       "    <tr>\n",
       "      <th>Pavement Slippery</th>\n",
       "    </tr>\n",
       "    <tr>\n",
       "      <th>Pedestrian/Bicyclist/Other Pedestrian Error/Confusion</th>\n",
       "    </tr>\n",
       "    <tr>\n",
       "      <th>Physical Disability</th>\n",
       "    </tr>\n",
       "    <tr>\n",
       "      <th>Prescription Medication</th>\n",
       "    </tr>\n",
       "    <tr>\n",
       "      <th>Reaction to Uninvolved Vehicle</th>\n",
       "    </tr>\n",
       "    <tr>\n",
       "      <th>Steering Failure</th>\n",
       "    </tr>\n",
       "    <tr>\n",
       "      <th>Texting</th>\n",
       "    </tr>\n",
       "    <tr>\n",
       "      <th>Tire Failure/Inadequate</th>\n",
       "    </tr>\n",
       "    <tr>\n",
       "      <th>Tow Hitch Defective</th>\n",
       "    </tr>\n",
       "    <tr>\n",
       "      <th>Traffic Control Device Improper/Non-Working</th>\n",
       "    </tr>\n",
       "    <tr>\n",
       "      <th>Traffic Control Disregarded</th>\n",
       "    </tr>\n",
       "    <tr>\n",
       "      <th>Turning Improperly</th>\n",
       "    </tr>\n",
       "    <tr>\n",
       "      <th>Unsafe Lane Changing</th>\n",
       "    </tr>\n",
       "    <tr>\n",
       "      <th>Unsafe Speed</th>\n",
       "    </tr>\n",
       "    <tr>\n",
       "      <th>Unspecified</th>\n",
       "    </tr>\n",
       "    <tr>\n",
       "      <th>View Obstructed/Limited</th>\n",
       "    </tr>\n",
       "  </tbody>\n",
       "</table>\n",
       "<p>255 rows × 0 columns</p>\n",
       "</div>"
      ],
      "text/plain": [
       "Empty DataFrame\n",
       "Columns: []\n",
       "Index: [(2017, BRONX, Accelerator Defective), (2017, BRONX, Aggressive Driving/Road Rage), (2017, BRONX, Alcohol Involvement), (2017, BRONX, Animals Action), (2017, BRONX, Backing Unsafely), (2017, BRONX, Brakes Defective), (2017, BRONX, Cell Phone (hand-Held)), (2017, BRONX, Cell Phone (hands-free)), (2017, BRONX, Driver Inattention/Distraction), (2017, BRONX, Driver Inexperience), (2017, BRONX, Driverless/Runaway Vehicle), (2017, BRONX, Drugs (illegal)), (2017, BRONX, Eating or Drinking), (2017, BRONX, Failure to Keep Right), (2017, BRONX, Failure to Yield Right-of-Way), (2017, BRONX, Fatigued/Drowsy), (2017, BRONX, Fell Asleep), (2017, BRONX, Following Too Closely), (2017, BRONX, Glare), (2017, BRONX, Headlights Defective), (2017, BRONX, Illnes), (2017, BRONX, Lane Marking Improper/Inadequate), (2017, BRONX, Listening/Using Headphones), (2017, BRONX, Lost Consciousness), (2017, BRONX, Obstruction/Debris), (2017, BRONX, Other Electronic Device), (2017, BRONX, Other Lighting Defects), (2017, BRONX, Other Vehicular), (2017, BRONX, Outside Car Distraction), (2017, BRONX, Oversized Vehicle), (2017, BRONX, Passenger Distraction), (2017, BRONX, Passing Too Closely), (2017, BRONX, Passing or Lane Usage Improper), (2017, BRONX, Pavement Defective), (2017, BRONX, Pavement Slippery), (2017, BRONX, Pedestrian/Bicyclist/Other Pedestrian Error/Confusion), (2017, BRONX, Physical Disability), (2017, BRONX, Prescription Medication), (2017, BRONX, Reaction to Uninvolved Vehicle), (2017, BRONX, Steering Failure), (2017, BRONX, Texting), (2017, BRONX, Tinted Windows), (2017, BRONX, Tire Failure/Inadequate), (2017, BRONX, Tow Hitch Defective), (2017, BRONX, Traffic Control Device Improper/Non-Working), (2017, BRONX, Traffic Control Disregarded), (2017, BRONX, Turning Improperly), (2017, BRONX, Unsafe Lane Changing), (2017, BRONX, Unsafe Speed), (2017, BRONX, Unspecified), (2017, BRONX, Using On Board Navigation Device), (2017, BRONX, Vehicle Vandalism), (2017, BRONX, View Obstructed/Limited), (2017, BROOKLYN, Accelerator Defective), (2017, BROOKLYN, Aggressive Driving/Road Rage), (2017, BROOKLYN, Alcohol Involvement), (2017, BROOKLYN, Animals Action), (2017, BROOKLYN, Backing Unsafely), (2017, BROOKLYN, Brakes Defective), (2017, BROOKLYN, Cell Phone (hand-Held)), (2017, BROOKLYN, Cell Phone (hands-free)), (2017, BROOKLYN, Driver Inattention/Distraction), (2017, BROOKLYN, Driver Inexperience), (2017, BROOKLYN, Driverless/Runaway Vehicle), (2017, BROOKLYN, Drugs (illegal)), (2017, BROOKLYN, Eating or Drinking), (2017, BROOKLYN, Failure to Keep Right), (2017, BROOKLYN, Failure to Yield Right-of-Way), (2017, BROOKLYN, Fatigued/Drowsy), (2017, BROOKLYN, Fell Asleep), (2017, BROOKLYN, Following Too Closely), (2017, BROOKLYN, Glare), (2017, BROOKLYN, Headlights Defective), (2017, BROOKLYN, Illnes), (2017, BROOKLYN, Lane Marking Improper/Inadequate), (2017, BROOKLYN, Lost Consciousness), (2017, BROOKLYN, Obstruction/Debris), (2017, BROOKLYN, Other Electronic Device), (2017, BROOKLYN, Other Lighting Defects), (2017, BROOKLYN, Other Vehicular), (2017, BROOKLYN, Outside Car Distraction), (2017, BROOKLYN, Oversized Vehicle), (2017, BROOKLYN, Passenger Distraction), (2017, BROOKLYN, Passing Too Closely), (2017, BROOKLYN, Passing or Lane Usage Improper), (2017, BROOKLYN, Pavement Defective), (2017, BROOKLYN, Pavement Slippery), (2017, BROOKLYN, Pedestrian/Bicyclist/Other Pedestrian Error/Confusion), (2017, BROOKLYN, Physical Disability), (2017, BROOKLYN, Prescription Medication), (2017, BROOKLYN, Reaction to Uninvolved Vehicle), (2017, BROOKLYN, Steering Failure), (2017, BROOKLYN, Texting), (2017, BROOKLYN, Tinted Windows), (2017, BROOKLYN, Tire Failure/Inadequate), (2017, BROOKLYN, Tow Hitch Defective), (2017, BROOKLYN, Traffic Control Device Improper/Non-Working), (2017, BROOKLYN, Traffic Control Disregarded), (2017, BROOKLYN, Turning Improperly), (2017, BROOKLYN, Unsafe Lane Changing), ...]\n",
       "\n",
       "[255 rows x 0 columns]"
      ]
     },
     "execution_count": 17,
     "metadata": {},
     "output_type": "execute_result"
    }
   ],
   "source": [
    "percapita_df"
   ]
  },
  {
   "cell_type": "code",
   "execution_count": 18,
   "metadata": {
    "ExecuteTime": {
     "end_time": "2019-05-08T12:13:33.308964Z",
     "start_time": "2019-05-08T12:13:33.302957Z"
    }
   },
   "outputs": [],
   "source": [
    "percapita_df.reset_index(inplace=True)"
   ]
  },
  {
   "cell_type": "code",
   "execution_count": 19,
   "metadata": {
    "ExecuteTime": {
     "end_time": "2019-05-08T12:13:34.134907Z",
     "start_time": "2019-05-08T12:13:34.129418Z"
    }
   },
   "outputs": [],
   "source": [
    "percapita_df.drop(columns='dat3', inplace=True)"
   ]
  },
  {
   "cell_type": "code",
   "execution_count": 20,
   "metadata": {
    "ExecuteTime": {
     "end_time": "2019-05-08T12:13:34.976857Z",
     "start_time": "2019-05-08T12:13:34.960869Z"
    }
   },
   "outputs": [
    {
     "data": {
      "text/html": [
       "<div>\n",
       "<style scoped>\n",
       "    .dataframe tbody tr th:only-of-type {\n",
       "        vertical-align: middle;\n",
       "    }\n",
       "\n",
       "    .dataframe tbody tr th {\n",
       "        vertical-align: top;\n",
       "    }\n",
       "\n",
       "    .dataframe thead th {\n",
       "        text-align: right;\n",
       "    }\n",
       "</style>\n",
       "<table border=\"1\" class=\"dataframe\">\n",
       "  <thead>\n",
       "    <tr style=\"text-align: right;\">\n",
       "      <th></th>\n",
       "      <th>BOROUGH</th>\n",
       "      <th>CONTRIBUTING FACTOR VEHICLE 1</th>\n",
       "    </tr>\n",
       "  </thead>\n",
       "  <tbody>\n",
       "    <tr>\n",
       "      <th>0</th>\n",
       "      <td>BRONX</td>\n",
       "      <td>Accelerator Defective</td>\n",
       "    </tr>\n",
       "    <tr>\n",
       "      <th>1</th>\n",
       "      <td>BRONX</td>\n",
       "      <td>Aggressive Driving/Road Rage</td>\n",
       "    </tr>\n",
       "    <tr>\n",
       "      <th>2</th>\n",
       "      <td>BRONX</td>\n",
       "      <td>Alcohol Involvement</td>\n",
       "    </tr>\n",
       "    <tr>\n",
       "      <th>3</th>\n",
       "      <td>BRONX</td>\n",
       "      <td>Animals Action</td>\n",
       "    </tr>\n",
       "    <tr>\n",
       "      <th>4</th>\n",
       "      <td>BRONX</td>\n",
       "      <td>Backing Unsafely</td>\n",
       "    </tr>\n",
       "    <tr>\n",
       "      <th>5</th>\n",
       "      <td>BRONX</td>\n",
       "      <td>Brakes Defective</td>\n",
       "    </tr>\n",
       "    <tr>\n",
       "      <th>6</th>\n",
       "      <td>BRONX</td>\n",
       "      <td>Cell Phone (hand-Held)</td>\n",
       "    </tr>\n",
       "    <tr>\n",
       "      <th>7</th>\n",
       "      <td>BRONX</td>\n",
       "      <td>Cell Phone (hands-free)</td>\n",
       "    </tr>\n",
       "    <tr>\n",
       "      <th>8</th>\n",
       "      <td>BRONX</td>\n",
       "      <td>Driver Inattention/Distraction</td>\n",
       "    </tr>\n",
       "    <tr>\n",
       "      <th>9</th>\n",
       "      <td>BRONX</td>\n",
       "      <td>Driver Inexperience</td>\n",
       "    </tr>\n",
       "    <tr>\n",
       "      <th>10</th>\n",
       "      <td>BRONX</td>\n",
       "      <td>Driverless/Runaway Vehicle</td>\n",
       "    </tr>\n",
       "    <tr>\n",
       "      <th>11</th>\n",
       "      <td>BRONX</td>\n",
       "      <td>Drugs (illegal)</td>\n",
       "    </tr>\n",
       "    <tr>\n",
       "      <th>12</th>\n",
       "      <td>BRONX</td>\n",
       "      <td>Eating or Drinking</td>\n",
       "    </tr>\n",
       "    <tr>\n",
       "      <th>13</th>\n",
       "      <td>BRONX</td>\n",
       "      <td>Failure to Keep Right</td>\n",
       "    </tr>\n",
       "    <tr>\n",
       "      <th>14</th>\n",
       "      <td>BRONX</td>\n",
       "      <td>Failure to Yield Right-of-Way</td>\n",
       "    </tr>\n",
       "    <tr>\n",
       "      <th>15</th>\n",
       "      <td>BRONX</td>\n",
       "      <td>Fatigued/Drowsy</td>\n",
       "    </tr>\n",
       "    <tr>\n",
       "      <th>16</th>\n",
       "      <td>BRONX</td>\n",
       "      <td>Fell Asleep</td>\n",
       "    </tr>\n",
       "    <tr>\n",
       "      <th>17</th>\n",
       "      <td>BRONX</td>\n",
       "      <td>Following Too Closely</td>\n",
       "    </tr>\n",
       "    <tr>\n",
       "      <th>18</th>\n",
       "      <td>BRONX</td>\n",
       "      <td>Glare</td>\n",
       "    </tr>\n",
       "    <tr>\n",
       "      <th>19</th>\n",
       "      <td>BRONX</td>\n",
       "      <td>Headlights Defective</td>\n",
       "    </tr>\n",
       "    <tr>\n",
       "      <th>20</th>\n",
       "      <td>BRONX</td>\n",
       "      <td>Illnes</td>\n",
       "    </tr>\n",
       "    <tr>\n",
       "      <th>21</th>\n",
       "      <td>BRONX</td>\n",
       "      <td>Lane Marking Improper/Inadequate</td>\n",
       "    </tr>\n",
       "    <tr>\n",
       "      <th>22</th>\n",
       "      <td>BRONX</td>\n",
       "      <td>Listening/Using Headphones</td>\n",
       "    </tr>\n",
       "    <tr>\n",
       "      <th>23</th>\n",
       "      <td>BRONX</td>\n",
       "      <td>Lost Consciousness</td>\n",
       "    </tr>\n",
       "    <tr>\n",
       "      <th>24</th>\n",
       "      <td>BRONX</td>\n",
       "      <td>Obstruction/Debris</td>\n",
       "    </tr>\n",
       "    <tr>\n",
       "      <th>25</th>\n",
       "      <td>BRONX</td>\n",
       "      <td>Other Electronic Device</td>\n",
       "    </tr>\n",
       "    <tr>\n",
       "      <th>26</th>\n",
       "      <td>BRONX</td>\n",
       "      <td>Other Lighting Defects</td>\n",
       "    </tr>\n",
       "    <tr>\n",
       "      <th>27</th>\n",
       "      <td>BRONX</td>\n",
       "      <td>Other Vehicular</td>\n",
       "    </tr>\n",
       "    <tr>\n",
       "      <th>28</th>\n",
       "      <td>BRONX</td>\n",
       "      <td>Outside Car Distraction</td>\n",
       "    </tr>\n",
       "    <tr>\n",
       "      <th>29</th>\n",
       "      <td>BRONX</td>\n",
       "      <td>Oversized Vehicle</td>\n",
       "    </tr>\n",
       "    <tr>\n",
       "      <th>...</th>\n",
       "      <td>...</td>\n",
       "      <td>...</td>\n",
       "    </tr>\n",
       "    <tr>\n",
       "      <th>225</th>\n",
       "      <td>STATEN ISLAND</td>\n",
       "      <td>Following Too Closely</td>\n",
       "    </tr>\n",
       "    <tr>\n",
       "      <th>226</th>\n",
       "      <td>STATEN ISLAND</td>\n",
       "      <td>Glare</td>\n",
       "    </tr>\n",
       "    <tr>\n",
       "      <th>227</th>\n",
       "      <td>STATEN ISLAND</td>\n",
       "      <td>Illnes</td>\n",
       "    </tr>\n",
       "    <tr>\n",
       "      <th>228</th>\n",
       "      <td>STATEN ISLAND</td>\n",
       "      <td>Lane Marking Improper/Inadequate</td>\n",
       "    </tr>\n",
       "    <tr>\n",
       "      <th>229</th>\n",
       "      <td>STATEN ISLAND</td>\n",
       "      <td>Lost Consciousness</td>\n",
       "    </tr>\n",
       "    <tr>\n",
       "      <th>230</th>\n",
       "      <td>STATEN ISLAND</td>\n",
       "      <td>Obstruction/Debris</td>\n",
       "    </tr>\n",
       "    <tr>\n",
       "      <th>231</th>\n",
       "      <td>STATEN ISLAND</td>\n",
       "      <td>Other Electronic Device</td>\n",
       "    </tr>\n",
       "    <tr>\n",
       "      <th>232</th>\n",
       "      <td>STATEN ISLAND</td>\n",
       "      <td>Other Vehicular</td>\n",
       "    </tr>\n",
       "    <tr>\n",
       "      <th>233</th>\n",
       "      <td>STATEN ISLAND</td>\n",
       "      <td>Outside Car Distraction</td>\n",
       "    </tr>\n",
       "    <tr>\n",
       "      <th>234</th>\n",
       "      <td>STATEN ISLAND</td>\n",
       "      <td>Oversized Vehicle</td>\n",
       "    </tr>\n",
       "    <tr>\n",
       "      <th>235</th>\n",
       "      <td>STATEN ISLAND</td>\n",
       "      <td>Passenger Distraction</td>\n",
       "    </tr>\n",
       "    <tr>\n",
       "      <th>236</th>\n",
       "      <td>STATEN ISLAND</td>\n",
       "      <td>Passing Too Closely</td>\n",
       "    </tr>\n",
       "    <tr>\n",
       "      <th>237</th>\n",
       "      <td>STATEN ISLAND</td>\n",
       "      <td>Passing or Lane Usage Improper</td>\n",
       "    </tr>\n",
       "    <tr>\n",
       "      <th>238</th>\n",
       "      <td>STATEN ISLAND</td>\n",
       "      <td>Pavement Defective</td>\n",
       "    </tr>\n",
       "    <tr>\n",
       "      <th>239</th>\n",
       "      <td>STATEN ISLAND</td>\n",
       "      <td>Pavement Slippery</td>\n",
       "    </tr>\n",
       "    <tr>\n",
       "      <th>240</th>\n",
       "      <td>STATEN ISLAND</td>\n",
       "      <td>Pedestrian/Bicyclist/Other Pedestrian Error/Co...</td>\n",
       "    </tr>\n",
       "    <tr>\n",
       "      <th>241</th>\n",
       "      <td>STATEN ISLAND</td>\n",
       "      <td>Physical Disability</td>\n",
       "    </tr>\n",
       "    <tr>\n",
       "      <th>242</th>\n",
       "      <td>STATEN ISLAND</td>\n",
       "      <td>Prescription Medication</td>\n",
       "    </tr>\n",
       "    <tr>\n",
       "      <th>243</th>\n",
       "      <td>STATEN ISLAND</td>\n",
       "      <td>Reaction to Uninvolved Vehicle</td>\n",
       "    </tr>\n",
       "    <tr>\n",
       "      <th>244</th>\n",
       "      <td>STATEN ISLAND</td>\n",
       "      <td>Steering Failure</td>\n",
       "    </tr>\n",
       "    <tr>\n",
       "      <th>245</th>\n",
       "      <td>STATEN ISLAND</td>\n",
       "      <td>Texting</td>\n",
       "    </tr>\n",
       "    <tr>\n",
       "      <th>246</th>\n",
       "      <td>STATEN ISLAND</td>\n",
       "      <td>Tire Failure/Inadequate</td>\n",
       "    </tr>\n",
       "    <tr>\n",
       "      <th>247</th>\n",
       "      <td>STATEN ISLAND</td>\n",
       "      <td>Tow Hitch Defective</td>\n",
       "    </tr>\n",
       "    <tr>\n",
       "      <th>248</th>\n",
       "      <td>STATEN ISLAND</td>\n",
       "      <td>Traffic Control Device Improper/Non-Working</td>\n",
       "    </tr>\n",
       "    <tr>\n",
       "      <th>249</th>\n",
       "      <td>STATEN ISLAND</td>\n",
       "      <td>Traffic Control Disregarded</td>\n",
       "    </tr>\n",
       "    <tr>\n",
       "      <th>250</th>\n",
       "      <td>STATEN ISLAND</td>\n",
       "      <td>Turning Improperly</td>\n",
       "    </tr>\n",
       "    <tr>\n",
       "      <th>251</th>\n",
       "      <td>STATEN ISLAND</td>\n",
       "      <td>Unsafe Lane Changing</td>\n",
       "    </tr>\n",
       "    <tr>\n",
       "      <th>252</th>\n",
       "      <td>STATEN ISLAND</td>\n",
       "      <td>Unsafe Speed</td>\n",
       "    </tr>\n",
       "    <tr>\n",
       "      <th>253</th>\n",
       "      <td>STATEN ISLAND</td>\n",
       "      <td>Unspecified</td>\n",
       "    </tr>\n",
       "    <tr>\n",
       "      <th>254</th>\n",
       "      <td>STATEN ISLAND</td>\n",
       "      <td>View Obstructed/Limited</td>\n",
       "    </tr>\n",
       "  </tbody>\n",
       "</table>\n",
       "<p>255 rows × 2 columns</p>\n",
       "</div>"
      ],
      "text/plain": [
       "           BOROUGH                      CONTRIBUTING FACTOR VEHICLE 1\n",
       "0            BRONX                              Accelerator Defective\n",
       "1            BRONX                       Aggressive Driving/Road Rage\n",
       "2            BRONX                                Alcohol Involvement\n",
       "3            BRONX                                     Animals Action\n",
       "4            BRONX                                   Backing Unsafely\n",
       "5            BRONX                                   Brakes Defective\n",
       "6            BRONX                             Cell Phone (hand-Held)\n",
       "7            BRONX                            Cell Phone (hands-free)\n",
       "8            BRONX                     Driver Inattention/Distraction\n",
       "9            BRONX                                Driver Inexperience\n",
       "10           BRONX                         Driverless/Runaway Vehicle\n",
       "11           BRONX                                    Drugs (illegal)\n",
       "12           BRONX                                 Eating or Drinking\n",
       "13           BRONX                              Failure to Keep Right\n",
       "14           BRONX                      Failure to Yield Right-of-Way\n",
       "15           BRONX                                    Fatigued/Drowsy\n",
       "16           BRONX                                        Fell Asleep\n",
       "17           BRONX                              Following Too Closely\n",
       "18           BRONX                                              Glare\n",
       "19           BRONX                               Headlights Defective\n",
       "20           BRONX                                             Illnes\n",
       "21           BRONX                   Lane Marking Improper/Inadequate\n",
       "22           BRONX                         Listening/Using Headphones\n",
       "23           BRONX                                 Lost Consciousness\n",
       "24           BRONX                                 Obstruction/Debris\n",
       "25           BRONX                            Other Electronic Device\n",
       "26           BRONX                             Other Lighting Defects\n",
       "27           BRONX                                    Other Vehicular\n",
       "28           BRONX                            Outside Car Distraction\n",
       "29           BRONX                                  Oversized Vehicle\n",
       "..             ...                                                ...\n",
       "225  STATEN ISLAND                              Following Too Closely\n",
       "226  STATEN ISLAND                                              Glare\n",
       "227  STATEN ISLAND                                             Illnes\n",
       "228  STATEN ISLAND                   Lane Marking Improper/Inadequate\n",
       "229  STATEN ISLAND                                 Lost Consciousness\n",
       "230  STATEN ISLAND                                 Obstruction/Debris\n",
       "231  STATEN ISLAND                            Other Electronic Device\n",
       "232  STATEN ISLAND                                    Other Vehicular\n",
       "233  STATEN ISLAND                            Outside Car Distraction\n",
       "234  STATEN ISLAND                                  Oversized Vehicle\n",
       "235  STATEN ISLAND                              Passenger Distraction\n",
       "236  STATEN ISLAND                                Passing Too Closely\n",
       "237  STATEN ISLAND                     Passing or Lane Usage Improper\n",
       "238  STATEN ISLAND                                 Pavement Defective\n",
       "239  STATEN ISLAND                                  Pavement Slippery\n",
       "240  STATEN ISLAND  Pedestrian/Bicyclist/Other Pedestrian Error/Co...\n",
       "241  STATEN ISLAND                                Physical Disability\n",
       "242  STATEN ISLAND                            Prescription Medication\n",
       "243  STATEN ISLAND                     Reaction to Uninvolved Vehicle\n",
       "244  STATEN ISLAND                                   Steering Failure\n",
       "245  STATEN ISLAND                                            Texting\n",
       "246  STATEN ISLAND                            Tire Failure/Inadequate\n",
       "247  STATEN ISLAND                                Tow Hitch Defective\n",
       "248  STATEN ISLAND        Traffic Control Device Improper/Non-Working\n",
       "249  STATEN ISLAND                        Traffic Control Disregarded\n",
       "250  STATEN ISLAND                                 Turning Improperly\n",
       "251  STATEN ISLAND                               Unsafe Lane Changing\n",
       "252  STATEN ISLAND                                       Unsafe Speed\n",
       "253  STATEN ISLAND                                        Unspecified\n",
       "254  STATEN ISLAND                            View Obstructed/Limited\n",
       "\n",
       "[255 rows x 2 columns]"
      ]
     },
     "execution_count": 20,
     "metadata": {},
     "output_type": "execute_result"
    }
   ],
   "source": [
    "percapita_df"
   ]
  },
  {
   "cell_type": "code",
   "execution_count": null,
   "metadata": {},
   "outputs": [],
   "source": []
  },
  {
   "cell_type": "code",
   "execution_count": null,
   "metadata": {},
   "outputs": [],
   "source": []
  },
  {
   "cell_type": "code",
   "execution_count": 21,
   "metadata": {
    "ExecuteTime": {
     "end_time": "2019-05-08T12:13:39.929211Z",
     "start_time": "2019-05-08T12:13:39.922707Z"
    }
   },
   "outputs": [],
   "source": [
    "percapita_df = percapita_df.loc[\n",
    "    percapita_df['CONTRIBUTING FACTOR VEHICLE 1'] == 'Alcohol Involvement'\n",
    "].set_index('BOROUGH').drop(columns=['CONTRIBUTING FACTOR VEHICLE 1'])"
   ]
  },
  {
   "cell_type": "code",
   "execution_count": 27,
   "metadata": {
    "ExecuteTime": {
     "end_time": "2019-05-08T12:14:22.084334Z",
     "start_time": "2019-05-08T12:14:22.063369Z"
    }
   },
   "outputs": [
    {
     "name": "stdout",
     "output_type": "stream",
     "text": [
      "BRONX\n"
     ]
    },
    {
     "data": {
      "text/plain": [
       "Series([], Name: BRONX, dtype: float64)"
      ]
     },
     "execution_count": 27,
     "metadata": {},
     "output_type": "execute_result"
    },
    {
     "name": "stdout",
     "output_type": "stream",
     "text": [
      "BROOKLYN\n"
     ]
    },
    {
     "data": {
      "text/plain": [
       "Series([], Name: BROOKLYN, dtype: float64)"
      ]
     },
     "execution_count": 27,
     "metadata": {},
     "output_type": "execute_result"
    },
    {
     "name": "stdout",
     "output_type": "stream",
     "text": [
      "MANHATTAN\n"
     ]
    },
    {
     "data": {
      "text/plain": [
       "Series([], Name: MANHATTAN, dtype: float64)"
      ]
     },
     "execution_count": 27,
     "metadata": {},
     "output_type": "execute_result"
    },
    {
     "name": "stdout",
     "output_type": "stream",
     "text": [
      "QUEENS\n"
     ]
    },
    {
     "data": {
      "text/plain": [
       "Series([], Name: QUEENS, dtype: float64)"
      ]
     },
     "execution_count": 27,
     "metadata": {},
     "output_type": "execute_result"
    },
    {
     "name": "stdout",
     "output_type": "stream",
     "text": [
      "STATEN ISLAND\n"
     ]
    },
    {
     "data": {
      "text/plain": [
       "Series([], Name: STATEN ISLAND, dtype: float64)"
      ]
     },
     "execution_count": 27,
     "metadata": {},
     "output_type": "execute_result"
    }
   ],
   "source": [
    "T_df = percapita_df.T\n",
    "for boro in percapita_df.index:\n",
    "    print(boro)\n",
    "    T_df[boro]"
   ]
  },
  {
   "cell_type": "code",
   "execution_count": 25,
   "metadata": {
    "ExecuteTime": {
     "end_time": "2019-05-08T12:14:12.171217Z",
     "start_time": "2019-05-08T12:14:12.161735Z"
    }
   },
   "outputs": [
    {
     "data": {
      "text/html": [
       "<div>\n",
       "<style scoped>\n",
       "    .dataframe tbody tr th:only-of-type {\n",
       "        vertical-align: middle;\n",
       "    }\n",
       "\n",
       "    .dataframe tbody tr th {\n",
       "        vertical-align: top;\n",
       "    }\n",
       "\n",
       "    .dataframe thead th {\n",
       "        text-align: right;\n",
       "    }\n",
       "</style>\n",
       "<table border=\"1\" class=\"dataframe\">\n",
       "  <thead>\n",
       "    <tr style=\"text-align: right;\">\n",
       "      <th>Jurisdiction</th>\n",
       "      <th>Bronx</th>\n",
       "      <th>Brooklyn</th>\n",
       "      <th>Manhattan</th>\n",
       "      <th>Queens</th>\n",
       "      <th>Staten Island</th>\n",
       "    </tr>\n",
       "  </thead>\n",
       "  <tbody>\n",
       "    <tr>\n",
       "      <th>PopulationEst2017</th>\n",
       "      <td>1471160</td>\n",
       "      <td>2648771</td>\n",
       "      <td>1664727</td>\n",
       "      <td>2358582</td>\n",
       "      <td>479458</td>\n",
       "    </tr>\n",
       "  </tbody>\n",
       "</table>\n",
       "</div>"
      ],
      "text/plain": [
       "Jurisdiction         Bronx  Brooklyn  Manhattan   Queens  Staten Island\n",
       "PopulationEst2017  1471160   2648771    1664727  2358582         479458"
      ]
     },
     "execution_count": 25,
     "metadata": {},
     "output_type": "execute_result"
    }
   ],
   "source": [
    "demoT_df"
   ]
  },
  {
   "cell_type": "code",
   "execution_count": 28,
   "metadata": {
    "ExecuteTime": {
     "end_time": "2019-05-08T12:14:33.400450Z",
     "start_time": "2019-05-08T12:14:33.387475Z"
    }
   },
   "outputs": [
    {
     "name": "stdout",
     "output_type": "stream",
     "text": [
      "Bronx\n"
     ]
    },
    {
     "ename": "NameError",
     "evalue": "name 'alcohol' is not defined",
     "output_type": "error",
     "traceback": [
      "\u001b[1;31m---------------------------------------------------------------\u001b[0m",
      "\u001b[1;31mNameError\u001b[0m                     Traceback (most recent call last)",
      "\u001b[1;32m<ipython-input-28-94fb9199076e>\u001b[0m in \u001b[0;36m<module>\u001b[1;34m()\u001b[0m\n\u001b[0;32m      4\u001b[0m \u001b[1;32mfor\u001b[0m \u001b[0mpopulation\u001b[0m \u001b[1;32min\u001b[0m \u001b[0mdemoT_df\u001b[0m\u001b[1;33m.\u001b[0m\u001b[0mcolumns\u001b[0m\u001b[1;33m:\u001b[0m\u001b[1;33m\u001b[0m\u001b[0m\n\u001b[0;32m      5\u001b[0m     \u001b[0mprint\u001b[0m\u001b[1;33m(\u001b[0m\u001b[0mpopulation\u001b[0m\u001b[1;33m)\u001b[0m\u001b[1;33m\u001b[0m\u001b[0m\n\u001b[1;32m----> 6\u001b[1;33m     \u001b[0mratio_per_capita\u001b[0m \u001b[1;33m=\u001b[0m \u001b[0mint\u001b[0m\u001b[1;33m(\u001b[0m\u001b[0mT_df\u001b[0m\u001b[1;33m[\u001b[0m\u001b[0malcohol\u001b[0m\u001b[1;33m]\u001b[0m\u001b[1;33m[\u001b[0m\u001b[1;36m0\u001b[0m\u001b[1;33m]\u001b[0m\u001b[1;33m)\u001b[0m\u001b[1;33m/\u001b[0m\u001b[0mint\u001b[0m\u001b[1;33m(\u001b[0m\u001b[0mdemoT_df\u001b[0m\u001b[1;33m[\u001b[0m\u001b[0mpopulation\u001b[0m\u001b[1;33m]\u001b[0m\u001b[1;33m)\u001b[0m\u001b[1;33m\u001b[0m\u001b[0m\n\u001b[0m\u001b[0;32m      7\u001b[0m     \u001b[0mpercapita_list\u001b[0m\u001b[1;33m.\u001b[0m\u001b[0mappend\u001b[0m\u001b[1;33m(\u001b[0m\u001b[0mratio_per_capita\u001b[0m\u001b[1;33m)\u001b[0m\u001b[1;33m\u001b[0m\u001b[0m\n\u001b[0;32m      8\u001b[0m     \u001b[1;32mif\u001b[0m \u001b[0mratio_per_capita\u001b[0m \u001b[1;33m>\u001b[0m \u001b[0mhighest\u001b[0m\u001b[1;33m:\u001b[0m\u001b[1;33m\u001b[0m\u001b[0m\n",
      "\u001b[1;31mNameError\u001b[0m: name 'alcohol' is not defined"
     ]
    }
   ],
   "source": [
    "boro = ''\n",
    "highest = 0.0\n",
    "percapita_list = []\n",
    "for population in demoT_df.columns:\n",
    "    print(population)\n",
    "    ratio_per_capita = int(T_df[alcohol][0])/int(demoT_df[population])\n",
    "    percapita_list.append(ratio_per_capita)\n",
    "    if ratio_per_capita > highest:\n",
    "        highest = ratio_per_capita\n",
    "        boro = alcohol\n",
    "    else:\n",
    "        pass\n",
    "percapita_list\n",
    "print(boro + \" is the highest \" +'{:.2f}%'.format(highest*100) + \" per capita\")"
   ]
  },
  {
   "cell_type": "markdown",
   "metadata": {},
   "source": [
    "Q-4: For each borough, compute the number of accidents per capita involving alcohol in 2017. Report the highest rate among the 5 boroughs. Use populations as given by https://en.wikipedia.org/wiki/Demographics_of_New_York_City."
   ]
  },
  {
   "cell_type": "code",
   "execution_count": null,
   "metadata": {},
   "outputs": [],
   "source": []
  },
  {
   "cell_type": "code",
   "execution_count": null,
   "metadata": {},
   "outputs": [],
   "source": []
  },
  {
   "cell_type": "code",
   "execution_count": null,
   "metadata": {},
   "outputs": [],
   "source": []
  },
  {
   "cell_type": "code",
   "execution_count": null,
   "metadata": {},
   "outputs": [],
   "source": []
  },
  {
   "cell_type": "code",
   "execution_count": null,
   "metadata": {},
   "outputs": [],
   "source": []
  },
  {
   "cell_type": "code",
   "execution_count": null,
   "metadata": {},
   "outputs": [],
   "source": []
  }
 ],
 "metadata": {
  "kernelspec": {
   "display_name": "Python 3",
   "language": "python",
   "name": "python3"
  },
  "language_info": {
   "codemirror_mode": {
    "name": "ipython",
    "version": 3
   },
   "file_extension": ".py",
   "mimetype": "text/x-python",
   "name": "python",
   "nbconvert_exporter": "python",
   "pygments_lexer": "ipython3",
   "version": "3.6.5"
  },
  "varInspector": {
   "cols": {
    "lenName": 16,
    "lenType": 16,
    "lenVar": 40
   },
   "kernels_config": {
    "python": {
     "delete_cmd_postfix": "",
     "delete_cmd_prefix": "del ",
     "library": "var_list.py",
     "varRefreshCmd": "print(var_dic_list())"
    },
    "r": {
     "delete_cmd_postfix": ") ",
     "delete_cmd_prefix": "rm(",
     "library": "var_list.r",
     "varRefreshCmd": "cat(var_dic_list()) "
    }
   },
   "types_to_exclude": [
    "module",
    "function",
    "builtin_function_or_method",
    "instance",
    "_Feature"
   ],
   "window_display": false
  }
 },
 "nbformat": 4,
 "nbformat_minor": 2
}
