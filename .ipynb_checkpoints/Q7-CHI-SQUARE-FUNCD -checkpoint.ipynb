{
 "cells": [
  {
   "cell_type": "markdown",
   "metadata": {},
   "source": [
    "### Q-7: Do winter driving conditions lead to more multi-car collisions?\n",
    "* Compute the rate of multi car collisions as the proportion of the number of collisions involving 3 or more cars to the total number of collisions for each month of 2017. \n",
    "* Calculate the chi-square test statistic for testing whether a collision is more likely to involve 3 or more cars in January than in May."
   ]
  },
  {
   "cell_type": "code",
   "execution_count": 102,
   "metadata": {
    "ExecuteTime": {
     "end_time": "2019-05-19T04:28:18.036435Z",
     "start_time": "2019-05-19T04:28:18.031438Z"
    },
    "scrolled": true
   },
   "outputs": [],
   "source": [
    "from IPython.core.interactiveshell import InteractiveShell\n",
    "InteractiveShell.ast_node_interactivity = \"all\"\n",
    "import warnings; warnings.simplefilter('ignore')\n",
    "import pandas as pd\n",
    "import os\n",
    "import matplotlib.pyplot as plt\n",
    "import seaborn as sns\n",
    "plt.style.use('fivethirtyeight')\n",
    "from NYPD_functions import (\n",
    "    dataFram3NYC,\n",
    "    focusDataframer,\n",
    "    dateFilterMyDataFrame,\n",
    "    addMonthFilterByYearMyDF,\n",
    "    monthNamesLister\n",
    ")"
   ]
  },
  {
   "cell_type": "code",
   "execution_count": 103,
   "metadata": {
    "ExecuteTime": {
     "end_time": "2019-05-19T04:28:18.228251Z",
     "start_time": "2019-05-19T04:28:18.225253Z"
    }
   },
   "outputs": [],
   "source": [
    "questionSevenCol_list = [\n",
    "    column_number for column_number in range(24, 29)\n",
    "]\n",
    "questionSevenCol_list.append(0)"
   ]
  },
  {
   "cell_type": "code",
   "execution_count": 104,
   "metadata": {
    "ExecuteTime": {
     "end_time": "2019-05-19T04:28:27.239327Z",
     "start_time": "2019-05-19T04:28:18.405382Z"
    }
   },
   "outputs": [
    {
     "name": "stdout",
     "output_type": "stream",
     "text": [
      "\n",
      "> > > > dataFram3NYC() now reading csv with file path below\n",
      "> > >  C:\\Users\\DENVER\\Desktop\\interviewPY\\INT_03_PYTHON_PANDAS_NYC_COLLISION\\NYPD_Motor_Vehicle_Collisions.csv\n",
      "\n",
      "{0: 'DATE', 1: 'TIME', 2: 'BOROUGH', 3: 'ZIP CODE', 4: 'LATITUDE', 5: 'LONGITUDE', 6: 'LOCATION', 7: 'ON STREET NAME', 8: 'CROSS STREET NAME', 9: 'OFF STREET NAME', 10: 'NUMBER OF PERSONS INJURED', 11: 'NUMBER OF PERSONS KILLED', 12: 'NUMBER OF PEDESTRIANS INJURED', 13: 'NUMBER OF PEDESTRIANS KILLED', 14: 'NUMBER OF CYCLIST INJURED', 15: 'NUMBER OF CYCLIST KILLED', 16: 'NUMBER OF MOTORIST INJURED', 17: 'NUMBER OF MOTORIST KILLED', 18: 'CONTRIBUTING FACTOR VEHICLE 1', 19: 'CONTRIBUTING FACTOR VEHICLE 2', 20: 'CONTRIBUTING FACTOR VEHICLE 3', 21: 'CONTRIBUTING FACTOR VEHICLE 4', 22: 'CONTRIBUTING FACTOR VEHICLE 5', 23: 'UNIQUE KEY', 24: 'VEHICLE TYPE CODE 1', 25: 'VEHICLE TYPE CODE 2', 26: 'VEHICLE TYPE CODE 3', 27: 'VEHICLE TYPE CODE 4', 28: 'VEHICLE TYPE CODE 5'}\n",
      "\n",
      "> > > focusDataframer(columns2keep_list = [indexNo_as_int00, indexNo_as_int01]\n",
      "> > >                * selected columns:\n",
      "> > >                                   24  keeps  VEHICLE TYPE CODE 1\n",
      "> > >                                   25  keeps  VEHICLE TYPE CODE 2\n",
      "> > >                                   26  keeps  VEHICLE TYPE CODE 3\n",
      "> > >                                   27  keeps  VEHICLE TYPE CODE 4\n",
      "> > >                                   28  keeps  VEHICLE TYPE CODE 5\n",
      "> > >                                   0  keeps  DATE\n"
     ]
    }
   ],
   "source": [
    "def addMonthFilterByYearMyDF(focus_df = focusDataframer(questionSevenCol_list), date_column_label = 'DATE', bring_all_records_for = '2017'):\n",
    "    \"\"\"\n",
    "    REQUIRES A DATAFRAME, COLUMN NAME THAT HAS DATE OF EACH RECORD, \n",
    "    ADDS A COLUMN BY NAME 'ye4r' WITH FOUR DIGIT YEAR 'YYYY' STRING AS VALUES\n",
    "    \"\"\"\n",
    "    pass\n",
    "    print()\n",
    "    print('> > > dateFilterMyDataFrame() filtering all records by year : ' + bring_all_records_for)\n",
    "#     focus_df = focusDataframer()\n",
    "    focus_df['ye4r'] = [\n",
    "        date[-4:] for date in focus_df['DATE']\n",
    "    ]\n",
    "    filtered_by_year_df = focus_df.loc[focus_df['ye4r'] == bring_all_records_for]\n",
    "    filtered_by_year_df['m0nth'] = [date[:2] for date in filtered_by_year_df[date_column_label]]\n",
    "    return filtered_by_year_df.drop(columns = [date_column_label, 'ye4r'])"
   ]
  },
  {
   "cell_type": "code",
   "execution_count": 105,
   "metadata": {
    "ExecuteTime": {
     "end_time": "2019-05-19T04:28:27.344268Z",
     "start_time": "2019-05-19T04:28:27.338271Z"
    }
   },
   "outputs": [],
   "source": [
    "def monthNamesLister(months_in_numbers_list = np.arange(12)):\n",
    "    \"\"\" RETURNS LIST OF FULL NAMES OF MONTHS GIVEN AS 01 OR 02 OR 03 ETC\"\"\"\n",
    "    monthNames_list= [\n",
    "        'January', 'February', 'March', 'April', 'May', 'June', \n",
    "        'July', 'August', 'September', 'October', 'November', 'December' \n",
    "        ]\n",
    "    monthsNumber_list = np.arange(12)\n",
    "    monthNames_dict = dict(zip(monthsNumber_list, monthNames_list))\n",
    "    out_list = [\n",
    "        monthNames_dict[integerMonth]\n",
    "        for integerMonth in list(months_in_numbers_list)\n",
    "    ]\n",
    "    return out_list"
   ]
  },
  {
   "cell_type": "code",
   "execution_count": 106,
   "metadata": {
    "ExecuteTime": {
     "end_time": "2019-05-19T04:28:28.374698Z",
     "start_time": "2019-05-19T04:28:27.444211Z"
    }
   },
   "outputs": [
    {
     "name": "stdout",
     "output_type": "stream",
     "text": [
      "\n",
      "> > > dateFilterMyDataFrame() filtering all records by year : 2017\n"
     ]
    }
   ],
   "source": [
    "def finalDataFram3r(focusAddMonth_df= addMonthFilterByYearMyDF(bring_all_records_for='2017')):\n",
    "    vehiclesOnly_df = focusAddMonth_df.groupby('m0nth').count()\n",
    "    gr0uped_df = vehiclesOnly_df.copy()\n",
    "    collusionTotal2017_num = focusAddMonth_df.count()[-1]\n",
    "    vehicleColumns_list = list(gr0uped_df.columns)\n",
    "    gr0uped_df['singleCarOnly'] = [\n",
    "        int(first - second) \n",
    "        for first, second \n",
    "        in zip(gr0uped_df[vehicleColumns_list[0]], gr0uped_df[vehicleColumns_list[1]])\n",
    "    ] \n",
    "    gr0uped_df['twoCarsOnly'] = [\n",
    "        int(first - second) \n",
    "        for first, second \n",
    "        in zip(gr0uped_df[vehicleColumns_list[1]], gr0uped_df[vehicleColumns_list[2]])\n",
    "    ] \n",
    "    # at least one vehicle involved \n",
    "    gr0uped_df['numTotalMonthly'] = [ \n",
    "        int(minimum_one_car) \n",
    "        for minimum_one_car \n",
    "        in gr0uped_df[vehicleColumns_list[0]]     \n",
    "                       ]\n",
    "    final_df = gr0uped_df[['singleCarOnly',\n",
    "                           'twoCarsOnly',\n",
    "                         'numTotalMonthly']]\n",
    "    final_df['threeCarsAndMore'] = [int(total) - int(single + double) for total,single, double in zip(final_df['numTotalMonthly'], final_df['singleCarOnly'], final_df['twoCarsOnly'])\n",
    "                                   ]\n",
    "    return final_df.drop(columns=['singleCarOnly', 'twoCarsOnly'])"
   ]
  },
  {
   "cell_type": "code",
   "execution_count": 107,
   "metadata": {
    "ExecuteTime": {
     "end_time": "2019-05-19T04:28:29.334192Z",
     "start_time": "2019-05-19T04:28:28.453657Z"
    }
   },
   "outputs": [
    {
     "name": "stdout",
     "output_type": "stream",
     "text": [
      "\n",
      "> > > dateFilterMyDataFrame() filtering all records by year : 2017\n"
     ]
    }
   ],
   "source": [
    "def fin4lPerctgDataFramer(\n",
    "    final_df = finalDataFram3r(\n",
    "        focusAddMonth_df= addMonthFilterByYearMyDF(\n",
    "            bring_all_records_for='2017'))):\n",
    "    \n",
    "    \n",
    "    percentage_df = final_df.copy()\n",
    "    percentage_df['percMonthly'] = [\n",
    "        float(threecars/totalnum*100).__round__(2)\n",
    "        for threecars,totalnum \n",
    "        in zip(percentage_df['threeCarsAndMore'],percentage_df['numTotalMonthly'])\n",
    "    ]\n",
    "\n",
    "    return percentage_df.drop(columns='threeCarsAndMore')"
   ]
  },
  {
   "cell_type": "code",
   "execution_count": 139,
   "metadata": {
    "ExecuteTime": {
     "end_time": "2019-05-19T05:29:06.679259Z",
     "start_time": "2019-05-19T05:29:06.668263Z"
    }
   },
   "outputs": [],
   "source": [
    "def bubbleMultiCarInv(\n",
    "    multiCarInvPerc_df= fin4lPerctgDataFramer()\n",
    "                     ):\n",
    "    \"\"\"\n",
    "    CREATES A BUBBLE CHART WITH BUBBLE SIZE PROPORTIONATE TO MONTHLY COLLUSION COUNT\n",
    "    \"\"\"\n",
    "    plt.figure(figsize=(18, 13))\n",
    "    plt.title('BUBBLE CHART: ZIP CODE VS COLLUSION-PER-SQ-KM-2017')\n",
    "    plt.title('NYC Collusion Dataset-2017')\n",
    "    plt.ylabel('Monthly Three or More Vehicle Involvement Percentage')\n",
    "    plt.xlabel('Months')\n",
    "    m0nthFancy_list = monthNamesLister()\n",
    "    monthFancy_list = [\n",
    "        's: {:,}'.format(numCollusion)\n",
    "        for month, numCollusion in zip(m0nthFancy_list, num4size_list)\n",
    "    ]\n",
    "    perc_list = multiCarInvPerc_df['percMonthly']\n",
    "    num4size_list = multiCarInvPerc_df['numTotalMonthly']\n",
    "    for month, percentage, numTotal in zip(monthFancy_list,perc_list,num4size_list):\n",
    "        lab3l = month,': {:,}'.format(numTotal)  \n",
    "        plt.scatter(\n",
    "            month,percentage, \n",
    "            s=3000*numTotal/num4size_list.max(), \n",
    "            marker='o', edgecolors='black' , alpha = 0.50,\n",
    "            label = lab3l\n",
    "        )\n",
    "    plt.legend(loc='best')\n",
    "    fileName2save = 'Q8_ZIPCODE_COL-SQ-KM-2017.png'\n",
    "    plt.savefig(fileName2save)\n",
    "    plt.show()\n",
    "    return None"
   ]
  },
  {
   "cell_type": "code",
   "execution_count": 140,
   "metadata": {
    "ExecuteTime": {
     "end_time": "2019-05-19T05:29:07.112798Z",
     "start_time": "2019-05-19T05:29:06.835956Z"
    }
   },
   "outputs": [
    {
     "ename": "UnboundLocalError",
     "evalue": "local variable 'num4size_list' referenced before assignment",
     "output_type": "error",
     "traceback": [
      "\u001b[1;31m------------------------------------------\u001b[0m",
      "\u001b[1;31mUnboundLocalError\u001b[0mTraceback (most recent call last)",
      "\u001b[1;32m<ipython-input-140-2fb5791932fa>\u001b[0m in \u001b[0;36m<module>\u001b[1;34m()\u001b[0m\n\u001b[1;32m----> 1\u001b[1;33m \u001b[0mbubbleMultiCarInv\u001b[0m\u001b[1;33m(\u001b[0m\u001b[1;33m)\u001b[0m\u001b[1;33m\u001b[0m\u001b[0m\n\u001b[0m",
      "\u001b[1;32m<ipython-input-139-8658048bf68c>\u001b[0m in \u001b[0;36mbubbleMultiCarInv\u001b[1;34m(multiCarInvPerc_df)\u001b[0m\n\u001b[0;32m     13\u001b[0m     monthFancy_list = [\n\u001b[0;32m     14\u001b[0m         \u001b[0mstr\u001b[0m\u001b[1;33m(\u001b[0m\u001b[0mmonth\u001b[0m\u001b[1;33m,\u001b[0m \u001b[1;34m': {:,}'\u001b[0m\u001b[1;33m.\u001b[0m\u001b[0mformat\u001b[0m\u001b[1;33m(\u001b[0m\u001b[0mnumCollusion\u001b[0m\u001b[1;33m)\u001b[0m\u001b[1;33m)\u001b[0m\u001b[1;33m\u001b[0m\u001b[0m\n\u001b[1;32m---> 15\u001b[1;33m         \u001b[1;32mfor\u001b[0m \u001b[0mmonth\u001b[0m\u001b[1;33m,\u001b[0m \u001b[0mnumCollusion\u001b[0m \u001b[1;32min\u001b[0m \u001b[0mzip\u001b[0m\u001b[1;33m(\u001b[0m\u001b[0mm0nthFancy_list\u001b[0m\u001b[1;33m,\u001b[0m \u001b[0mnum4size_list\u001b[0m\u001b[1;33m)\u001b[0m\u001b[1;33m\u001b[0m\u001b[0m\n\u001b[0m\u001b[0;32m     16\u001b[0m     ]\n\u001b[0;32m     17\u001b[0m     \u001b[0mperc_list\u001b[0m \u001b[1;33m=\u001b[0m \u001b[0mmultiCarInvPerc_df\u001b[0m\u001b[1;33m[\u001b[0m\u001b[1;34m'percMonthly'\u001b[0m\u001b[1;33m]\u001b[0m\u001b[1;33m\u001b[0m\u001b[0m\n",
      "\u001b[1;31mUnboundLocalError\u001b[0m: local variable 'num4size_list' referenced before assignment"
     ]
    },
    {
     "data": {
      "image/png": "[encoded data removed]",
      "text/plain": [
       "<Figure size 1296x936 with 1 Axes>"
      ]
     },
     "metadata": {},
     "output_type": "display_data"
    }
   ],
   "source": [
    "bubbleMultiCarInv()"
   ]
  },
  {
   "cell_type": "markdown",
   "metadata": {},
   "source": [
    "### Q-7: Do winter driving conditions lead to more multi-car collisions?\n",
    "* Compute the rate of multi car collisions as the proportion of the number of collisions involving 3 or more cars to the total number of collisions for each month of 2017. \n",
    "* Calculate the chi-square test statistic for testing whether a collision is more likely to involve 3 or more cars in January than in May."
   ]
  },
  {
   "cell_type": "markdown",
   "metadata": {},
   "source": [
    "# BELOW CODE DOESN'T RUN"
   ]
  },
  {
   "cell_type": "code",
   "execution_count": null,
   "metadata": {},
   "outputs": [],
   "source": []
  }
 ],
 "metadata": {
  "kernelspec": {
   "display_name": "Python 3",
   "language": "python",
   "name": "python3"
  },
  "language_info": {
   "codemirror_mode": {
    "name": "ipython",
    "version": 3
   },
   "file_extension": ".py",
   "mimetype": "text/x-python",
   "name": "python",
   "nbconvert_exporter": "python",
   "pygments_lexer": "ipython3",
   "version": "3.6.5"
  },
  "varInspector": {
   "cols": {
    "lenName": 16,
    "lenType": 16,
    "lenVar": 40
   },
   "kernels_config": {
    "python": {
     "delete_cmd_postfix": "",
     "delete_cmd_prefix": "del ",
     "library": "var_list.py",
     "varRefreshCmd": "print(var_dic_list())"
    },
    "r": {
     "delete_cmd_postfix": ") ",
     "delete_cmd_prefix": "rm(",
     "library": "var_list.r",
     "varRefreshCmd": "cat(var_dic_list()) "
    }
   },
   "types_to_exclude": [
    "module",
    "function",
    "builtin_function_or_method",
    "instance",
    "_Feature"
   ],
   "window_display": false
  },
  "widgets": {
   "application/vnd.jupyter.widget-state+json": {
    "state": {},
    "version_major": 2,
    "version_minor": 0
   }
  }
 },
 "nbformat": 4,
 "nbformat_minor": 2
}
