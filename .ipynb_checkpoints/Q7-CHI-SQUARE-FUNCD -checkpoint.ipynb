{
 "cells": [
  {
   "cell_type": "markdown",
   "metadata": {},
   "source": [
    "### Q-7: Do winter driving conditions lead to more multi-car collisions?\n",
    "* Compute the rate of multi car collisions as the proportion of the number of collisions involving 3 or more cars to the total number of collisions for each month of 2017. \n",
    "* Calculate the chi-square test statistic for testing whether a collision is more likely to involve 3 or more cars in January than in May."
   ]
  },
  {
   "cell_type": "code",
   "execution_count": 1,
   "metadata": {
    "ExecuteTime": {
     "end_time": "2019-05-17T08:12:02.944861Z",
     "start_time": "2019-05-17T08:11:42.421619Z"
    },
    "scrolled": true
   },
   "outputs": [
    {
     "name": "stdout",
     "output_type": "stream",
     "text": [
      "\n",
      "> > > > dataFram3NYC() now reading csv with file path below\n",
      "> > >  C:\\Users\\DENVER\\Desktop\\interviewPY\\INT_03_PYTHON_PANDAS_NYC_COLLISION\\NYPD_Motor_Vehicle_Collisions.csv\n",
      "\n",
      "{0: 'DATE', 1: 'TIME', 2: 'BOROUGH', 3: 'ZIP CODE', 4: 'LATITUDE', 5: 'LONGITUDE', 6: 'LOCATION', 7: 'ON STREET NAME', 8: 'CROSS STREET NAME', 9: 'OFF STREET NAME', 10: 'NUMBER OF PERSONS INJURED', 11: 'NUMBER OF PERSONS KILLED', 12: 'NUMBER OF PEDESTRIANS INJURED', 13: 'NUMBER OF PEDESTRIANS KILLED', 14: 'NUMBER OF CYCLIST INJURED', 15: 'NUMBER OF CYCLIST KILLED', 16: 'NUMBER OF MOTORIST INJURED', 17: 'NUMBER OF MOTORIST KILLED', 18: 'CONTRIBUTING FACTOR VEHICLE 1', 19: 'CONTRIBUTING FACTOR VEHICLE 2', 20: 'CONTRIBUTING FACTOR VEHICLE 3', 21: 'CONTRIBUTING FACTOR VEHICLE 4', 22: 'CONTRIBUTING FACTOR VEHICLE 5', 23: 'UNIQUE KEY', 24: 'VEHICLE TYPE CODE 1', 25: 'VEHICLE TYPE CODE 2', 26: 'VEHICLE TYPE CODE 3', 27: 'VEHICLE TYPE CODE 4', 28: 'VEHICLE TYPE CODE 5'}\n",
      "\n",
      "> > > focusDataframer(columns2keep_list = [indexNo_as_int00, indexNo_as_int01]\n",
      "> > >                * selected columns:\n",
      "> > >                                   0  keeps  DATE\n",
      "> > >                                   3  keeps  ZIP CODE\n",
      "> > >                                   4  keeps  LATITUDE\n",
      "> > >                                   5  keeps  LONGITUDE\n",
      "\n",
      "> > > > dataFram3NYC() now reading csv with file path below\n",
      "> > >  C:\\Users\\DENVER\\Desktop\\interviewPY\\INT_03_PYTHON_PANDAS_NYC_COLLISION\\NYPD_Motor_Vehicle_Collisions.csv\n",
      "\n",
      "{0: 'DATE', 1: 'TIME', 2: 'BOROUGH', 3: 'ZIP CODE', 4: 'LATITUDE', 5: 'LONGITUDE', 6: 'LOCATION', 7: 'ON STREET NAME', 8: 'CROSS STREET NAME', 9: 'OFF STREET NAME', 10: 'NUMBER OF PERSONS INJURED', 11: 'NUMBER OF PERSONS KILLED', 12: 'NUMBER OF PEDESTRIANS INJURED', 13: 'NUMBER OF PEDESTRIANS KILLED', 14: 'NUMBER OF CYCLIST INJURED', 15: 'NUMBER OF CYCLIST KILLED', 16: 'NUMBER OF MOTORIST INJURED', 17: 'NUMBER OF MOTORIST KILLED', 18: 'CONTRIBUTING FACTOR VEHICLE 1', 19: 'CONTRIBUTING FACTOR VEHICLE 2', 20: 'CONTRIBUTING FACTOR VEHICLE 3', 21: 'CONTRIBUTING FACTOR VEHICLE 4', 22: 'CONTRIBUTING FACTOR VEHICLE 5', 23: 'UNIQUE KEY', 24: 'VEHICLE TYPE CODE 1', 25: 'VEHICLE TYPE CODE 2', 26: 'VEHICLE TYPE CODE 3', 27: 'VEHICLE TYPE CODE 4', 28: 'VEHICLE TYPE CODE 5'}\n",
      "\n",
      "> > > focusDataframer(columns2keep_list = [indexNo_as_int00, indexNo_as_int01]\n",
      "> > >                * selected columns:\n",
      "> > >                                   0  keeps  DATE\n",
      "> > >                                   3  keeps  ZIP CODE\n",
      "> > >                                   4  keeps  LATITUDE\n",
      "> > >                                   5  keeps  LONGITUDE\n"
     ]
    }
   ],
   "source": [
    "from IPython.core.interactiveshell import InteractiveShell\n",
    "InteractiveShell.ast_node_interactivity = \"all\"\n",
    "import warnings; warnings.simplefilter('ignore')\n",
    "import pandas as pd\n",
    "import os\n",
    "import matplotlib.pyplot as plt\n",
    "import seaborn as sns\n",
    "plt.style.use('fivethirtyeight')\n",
    "from NYPD_functions import (\n",
    "    dataFram3NYC,\n",
    "    focusDataframer,\n",
    "    dateFilterMyDataFrame,\n",
    "    addMonthFilterByYearMyDF,\n",
    "    monthNamesLister\n",
    ")"
   ]
  },
  {
   "cell_type": "code",
   "execution_count": null,
   "metadata": {
    "ExecuteTime": {
     "end_time": "2019-05-17T08:12:12.957106Z",
     "start_time": "2019-05-17T08:12:02.985838Z"
    }
   },
   "outputs": [],
   "source": [
    "questionSevenCol_list = [\n",
    "    column_number for column_number in range(24, 29)\n",
    "]\n",
    "questionSevenCol_list.append(0)"
   ]
  },
  {
   "cell_type": "code",
   "execution_count": 2,
   "metadata": {
    "ExecuteTime": {
     "end_time": "2019-05-17T08:12:12.957106Z",
     "start_time": "2019-05-17T08:12:02.985838Z"
    }
   },
   "outputs": [
    {
     "name": "stdout",
     "output_type": "stream",
     "text": [
      "\n",
      "> > > > dataFram3NYC() now reading csv with file path below\n",
      "> > >  C:\\Users\\DENVER\\Desktop\\interviewPY\\INT_03_PYTHON_PANDAS_NYC_COLLISION\\NYPD_Motor_Vehicle_Collisions.csv\n",
      "\n",
      "{0: 'DATE', 1: 'TIME', 2: 'BOROUGH', 3: 'ZIP CODE', 4: 'LATITUDE', 5: 'LONGITUDE', 6: 'LOCATION', 7: 'ON STREET NAME', 8: 'CROSS STREET NAME', 9: 'OFF STREET NAME', 10: 'NUMBER OF PERSONS INJURED', 11: 'NUMBER OF PERSONS KILLED', 12: 'NUMBER OF PEDESTRIANS INJURED', 13: 'NUMBER OF PEDESTRIANS KILLED', 14: 'NUMBER OF CYCLIST INJURED', 15: 'NUMBER OF CYCLIST KILLED', 16: 'NUMBER OF MOTORIST INJURED', 17: 'NUMBER OF MOTORIST KILLED', 18: 'CONTRIBUTING FACTOR VEHICLE 1', 19: 'CONTRIBUTING FACTOR VEHICLE 2', 20: 'CONTRIBUTING FACTOR VEHICLE 3', 21: 'CONTRIBUTING FACTOR VEHICLE 4', 22: 'CONTRIBUTING FACTOR VEHICLE 5', 23: 'UNIQUE KEY', 24: 'VEHICLE TYPE CODE 1', 25: 'VEHICLE TYPE CODE 2', 26: 'VEHICLE TYPE CODE 3', 27: 'VEHICLE TYPE CODE 4', 28: 'VEHICLE TYPE CODE 5'}\n",
      "\n",
      "> > > focusDataframer(columns2keep_list = [indexNo_as_int00, indexNo_as_int01]\n",
      "> > >                * selected columns:\n",
      "> > >                                   24  keeps  VEHICLE TYPE CODE 1\n",
      "> > >                                   25  keeps  VEHICLE TYPE CODE 2\n",
      "> > >                                   26  keeps  VEHICLE TYPE CODE 3\n",
      "> > >                                   27  keeps  VEHICLE TYPE CODE 4\n",
      "> > >                                   28  keeps  VEHICLE TYPE CODE 5\n",
      "> > >                                   0  keeps  DATE\n"
     ]
    }
   ],
   "source": [
    "def addMonthFilterByYearMyDF(focus_df = focusDataframer(questionSevenCol_list), date_column_label = 'DATE', bring_all_records_for = '2017'):\n",
    "    \"\"\"\n",
    "    REQUIRES A DATAFRAME, COLUMN NAME THAT HAS DATE OF EACH RECORD, \n",
    "    ADDS A COLUMN BY NAME 'ye4r' WITH FOUR DIGIT YEAR 'YYYY' STRING AS VALUES\n",
    "    \"\"\"\n",
    "    pass\n",
    "    print()\n",
    "    print('> > > dateFilterMyDataFrame() filtering all records by year : ' + bring_all_records_for)\n",
    "#     focus_df = focusDataframer()\n",
    "    focus_df['ye4r'] = [\n",
    "        date[-4:] for date in focus_df['DATE']\n",
    "    ]\n",
    "    filtered_by_year_df = focus_df.loc[focus_df['ye4r'] == bring_all_records_for]\n",
    "    filtered_by_year_df['m0nth'] = [date[:2] for date in filtered_by_year_df[date_column_label]]\n",
    "    return filtered_by_year_df.drop(columns = [date_column_label, 'ye4r'])"
   ]
  },
  {
   "cell_type": "code",
   "execution_count": 5,
   "metadata": {
    "ExecuteTime": {
     "end_time": "2019-05-17T08:12:36.605609Z",
     "start_time": "2019-05-17T08:12:36.599615Z"
    }
   },
   "outputs": [],
   "source": [
    "def monthNamesLister(months_in_numbers_list = np.arange(12)):\n",
    "\n",
    "    \"\"\" RETURNS LIST OF FULL NAMES OF MONTHS GIVEN AS 01 OR 02 OR 03 ETC\"\"\"\n",
    "    monthNames_list= [\n",
    "        'January', 'February', 'March', 'April', 'May', 'June', \n",
    "        'July', 'August', 'September', 'October', 'November', 'December' \n",
    "        ]\n",
    "    monthsNumber_list = np.arange(12)\n",
    "    monthNames_dict = dict(zip(monthsNumber_list, monthNames_list))\n",
    "    out_list = [\n",
    "        monthNames_dict[integerMonth]\n",
    "        for integerMonth in list(months_in_numbers_list)\n",
    "    ]\n",
    "    return out_list"
   ]
  },
  {
   "cell_type": "code",
   "execution_count": 16,
   "metadata": {
    "ExecuteTime": {
     "end_time": "2019-05-17T08:20:52.204330Z",
     "start_time": "2019-05-17T08:20:51.342808Z"
    }
   },
   "outputs": [
    {
     "name": "stdout",
     "output_type": "stream",
     "text": [
      "\n",
      "> > > dateFilterMyDataFrame() filtering all records by year : 2017\n"
     ]
    },
    {
     "data": {
      "text/plain": [
       "230997"
      ]
     },
     "execution_count": 16,
     "metadata": {},
     "output_type": "execute_result"
    }
   ],
   "source": [
    "focusAddMonth_df= addMonthFilterByYearMyDF(bring_all_records_for='2017')\n",
    "# focusAddMonth_df.head()\n",
    "vehiclesOnly_df = focusAddMonth_df.groupby('m0nth').count()\n",
    "collusionTotal2017_num = focusAddMonth_df.count()[-1]\n",
    "collusionTotal2017_num"
   ]
  },
  {
   "cell_type": "code",
   "execution_count": null,
   "metadata": {},
   "outputs": [],
   "source": []
  },
  {
   "cell_type": "code",
   "execution_count": null,
   "metadata": {},
   "outputs": [],
   "source": []
  },
  {
   "cell_type": "code",
   "execution_count": null,
   "metadata": {},
   "outputs": [],
   "source": []
  },
  {
   "cell_type": "code",
   "execution_count": null,
   "metadata": {
    "ExecuteTime": {
     "end_time": "2019-05-08T03:04:20.020819Z",
     "start_time": "2019-05-08T03:04:20.016823Z"
    }
   },
   "outputs": [],
   "source": [
    "gr0uped_df['singleCarOnly'] = [\n",
    "    int(first - second) \n",
    "    for first, second \n",
    "    in zip(gr0uped_df[vehicleColumns_list[0]], gr0uped_df[vehicleColumns_list[1]])\n",
    "] "
   ]
  },
  {
   "cell_type": "code",
   "execution_count": null,
   "metadata": {
    "ExecuteTime": {
     "end_time": "2019-05-08T03:04:20.848360Z",
     "start_time": "2019-05-08T03:04:20.843346Z"
    }
   },
   "outputs": [],
   "source": [
    "gr0uped_df['twoCarsOnly'] = [\n",
    "    int(first - second) \n",
    "    for first, second \n",
    "    in zip(gr0uped_df[vehicleColumns_list[1]], gr0uped_df[vehicleColumns_list[2]])\n",
    "] "
   ]
  },
  {
   "cell_type": "code",
   "execution_count": null,
   "metadata": {
    "ExecuteTime": {
     "end_time": "2019-05-08T03:04:21.691858Z",
     "start_time": "2019-05-08T03:04:21.687859Z"
    }
   },
   "outputs": [],
   "source": [
    "# at least one vehicle involved \n",
    "gr0uped_df['numTotalMonthly'] = [ \n",
    "    int(minimum_one_car) \n",
    "    for minimum_one_car \n",
    "    in gr0uped_df[vehicleColumns_list[0]]     \n",
    "                   ]"
   ]
  },
  {
   "cell_type": "code",
   "execution_count": null,
   "metadata": {
    "ExecuteTime": {
     "end_time": "2019-05-08T03:04:22.520381Z",
     "start_time": "2019-05-08T03:04:22.508386Z"
    }
   },
   "outputs": [],
   "source": [
    "final_df = gr0uped_df[['singleCarOnly',\n",
    "                       'twoCarsOnly',\n",
    "                     'numTotalMonthly']]\n",
    "final_df.head()\n"
   ]
  },
  {
   "cell_type": "code",
   "execution_count": null,
   "metadata": {
    "ExecuteTime": {
     "end_time": "2019-05-08T03:04:23.397875Z",
     "start_time": "2019-05-08T03:04:23.357897Z"
    }
   },
   "outputs": [],
   "source": [
    "final_df['threeCarsAndMore'] = [int(total) - int(single + double) for total,single, double in zip(final_df['numTotalMonthly'], final_df['singleCarOnly'], final_df['twoCarsOnly'])\n",
    "                               ]"
   ]
  },
  {
   "cell_type": "code",
   "execution_count": null,
   "metadata": {
    "ExecuteTime": {
     "end_time": "2019-05-08T03:04:24.289361Z",
     "start_time": "2019-05-08T03:04:24.252383Z"
    }
   },
   "outputs": [],
   "source": [
    "final_df.drop(columns=['singleCarOnly', 'twoCarsOnly'], inplace=True)"
   ]
  },
  {
   "cell_type": "code",
   "execution_count": null,
   "metadata": {
    "ExecuteTime": {
     "end_time": "2019-05-08T03:04:25.119337Z",
     "start_time": "2019-05-08T03:04:25.112342Z"
    }
   },
   "outputs": [],
   "source": [
    "percentage_df = final_df.copy()\n",
    "percentage_df['percMonthly'] = [\n",
    "    float(threecars/totalnum*100).__round__(2)\n",
    "    for threecars,totalnum \n",
    "    in zip(percentage_df['threeCarsAndMore'],percentage_df['numTotalMonthly'])\n",
    "]"
   ]
  },
  {
   "cell_type": "code",
   "execution_count": null,
   "metadata": {
    "ExecuteTime": {
     "end_time": "2019-05-08T03:04:25.954856Z",
     "start_time": "2019-05-08T03:04:25.947861Z"
    }
   },
   "outputs": [],
   "source": [
    "percentage_df.drop(columns='threeCarsAndMore', inplace=True)"
   ]
  },
  {
   "cell_type": "code",
   "execution_count": null,
   "metadata": {
    "ExecuteTime": {
     "end_time": "2019-05-08T03:34:34.982765Z",
     "start_time": "2019-05-08T03:34:34.967774Z"
    }
   },
   "outputs": [],
   "source": [
    "percentage_df['01':'01']\n",
    "percentage_df['05':'05']\n"
   ]
  },
  {
   "cell_type": "code",
   "execution_count": null,
   "metadata": {
    "ExecuteTime": {
     "end_time": "2019-05-08T03:04:26.799389Z",
     "start_time": "2019-05-08T03:04:26.795372Z"
    }
   },
   "outputs": [],
   "source": [
    "import scipy.stats as scs"
   ]
  },
  {
   "cell_type": "code",
   "execution_count": null,
   "metadata": {
    "ExecuteTime": {
     "end_time": "2019-05-08T03:04:27.648882Z",
     "start_time": "2019-05-08T03:04:27.645883Z"
    }
   },
   "outputs": [],
   "source": [
    "def categories(series):\n",
    "    return range(int(series.min()), int(series.max()) + 1)"
   ]
  },
  {
   "cell_type": "code",
   "execution_count": null,
   "metadata": {
    "ExecuteTime": {
     "end_time": "2019-05-08T03:04:28.486597Z",
     "start_time": "2019-05-08T03:04:28.480597Z"
    }
   },
   "outputs": [],
   "source": [
    "def chi_square_of_df_cols(df, col1, col2):\n",
    "    df_col1, df_col2 = df[col1], df[col2]\n",
    "\n",
    "    result = [[sum((df_col1 == cat1) & (df_col2 == cat2))\n",
    "               for cat2 in categories(df_col2)]\n",
    "              for cat1 in categories(df_col1)]\n",
    "\n",
    "    return scs.chi2_contingency(result)"
   ]
  },
  {
   "cell_type": "code",
   "execution_count": null,
   "metadata": {
    "ExecuteTime": {
     "end_time": "2019-05-08T03:22:44.872104Z",
     "start_time": "2019-05-08T03:22:44.715194Z"
    }
   },
   "outputs": [],
   "source": [
    "plt.plot(percentage_df.index, \n",
    "    percentage_df['percMonthly'])"
   ]
  },
  {
   "cell_type": "markdown",
   "metadata": {},
   "source": [
    "# BELOW CODE DOESN'T RUN"
   ]
  },
  {
   "cell_type": "code",
   "execution_count": null,
   "metadata": {
    "ExecuteTime": {
     "end_time": "2019-05-08T03:23:14.149034Z",
     "start_time": "2019-05-08T03:23:14.146033Z"
    }
   },
   "outputs": [],
   "source": [
    "results = chi_square_of_df_cols(percentage_df, 'percMonthly','numTotalMonthly')"
   ]
  }
 ],
 "metadata": {
  "kernelspec": {
   "display_name": "Python 3",
   "language": "python",
   "name": "python3"
  },
  "language_info": {
   "codemirror_mode": {
    "name": "ipython",
    "version": 3
   },
   "file_extension": ".py",
   "mimetype": "text/x-python",
   "name": "python",
   "nbconvert_exporter": "python",
   "pygments_lexer": "ipython3",
   "version": "3.6.5"
  },
  "varInspector": {
   "cols": {
    "lenName": 16,
    "lenType": 16,
    "lenVar": 40
   },
   "kernels_config": {
    "python": {
     "delete_cmd_postfix": "",
     "delete_cmd_prefix": "del ",
     "library": "var_list.py",
     "varRefreshCmd": "print(var_dic_list())"
    },
    "r": {
     "delete_cmd_postfix": ") ",
     "delete_cmd_prefix": "rm(",
     "library": "var_list.r",
     "varRefreshCmd": "cat(var_dic_list()) "
    }
   },
   "types_to_exclude": [
    "module",
    "function",
    "builtin_function_or_method",
    "instance",
    "_Feature"
   ],
   "window_display": false
  }
 },
 "nbformat": 4,
 "nbformat_minor": 2
}
