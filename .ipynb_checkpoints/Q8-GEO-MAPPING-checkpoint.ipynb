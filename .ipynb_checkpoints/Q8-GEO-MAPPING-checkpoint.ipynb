{
 "cells": [
  {
   "cell_type": "markdown",
   "metadata": {},
   "source": [
    "Q-8: We can use collision locations to estimate the areas of the zip code regions. \n",
    "* (Assumption) Represent each as an ellipse with semi-axes given by a single standard deviation of the longitude and latitude. \n",
    "* For collisions in 2017, estimate the number of collisions per square kilometer of each zip code region. Considering zipcodes with at least 1000 collisions, report the greatest value for collisions per square kilometer. \n",
    "* Note: Some entries may have invalid or incorrect (latitude, longitude) coordinates. Drop any values that are invalid or seem unreasonable for New York City."
   ]
  },
  {
   "cell_type": "code",
   "execution_count": 1,
   "metadata": {
    "ExecuteTime": {
     "end_time": "2019-05-15T08:30:31.588976Z",
     "start_time": "2019-05-15T08:30:28.367280Z"
    }
   },
   "outputs": [],
   "source": [
    "from IPython.core.interactiveshell import InteractiveShell\n",
    "InteractiveShell.ast_node_interactivity = \"all\"\n",
    "import warnings; warnings.simplefilter('ignore')\n",
    "import pandas as pd\n",
    "import os\n",
    "import datetime as dt\n",
    "import matplotlib.pyplot as plt\n",
    "import seaborn as sns\n",
    "plt.style.use('fivethirtyeight')"
   ]
  },
  {
   "cell_type": "code",
   "execution_count": 2,
   "metadata": {
    "ExecuteTime": {
     "end_time": "2019-05-15T08:30:31.611962Z",
     "start_time": "2019-05-15T08:30:31.599970Z"
    }
   },
   "outputs": [],
   "source": [
    "def dataFram3NYC(FILE_NAME = 'NYPD_Motor_Vehicle_Collisions.csv', use_parent_dir = False):\n",
    "    \"\"\"\n",
    "    READS ~1,5 MILLION ROW CSV FILE, RETURNS MASTER DATAFRAME\n",
    "    use_parent_dir will use parent directory as base directory\n",
    "    \"\"\"\n",
    "    if use_parent_dir == True:\n",
    "        CURRENTWRK_DIR = os.getcwd()\n",
    "        BASE_DIR = os.path.dirname(CURRENTWRK_DIR)\n",
    "    elif use_parent_dir == False:\n",
    "        BASE_DIR = os.getcwd()\n",
    "        \n",
    "#     STATIC_FOLDER = os.path.dirname(BASE_DIR)\n",
    "    STATIC_FOLDER = ''\n",
    "    # FILE_NAME = 'NYPD_Motor_Vehicle_Collisions.csv'\n",
    "    PATH_COMPILED = os.path.join( BASE_DIR, STATIC_FOLDER, FILE_NAME)\n",
    "    print('\\n> > > > dataFrameNYC() now reading csv with file path below')\n",
    "    print(PATH_COMPILED)\n",
    "    print()\n",
    "    _df = pd.read_csv(PATH_COMPILED, encoding = \"iso-8859-1\", low_memory = False)\n",
    "    col_list = list(_df.columns)\n",
    "    col_ind3x = np.arange(len(col_list))\n",
    "    col_dict = dict(zip( col_ind3x, col_list))\n",
    "    print(col_dict)\n",
    "    return _df"
   ]
  },
  {
   "cell_type": "code",
   "execution_count": null,
   "metadata": {},
   "outputs": [],
   "source": []
  },
  {
   "cell_type": "code",
   "execution_count": 3,
   "metadata": {
    "ExecuteTime": {
     "end_time": "2019-05-15T08:30:31.644944Z",
     "start_time": "2019-05-15T08:30:31.624956Z"
    },
    "scrolled": false
   },
   "outputs": [],
   "source": [
    "def focusDataframer(columns2keep_list = [0,3,4,5]):\n",
    "    \"\"\"\n",
    "    MODIFIED DATA FRAMER, PRINTS OUT ALL COLUMN INDEX/NAMES, \n",
    "    REQUIRES A LIST OF REQUESTED COLUMN INDEXES AS INTEGERS\n",
    "    RETURNS A DATAFRAME WITH ONLY USER-SELECTED COLUMNS\n",
    "    \"\"\"\n",
    "    pass\n",
    "    raw_df = dataFram3NYC(use_parent_dir=True)\n",
    "    col_list = list(raw_df.columns)\n",
    "    col_ind3x = np.arange(len(col_list))\n",
    "    col_dict = dict(zip( col_ind3x, col_list))\n",
    "    col_final = []\n",
    "    for index in columns2keep_list:\n",
    "        add_this_column = col_dict[index]\n",
    "        col_final.append(add_this_column)\n",
    "    col_final = [\n",
    "        str(index)\n",
    "        for index in col_final\n",
    "    ]\n",
    "    _df = raw_df[\n",
    "        col_final\n",
    "    ]\n",
    "    print()\n",
    "    print('> > > focusDataframer(columns2keep_list = [indexNo_as_int00, indexNo_as_int01]')\n",
    "    print(col_final)\n",
    "    return _df"
   ]
  },
  {
   "cell_type": "code",
   "execution_count": 4,
   "metadata": {
    "ExecuteTime": {
     "end_time": "2019-05-15T08:30:31.679925Z",
     "start_time": "2019-05-15T08:30:31.659936Z"
    }
   },
   "outputs": [],
   "source": [
    "# focusDataframer()"
   ]
  },
  {
   "cell_type": "markdown",
   "metadata": {},
   "source": [
    "Represent each as an ellipse with semi-axes given by a single standard deviation of the longitude and latitude. \n",
    "* For collisions in 2017, estimate the number of collisions per square kilometer of each zip code region. "
   ]
  },
  {
   "cell_type": "code",
   "execution_count": 5,
   "metadata": {
    "ExecuteTime": {
     "end_time": "2019-05-15T08:30:42.364784Z",
     "start_time": "2019-05-15T08:30:31.691917Z"
    }
   },
   "outputs": [
    {
     "name": "stdout",
     "output_type": "stream",
     "text": [
      "\n",
      "> > > > dataFrameNYC() now reading csv with file path below\n",
      "C:\\Users\\DENVER\\Desktop\\interviewPY\\INT_03_PYTHON_PANDAS_NYC_COLLISION\\NYPD_Motor_Vehicle_Collisions.csv\n",
      "\n",
      "{0: 'DATE', 1: 'TIME', 2: 'BOROUGH', 3: 'ZIP CODE', 4: 'LATITUDE', 5: 'LONGITUDE', 6: 'LOCATION', 7: 'ON STREET NAME', 8: 'CROSS STREET NAME', 9: 'OFF STREET NAME', 10: 'NUMBER OF PERSONS INJURED', 11: 'NUMBER OF PERSONS KILLED', 12: 'NUMBER OF PEDESTRIANS INJURED', 13: 'NUMBER OF PEDESTRIANS KILLED', 14: 'NUMBER OF CYCLIST INJURED', 15: 'NUMBER OF CYCLIST KILLED', 16: 'NUMBER OF MOTORIST INJURED', 17: 'NUMBER OF MOTORIST KILLED', 18: 'CONTRIBUTING FACTOR VEHICLE 1', 19: 'CONTRIBUTING FACTOR VEHICLE 2', 20: 'CONTRIBUTING FACTOR VEHICLE 3', 21: 'CONTRIBUTING FACTOR VEHICLE 4', 22: 'CONTRIBUTING FACTOR VEHICLE 5', 23: 'UNIQUE KEY', 24: 'VEHICLE TYPE CODE 1', 25: 'VEHICLE TYPE CODE 2', 26: 'VEHICLE TYPE CODE 3', 27: 'VEHICLE TYPE CODE 4', 28: 'VEHICLE TYPE CODE 5'}\n",
      "\n",
      "> > > focusDataframer(columns2keep_list = [indexNo_as_int00, indexNo_as_int01]\n",
      "['DATE', 'ZIP CODE', 'LATITUDE', 'LONGITUDE']\n"
     ]
    }
   ],
   "source": [
    "def dateFilterMyDataFrame(focus_df = focusDataframer(), bring_all_records_for = '2016'):\n",
    "    \"\"\"\n",
    "    REQUIRES A DATAFRAME WITH A TARGET FIELD NAMED 'DATE',\n",
    "    FILTERS DATE BY FOUR DIGIT YEAR 'YYYY' STRING INPUT\n",
    "    \"\"\"\n",
    "    pass\n",
    "    print('> > > dateFilterMyDataFrame() filtering all records by year : ' + bring_all_records_for)\n",
    "#     focus_df = focusDataframer()\n",
    "    focus_df['dat3'] = [\n",
    "        date[-4:] for date in focus_df['DATE']\n",
    "    ]\n",
    "    filtered_by_date_df = focus_df.loc[focus_df['dat3'] == bring_all_records_for]\n",
    "    return filtered_by_date_df.drop(columns = 'DATE')"
   ]
  },
  {
   "cell_type": "code",
   "execution_count": 6,
   "metadata": {
    "ExecuteTime": {
     "end_time": "2019-05-15T08:30:42.382772Z",
     "start_time": "2019-05-15T08:30:42.376776Z"
    }
   },
   "outputs": [],
   "source": [
    "def standardDeviationZIPLatLan():\n",
    "    yearFiltered_df = dateFilterMyDataFrame(focus_df = focusDataframer(), bring_all_records_for = '2017')\n",
    "    print(yearFiltered_df.groupby('ZIP CODE').std())\n",
    "#     dropZeroLat_df = yearFiltered_df.loc[yearFiltered_df['LATITUDE'] == 0]\n",
    "    print(yearFiltered_df.describe())\n",
    "#     print(dropZeroLat_df.describe())\n",
    "    print('> > > standardDeviationZIPLatLan() calculated std of LAT and LAN: ')\n"
   ]
  },
  {
   "cell_type": "code",
   "execution_count": 7,
   "metadata": {
    "ExecuteTime": {
     "end_time": "2019-05-15T08:30:53.097614Z",
     "start_time": "2019-05-15T08:30:42.394765Z"
    }
   },
   "outputs": [
    {
     "name": "stdout",
     "output_type": "stream",
     "text": [
      "\n",
      "> > > > dataFrameNYC() now reading csv with file path below\n",
      "C:\\Users\\DENVER\\Desktop\\interviewPY\\INT_03_PYTHON_PANDAS_NYC_COLLISION\\NYPD_Motor_Vehicle_Collisions.csv\n",
      "\n",
      "{0: 'DATE', 1: 'TIME', 2: 'BOROUGH', 3: 'ZIP CODE', 4: 'LATITUDE', 5: 'LONGITUDE', 6: 'LOCATION', 7: 'ON STREET NAME', 8: 'CROSS STREET NAME', 9: 'OFF STREET NAME', 10: 'NUMBER OF PERSONS INJURED', 11: 'NUMBER OF PERSONS KILLED', 12: 'NUMBER OF PEDESTRIANS INJURED', 13: 'NUMBER OF PEDESTRIANS KILLED', 14: 'NUMBER OF CYCLIST INJURED', 15: 'NUMBER OF CYCLIST KILLED', 16: 'NUMBER OF MOTORIST INJURED', 17: 'NUMBER OF MOTORIST KILLED', 18: 'CONTRIBUTING FACTOR VEHICLE 1', 19: 'CONTRIBUTING FACTOR VEHICLE 2', 20: 'CONTRIBUTING FACTOR VEHICLE 3', 21: 'CONTRIBUTING FACTOR VEHICLE 4', 22: 'CONTRIBUTING FACTOR VEHICLE 5', 23: 'UNIQUE KEY', 24: 'VEHICLE TYPE CODE 1', 25: 'VEHICLE TYPE CODE 2', 26: 'VEHICLE TYPE CODE 3', 27: 'VEHICLE TYPE CODE 4', 28: 'VEHICLE TYPE CODE 5'}\n",
      "\n",
      "> > > focusDataframer(columns2keep_list = [indexNo_as_int00, indexNo_as_int01]\n",
      "['DATE', 'ZIP CODE', 'LATITUDE', 'LONGITUDE']\n",
      "> > > dateFilterMyDataFrame() filtering all records by year : 2017\n",
      "          LATITUDE  LONGITUDE\n",
      "ZIP CODE                     \n",
      "10000     0.006955   0.005024\n",
      "10001     1.001074   1.817784\n",
      "10002     1.756582   3.191857\n",
      "10003     0.005313   0.004178\n",
      "10004     0.001596   0.002117\n",
      "10005     0.001451   0.001526\n",
      "10006     0.001191   0.001372\n",
      "10007     0.001666   0.003500\n",
      "10009     0.003726   0.003636\n",
      "10010     0.002242   0.005122\n",
      "10011     0.004031   0.004514\n",
      "10012     0.004504   0.005312\n",
      "10013     1.048941   1.906292\n",
      "10014     0.004603   0.002754\n",
      "10016     1.489329   2.704037\n",
      "10017     1.931869   3.506714\n",
      "10018     0.002746   0.008062\n",
      "10019     0.004447   0.007031\n",
      "10020     0.000753   0.001133\n",
      "10021     1.900891   3.448354\n",
      "10022     0.002289   0.004003\n",
      "10023     0.006835   0.006931\n",
      "10024     1.658169   3.007535\n",
      "10025     1.563334   2.834474\n",
      "10026     2.068756   3.749543\n",
      "10027     0.003273   0.005671\n",
      "10028     0.002554   0.004921\n",
      "10029     0.004372   0.006012\n",
      "10030     0.002916   0.002482\n",
      "10031     0.003583   0.003949\n",
      "...            ...        ...\n",
      "11385     0.005146   0.018616\n",
      "11411     0.004452   0.006341\n",
      "11412     0.005756   0.007480\n",
      "11413     0.008121   0.008921\n",
      "11414     0.008575   0.008330\n",
      "11415     0.011812   0.009341\n",
      "11416     0.002708   0.006948\n",
      "11417     0.004550   0.006988\n",
      "11418     1.658764   3.009132\n",
      "11419     0.003644   0.006856\n",
      "11420     0.006017   0.008029\n",
      "11421     0.003688   0.005771\n",
      "11422     0.009927   0.004446\n",
      "11423     0.006050   0.007607\n",
      "11426     2.255994   4.083048\n",
      "11427     0.005679   0.009594\n",
      "11428     0.004020   0.007192\n",
      "11429     0.004185   0.012911\n",
      "11430     0.001313   0.008240\n",
      "11432     1.646360   2.984201\n",
      "11433     0.004939   0.006442\n",
      "11434     1.030807   1.869706\n",
      "11435     0.007824   0.007461\n",
      "11436     0.006307   0.004788\n",
      "11691     1.415279   2.571069\n",
      "11692     0.002257   0.005436\n",
      "11693     0.011292   0.004750\n",
      "11694     0.002864   0.020233\n",
      "11695          NaN        NaN\n",
      "11697     0.037070   0.038490\n",
      "\n",
      "[220 rows x 2 columns]\n",
      "            LATITUDE      LONGITUDE\n",
      "count  217075.000000  217075.000000\n",
      "mean       40.707421     -73.919369\n",
      "std         0.842007       2.536927\n",
      "min         0.000000    -201.237060\n",
      "25%        40.667934     -73.976000\n",
      "50%        40.722286     -73.927284\n",
      "75%        40.771656     -73.865405\n",
      "max        41.126150       0.000000\n",
      "> > > standardDeviationZIPLatLan() calculated std of LAT and LAN: \n"
     ]
    }
   ],
   "source": [
    "standardDeviationZIPLatLan()"
   ]
  },
  {
   "cell_type": "code",
   "execution_count": 8,
   "metadata": {
    "ExecuteTime": {
     "end_time": "2019-05-15T08:30:53.112607Z",
     "start_time": "2019-05-15T08:30:53.107607Z"
    }
   },
   "outputs": [],
   "source": [
    "#            LATITUDE      LONGITUDE\n",
    "# count  217075.000000  217075.000000\n",
    "# mean       40.707421     -73.919369\n",
    "# std         0.842007       2.536927\n",
    "# min         0.000000    -201.237060\n",
    "# max        41.126150       0.000000"
   ]
  },
  {
   "cell_type": "code",
   "execution_count": 9,
   "metadata": {
    "ExecuteTime": {
     "end_time": "2019-05-15T08:31:02.883444Z",
     "start_time": "2019-05-15T08:30:53.129596Z"
    }
   },
   "outputs": [
    {
     "name": "stdout",
     "output_type": "stream",
     "text": [
      "\n",
      "> > > > dataFrameNYC() now reading csv with file path below\n",
      "C:\\Users\\DENVER\\Desktop\\interviewPY\\INT_03_PYTHON_PANDAS_NYC_COLLISION\\NYPD_Motor_Vehicle_Collisions.csv\n",
      "\n",
      "{0: 'DATE', 1: 'TIME', 2: 'BOROUGH', 3: 'ZIP CODE', 4: 'LATITUDE', 5: 'LONGITUDE', 6: 'LOCATION', 7: 'ON STREET NAME', 8: 'CROSS STREET NAME', 9: 'OFF STREET NAME', 10: 'NUMBER OF PERSONS INJURED', 11: 'NUMBER OF PERSONS KILLED', 12: 'NUMBER OF PEDESTRIANS INJURED', 13: 'NUMBER OF PEDESTRIANS KILLED', 14: 'NUMBER OF CYCLIST INJURED', 15: 'NUMBER OF CYCLIST KILLED', 16: 'NUMBER OF MOTORIST INJURED', 17: 'NUMBER OF MOTORIST KILLED', 18: 'CONTRIBUTING FACTOR VEHICLE 1', 19: 'CONTRIBUTING FACTOR VEHICLE 2', 20: 'CONTRIBUTING FACTOR VEHICLE 3', 21: 'CONTRIBUTING FACTOR VEHICLE 4', 22: 'CONTRIBUTING FACTOR VEHICLE 5', 23: 'UNIQUE KEY', 24: 'VEHICLE TYPE CODE 1', 25: 'VEHICLE TYPE CODE 2', 26: 'VEHICLE TYPE CODE 3', 27: 'VEHICLE TYPE CODE 4', 28: 'VEHICLE TYPE CODE 5'}\n",
      "\n",
      "> > > focusDataframer(columns2keep_list = [indexNo_as_int00, indexNo_as_int01]\n",
      "['DATE', 'ZIP CODE', 'LATITUDE', 'LONGITUDE']\n",
      "> > > dateFilterMyDataFrame() filtering all records by year : 2017\n"
     ]
    }
   ],
   "source": [
    "yf_df = dateFilterMyDataFrame(focus_df = focusDataframer(), bring_all_records_for = '2017')"
   ]
  },
  {
   "cell_type": "code",
   "execution_count": 10,
   "metadata": {
    "ExecuteTime": {
     "end_time": "2019-05-15T08:32:34.205663Z",
     "start_time": "2019-05-15T08:32:32.726484Z"
    }
   },
   "outputs": [],
   "source": [
    "yfd_df = yf_df.dropna().loc[:, (yf_df == 0).any()]\n",
    "yfd_df['zipCod3'] = [\n",
    "    yf_df['ZIP CODE'][ind3x]\n",
    "    for ind3x in list(yfd_df.index)\n",
    "]\n",
    "# yf_df.head()"
   ]
  },
  {
   "cell_type": "code",
   "execution_count": 11,
   "metadata": {
    "ExecuteTime": {
     "end_time": "2019-05-15T08:32:34.268629Z",
     "start_time": "2019-05-15T08:32:34.238646Z"
    }
   },
   "outputs": [],
   "source": [
    "yfdgCount_df = yfd_df.groupby('zipCod3').count()  #YearFiltered_Dropped_GROUPED_DF\n",
    "yfdgCount_df['collusionCount'] = yfdgCount_df['LATITUDE']\n",
    "yfdgCount_df1 = yfdgCount_df.drop(columns=['LATITUDE','LONGITUDE'])\n",
    "yfdgCount_df2 = yfdgCount_df1.sort_values('collusionCount', ascending = False)\n",
    "zipCollusion_df = yfdgCount_df2.loc[yfdgCount_df2['collusionCount'] > 1000]\n"
   ]
  },
  {
   "cell_type": "code",
   "execution_count": 12,
   "metadata": {
    "ExecuteTime": {
     "end_time": "2019-05-15T08:32:34.656050Z",
     "start_time": "2019-05-15T08:32:34.632046Z"
    }
   },
   "outputs": [],
   "source": [
    "#  Each degree of latitude is approximately 69 miles (111 kilometers) apart\n",
    "# long 50+~5 miles estimated manually by google map left-bottom scale\n",
    "yfdg_df= yfd_df.groupby('zipCod3').std()  #YearFiltered_Dropped_GROUPED_DF\n",
    "PI = 3.14\n",
    "yfdg_df['are4'] = [\n",
    "    float(PI/4*a *55*b*69)  for a,b in zip(yfdg_df['LATITUDE'], yfdg_df['LONGITUDE'])\n",
    "]"
   ]
  },
  {
   "cell_type": "code",
   "execution_count": 13,
   "metadata": {
    "ExecuteTime": {
     "end_time": "2019-05-15T08:32:35.228032Z",
     "start_time": "2019-05-15T08:32:35.014884Z"
    }
   },
   "outputs": [],
   "source": [
    "final_df = yfdg_df.drop(columns=['LATITUDE', 'LONGITUDE'])\n",
    "# .loc[yfdg_df['are4'] >= 1000]\n",
    "calculatedTotalArea = final_df.sort_values(by='are4', ascending=False).sum() #752,000 km2\n",
    "nyc_totalArea = 783800\n",
    "realization_factor = calculatedTotalArea/nyc_totalArea\n",
    "final_df['ar3a'] = [\n",
    "    float(area*realization_factor)\n",
    "    for area in final_df['are4']\n",
    "]\n",
    "zipArea_df = final_df.drop(columns='are4').T"
   ]
  },
  {
   "cell_type": "markdown",
   "metadata": {},
   "source": [
    "Q-8: We can use collision locations to estimate the areas of the zip code regions. \n",
    "* (Assumption) Represent each as an ellipse with semi-axes given by a single standard deviation of the longitude and latitude. \n",
    "* For collisions in 2017, estimate the number of collisions per square kilometer of each zip code region. Considering zipcodes with at least 1000 collisions, report the greatest value for collisions per square kilometer. \n",
    "* Note: Some entries may have invalid or incorrect (latitude, longitude) coordinates. Drop any values that are invalid or seem unreasonable for New York City."
   ]
  },
  {
   "cell_type": "code",
   "execution_count": null,
   "metadata": {
    "ExecuteTime": {
     "end_time": "2019-05-15T05:49:19.605920Z",
     "start_time": "2019-05-15T05:49:19.598927Z"
    }
   },
   "outputs": [],
   "source": []
  },
  {
   "cell_type": "code",
   "execution_count": 14,
   "metadata": {
    "ExecuteTime": {
     "end_time": "2019-05-15T08:32:36.939869Z",
     "start_time": "2019-05-15T08:32:36.831932Z"
    }
   },
   "outputs": [
    {
     "data": {
      "text/html": [
       "<div>\n",
       "<style scoped>\n",
       "    .dataframe tbody tr th:only-of-type {\n",
       "        vertical-align: middle;\n",
       "    }\n",
       "\n",
       "    .dataframe tbody tr th {\n",
       "        vertical-align: top;\n",
       "    }\n",
       "\n",
       "    .dataframe thead th {\n",
       "        text-align: right;\n",
       "    }\n",
       "</style>\n",
       "<table border=\"1\" class=\"dataframe\">\n",
       "  <thead>\n",
       "    <tr style=\"text-align: right;\">\n",
       "      <th></th>\n",
       "      <th>colPerSqKm</th>\n",
       "    </tr>\n",
       "    <tr>\n",
       "      <th>zipCod3</th>\n",
       "      <th></th>\n",
       "    </tr>\n",
       "  </thead>\n",
       "  <tbody>\n",
       "    <tr>\n",
       "      <th>10022</th>\n",
       "      <td>52779.914489</td>\n",
       "    </tr>\n",
       "    <tr>\n",
       "      <th>10018</th>\n",
       "      <td>21863.468083</td>\n",
       "    </tr>\n",
       "    <tr>\n",
       "      <th>10011</th>\n",
       "      <td>21392.676694</td>\n",
       "    </tr>\n",
       "    <tr>\n",
       "      <th>10459</th>\n",
       "      <td>19991.617873</td>\n",
       "    </tr>\n",
       "    <tr>\n",
       "      <th>10019</th>\n",
       "      <td>17729.587425</td>\n",
       "    </tr>\n",
       "  </tbody>\n",
       "</table>\n",
       "</div>"
      ],
      "text/plain": [
       "           colPerSqKm\n",
       "zipCod3              \n",
       "10022    52779.914489\n",
       "10018    21863.468083\n",
       "10011    21392.676694\n",
       "10459    19991.617873\n",
       "10019    17729.587425"
      ]
     },
     "execution_count": 14,
     "metadata": {},
     "output_type": "execute_result"
    }
   ],
   "source": [
    "zipCollusion_df['AR3A'] = [\n",
    "    zipArea_df[zipCode][0] for zipCode in list(zipCollusion_df.index)\n",
    "]\n",
    "# zipArea_df \n",
    "zipCollusion_df['colPerSqKm'] = [\n",
    "    collusion/area\n",
    "    for collusion, area in zip(zipCollusion_df['collusionCount'], zipCollusion_df['AR3A'])\n",
    "]\n",
    "zipColSqKm_df= zipCollusion_df.sort_values(by='colPerSqKm', ascending=False)[[\n",
    "    'colPerSqKm'\n",
    "]]\n",
    "zipColSqKm_df.head()"
   ]
  },
  {
   "cell_type": "code",
   "execution_count": 15,
   "metadata": {
    "ExecuteTime": {
     "end_time": "2019-05-15T08:32:37.171915Z",
     "start_time": "2019-05-15T08:32:37.167915Z"
    }
   },
   "outputs": [
    {
     "name": "stdout",
     "output_type": "stream",
     "text": [
      "> > > q8finalAnswer() for highest collusion per area density is 52,780 col/sq-km\n",
      "> > > > > > > > > > > for ZIP code with highest density above is 10022\n"
     ]
    }
   ],
   "source": [
    "z1p = zipColSqKm_df['colPerSqKm'].index[0]\n",
    "colMax = zipColSqKm_df['colPerSqKm'][0]\n",
    "print('> > > q8finalAnswer() for highest collusion per area density is {:,.0f} col/sq-km'.format(colMax))\n",
    "print('> > > > > > > > > > > for ZIP code with highest density above is ' + z1p)"
   ]
  },
  {
   "cell_type": "code",
   "execution_count": 16,
   "metadata": {
    "ExecuteTime": {
     "end_time": "2019-05-15T08:32:38.339945Z",
     "start_time": "2019-05-15T08:32:38.334948Z"
    }
   },
   "outputs": [],
   "source": [
    "z1p_list = zipColSqKm_df['colPerSqKm'].index[:10]\n",
    "colMax_list = zipColSqKm_df['colPerSqKm'][:10]"
   ]
  },
  {
   "cell_type": "code",
   "execution_count": 17,
   "metadata": {
    "ExecuteTime": {
     "end_time": "2019-05-15T08:32:39.147014Z",
     "start_time": "2019-05-15T08:32:38.904057Z"
    }
   },
   "outputs": [
    {
     "name": "stderr",
     "output_type": "stream",
     "text": [
      "No handles with labels found to put in legend.\n"
     ]
    },
    {
     "data": {
      "text/plain": [
       "<matplotlib.legend.Legend at 0x1c89acce048>"
      ]
     },
     "execution_count": 17,
     "metadata": {},
     "output_type": "execute_result"
    },
    {
     "data": {
      "text/plain": [
       "<matplotlib.collections.PathCollection at 0x1c89acce8d0>"
      ]
     },
     "execution_count": 17,
     "metadata": {},
     "output_type": "execute_result"
    },
    {
     "data": {
      "image/png": "[encoded data removed]",
      "text/plain": [
       "<Figure size 432x288 with 1 Axes>"
      ]
     },
     "metadata": {},
     "output_type": "display_data"
    }
   ],
   "source": [
    "plt.legend(loc='best')\n",
    "plt.scatter(z1p_list,colMax_list)\n",
    "plt.show()"
   ]
  },
  {
   "cell_type": "code",
   "execution_count": 18,
   "metadata": {
    "ExecuteTime": {
     "end_time": "2019-05-15T08:32:39.551038Z",
     "start_time": "2019-05-15T08:32:39.548040Z"
    }
   },
   "outputs": [],
   "source": [
    "from IPython.core.interactiveshell import InteractiveShell\n",
    "InteractiveShell.ast_node_interactivity = \"last\""
   ]
  },
  {
   "cell_type": "code",
   "execution_count": 19,
   "metadata": {
    "ExecuteTime": {
     "end_time": "2019-05-15T08:32:40.284662Z",
     "start_time": "2019-05-15T08:32:39.983835Z"
    }
   },
   "outputs": [
    {
     "data": {
      "image/png": "[encoded data removed]",
      "text/plain": [
       "<Figure size 1296x864 with 1 Axes>"
      ]
     },
     "metadata": {},
     "output_type": "display_data"
    }
   ],
   "source": [
    "plt.figure(figsize=(18, 12))\n",
    "plt.xticks(rotation=45)\n",
    "for ZIPCODE,COLSQKM in zip(z1p_list,colMax_list):\n",
    "    plt.scatter(ZIPCODE,COLSQKM, s=5000*COLSQKM/colMax_list.max(), marker='o', edgecolors='black' , alpha = 0.50,label = str(ZIPCODE))\n",
    "plt.legend(loc='best')\n",
    "plt.show()"
   ]
  },
  {
   "cell_type": "code",
   "execution_count": null,
   "metadata": {},
   "outputs": [],
   "source": []
  },
  {
   "cell_type": "code",
   "execution_count": null,
   "metadata": {},
   "outputs": [],
   "source": []
  },
  {
   "cell_type": "code",
   "execution_count": null,
   "metadata": {},
   "outputs": [],
   "source": []
  },
  {
   "cell_type": "code",
   "execution_count": null,
   "metadata": {},
   "outputs": [],
   "source": []
  },
  {
   "cell_type": "code",
   "execution_count": null,
   "metadata": {},
   "outputs": [],
   "source": []
  }
 ],
 "metadata": {
  "kernelspec": {
   "display_name": "Python 3",
   "language": "python",
   "name": "python3"
  },
  "language_info": {
   "codemirror_mode": {
    "name": "ipython",
    "version": 3
   },
   "file_extension": ".py",
   "mimetype": "text/x-python",
   "name": "python",
   "nbconvert_exporter": "python",
   "pygments_lexer": "ipython3",
   "version": "3.6.5"
  },
  "varInspector": {
   "cols": {
    "lenName": 16,
    "lenType": 16,
    "lenVar": 40
   },
   "kernels_config": {
    "python": {
     "delete_cmd_postfix": "",
     "delete_cmd_prefix": "del ",
     "library": "var_list.py",
     "varRefreshCmd": "print(var_dic_list())"
    },
    "r": {
     "delete_cmd_postfix": ") ",
     "delete_cmd_prefix": "rm(",
     "library": "var_list.r",
     "varRefreshCmd": "cat(var_dic_list()) "
    }
   },
   "types_to_exclude": [
    "module",
    "function",
    "builtin_function_or_method",
    "instance",
    "_Feature"
   ],
   "window_display": false
  }
 },
 "nbformat": 4,
 "nbformat_minor": 2
}
