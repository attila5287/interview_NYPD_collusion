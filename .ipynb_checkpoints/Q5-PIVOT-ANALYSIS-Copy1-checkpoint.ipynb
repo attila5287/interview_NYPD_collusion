{
 "cells": [
  {
   "cell_type": "markdown",
   "metadata": {},
   "source": [
    "Q-5: Obtain the number of vehicles involved in each collision in 2016. Group the collisions by zip code and compute the sum of all vehicles involved in collisions in each zip code, then report the maximum of these values."
   ]
  },
  {
   "cell_type": "code",
   "execution_count": 2,
   "metadata": {
    "ExecuteTime": {
     "end_time": "2019-05-13T05:02:25.739457Z",
     "start_time": "2019-05-13T05:02:23.956771Z"
    }
   },
   "outputs": [],
   "source": [
    "from IPython.core.interactiveshell import InteractiveShell\n",
    "InteractiveShell.ast_node_interactivity = \"all\"\n",
    "import warnings; warnings.simplefilter('ignore')\n",
    "import pandas as pd\n",
    "import os\n",
    "import datetime as dt\n",
    "import matplotlib.pyplot as plt\n",
    "import seaborn as sns\n",
    "plt.style.use('fivethirtyeight')"
   ]
  },
  {
   "cell_type": "code",
   "execution_count": 3,
   "metadata": {
    "ExecuteTime": {
     "end_time": "2019-05-13T05:02:25.760187Z",
     "start_time": "2019-05-13T05:02:25.752191Z"
    }
   },
   "outputs": [],
   "source": [
    "def dataFram3NYC(FILE_NAME = 'NYPD_Motor_Vehicle_Collisions.csv', use_parent_dir = False):\n",
    "    \"\"\"\n",
    "    READS ~1,5 MILLION ROW CSV FILE, RETURNS MASTER DATAFRAME\n",
    "    use_parent_dir will use parent directory as base directory\n",
    "    \"\"\"\n",
    "    if use_parent_dir == True:\n",
    "        CURRENTWRK_DIR = os.getcwd()\n",
    "        BASE_DIR = os.path.dirname(CURRENTWRK_DIR)\n",
    "    elif use_parent_dir == False:\n",
    "        BASE_DIR = os.getcwd()\n",
    "        \n",
    "#     STATIC_FOLDER = os.path.dirname(BASE_DIR)\n",
    "    STATIC_FOLDER = ''\n",
    "    # FILE_NAME = 'NYPD_Motor_Vehicle_Collisions.csv'\n",
    "    PATH_COMPILED = os.path.join( BASE_DIR, STATIC_FOLDER, FILE_NAME)\n",
    "    print('\\n> > > > dataFrameNYC() now reading csv with file path below')\n",
    "    print(PATH_COMPILED)\n",
    "    print()\n",
    "    _df = pd.read_csv(PATH_COMPILED, encoding = \"iso-8859-1\", low_memory = False)\n",
    "    col_list = list(_df.columns)\n",
    "    col_ind3x = np.arange(len(col_list))\n",
    "    col_dict = dict(zip( col_ind3x, col_list))\n",
    "    print(col_dict)\n",
    "    return _df"
   ]
  },
  {
   "cell_type": "code",
   "execution_count": null,
   "metadata": {},
   "outputs": [],
   "source": []
  },
  {
   "cell_type": "code",
   "execution_count": 4,
   "metadata": {
    "ExecuteTime": {
     "end_time": "2019-05-13T05:02:25.797182Z",
     "start_time": "2019-05-13T05:02:25.771180Z"
    },
    "scrolled": false
   },
   "outputs": [],
   "source": [
    "def focusDataframer(columns2keep_list = [\n",
    "    0,3,24,25,26,27,28\n",
    "]):\n",
    "    \"\"\"\n",
    "    MODIFIED DATA FRAMER, PRINTS OUT ALL COLUMN INDEX/NAMES, \n",
    "    REQUIRES A LIST OF REQUESTED COLUMN INDEXES AS INTEGERS\n",
    "    RETURNS A DATAFRAME WITH ONLY USER- LABELS\n",
    "    \"\"\"\n",
    "    raw_df = dataFram3NYC(use_parent_dir=True)\n",
    "    col_list = list(raw_df.columns)\n",
    "    col_ind3x = np.arange(len(col_list))\n",
    "    col_dict = dict(zip( col_ind3x, col_list))\n",
    "    col_final = []\n",
    "    for index in columns2keep_list:\n",
    "        add_this_column = col_dict[index]\n",
    "        col_final.append(add_this_column)\n",
    "    col_final = [\n",
    "        str(index)\n",
    "        for index in col_final\n",
    "    ]\n",
    "    _df = raw_df[\n",
    "        col_final\n",
    "    ]\n",
    "    print(col_final)\n",
    "    return _df"
   ]
  },
  {
   "cell_type": "code",
   "execution_count": 5,
   "metadata": {
    "ExecuteTime": {
     "end_time": "2019-05-13T05:02:34.761430Z",
     "start_time": "2019-05-13T05:02:25.806160Z"
    }
   },
   "outputs": [
    {
     "name": "stdout",
     "output_type": "stream",
     "text": [
      "\n",
      "> > > > dataFrameNYC() now reading csv with file path below\n",
      "C:\\Users\\DENVER\\Desktop\\interviewPY\\INT_03_PYTHON_PANDAS_NYC_COLLISION\\NYPD_Motor_Vehicle_Collisions.csv\n",
      "\n",
      "{0: 'DATE', 1: 'TIME', 2: 'BOROUGH', 3: 'ZIP CODE', 4: 'LATITUDE', 5: 'LONGITUDE', 6: 'LOCATION', 7: 'ON STREET NAME', 8: 'CROSS STREET NAME', 9: 'OFF STREET NAME', 10: 'NUMBER OF PERSONS INJURED', 11: 'NUMBER OF PERSONS KILLED', 12: 'NUMBER OF PEDESTRIANS INJURED', 13: 'NUMBER OF PEDESTRIANS KILLED', 14: 'NUMBER OF CYCLIST INJURED', 15: 'NUMBER OF CYCLIST KILLED', 16: 'NUMBER OF MOTORIST INJURED', 17: 'NUMBER OF MOTORIST KILLED', 18: 'CONTRIBUTING FACTOR VEHICLE 1', 19: 'CONTRIBUTING FACTOR VEHICLE 2', 20: 'CONTRIBUTING FACTOR VEHICLE 3', 21: 'CONTRIBUTING FACTOR VEHICLE 4', 22: 'CONTRIBUTING FACTOR VEHICLE 5', 23: 'UNIQUE KEY', 24: 'VEHICLE TYPE CODE 1', 25: 'VEHICLE TYPE CODE 2', 26: 'VEHICLE TYPE CODE 3', 27: 'VEHICLE TYPE CODE 4', 28: 'VEHICLE TYPE CODE 5'}\n",
      "['DATE', 'ZIP CODE', 'VEHICLE TYPE CODE 1', 'VEHICLE TYPE CODE 2', 'VEHICLE TYPE CODE 3', 'VEHICLE TYPE CODE 4', 'VEHICLE TYPE CODE 5']\n"
     ]
    }
   ],
   "source": [
    "def dateFilterMyDataFrame(focus_df = focusDataframer(), bring_all_records_for = '2016'):\n",
    "    \"\"\"\n",
    "    REQUIRES A DATAFRAME WITH A TARGET FIELD NAMED 'DATE',\n",
    "    FILTERS DATE BY FOUR DIGIT YEAR 'YYYY' STRING INPUT\n",
    "    \"\"\"\n",
    "    pass\n",
    "    print('> > > dateFilterMyDataFrame() filtering all records by year : ' + bring_all_records_for)\n",
    "#     focus_df = focusDataframer()\n",
    "    focus_df['dat3'] = [\n",
    "        date[-4:] for date in focus_df['DATE']\n",
    "    ]\n",
    "    filtered_by_date_df = focus_df.loc[focus_df['dat3'] == bring_all_records_for]\n",
    "    return filtered_by_date_df.drop(columns = 'DATE')"
   ]
  },
  {
   "cell_type": "code",
   "execution_count": 25,
   "metadata": {
    "ExecuteTime": {
     "end_time": "2019-05-13T05:35:01.792427Z",
     "start_time": "2019-05-13T05:35:01.246377Z"
    }
   },
   "outputs": [
    {
     "name": "stdout",
     "output_type": "stream",
     "text": [
      "> > > dateFilterMyDataFrame() filtering all records by year : 2016\n"
     ]
    }
   ],
   "source": [
    "def numberVehiclesInvAccidents(dateFilteredDataFrame = dateFilterMyDataFrame(bring_all_records_for='2016')):\n",
    "    \"\"\"\n",
    "    REQUIRES A DATA FILTERED DATAFRAME, CALCULATES NUM OF VEHICLES\n",
    "    FOR THE PRE-FILTERED DATE. RETURNS INTEGER AND PRINTS LOGS\n",
    "    \"\"\"\n",
    "    pass\n",
    "    focus2016_df = dateFilterMyDataFrame(bring_all_records_for='2016')\n",
    "    vector_df = focus2016_df.isna()\n",
    "    vehicle_columns_list = vector_df.columns[1:6] \n",
    "    colTrueSum_list = vector_df[vehicle_columns_list].sum()\n",
    "    accumulator = 0\n",
    "    for sum in colTrueSum_list:\n",
    "        accumulator +=sum\n",
    "    totalVehicle_num = len(vector_df)*5 - accumulator\n",
    "    print()\n",
    "    print('> > >findNumberAccidentsInYear() calculated number of vehicles involved in accidents: {:,}'.format(totalVehicle_num))\n",
    "    return int(totalVehicle_num)"
   ]
  },
  {
   "cell_type": "code",
   "execution_count": 27,
   "metadata": {
    "ExecuteTime": {
     "end_time": "2019-05-13T05:40:11.524636Z",
     "start_time": "2019-05-13T05:40:10.914208Z"
    }
   },
   "outputs": [
    {
     "name": "stdout",
     "output_type": "stream",
     "text": [
      "> > > dateFilterMyDataFrame() filtering all records by year : 2016\n",
      "\n",
      "> > >findNumberAccidentsInYear() calculated number of vehicles involved in accidents: 489,873\n"
     ]
    },
    {
     "data": {
      "text/plain": [
       "489873"
      ]
     },
     "execution_count": 27,
     "metadata": {},
     "output_type": "execute_result"
    }
   ],
   "source": [
    "numberVehiclesInvAccidents()"
   ]
  },
  {
   "cell_type": "markdown",
   "metadata": {},
   "source": [
    "Q-5: Obtain the number of vehicles involved in each collision in 2016. Group the collisions by zip code and compute the sum of all vehicles involved in collisions in each zip code, then report the maximum of these values."
   ]
  },
  {
   "cell_type": "code",
   "execution_count": 37,
   "metadata": {
    "ExecuteTime": {
     "end_time": "2019-05-13T06:52:10.823756Z",
     "start_time": "2019-05-13T06:52:10.242073Z"
    }
   },
   "outputs": [
    {
     "name": "stdout",
     "output_type": "stream",
     "text": [
      "> > > dateFilterMyDataFrame() filtering all records by year : 2016\n"
     ]
    }
   ],
   "source": [
    "def numberOfVehiclesInvZIPCode(focus2016_df = dateFilterMyDataFrame(bring_all_records_for='2016')):\n",
    "    \"\"\"\n",
    "    REQUIRES A DATE FILTERED DATAFRAME, CALCULATES NUM VEHICLES INVOLVED\n",
    "    RETURNS A SORTED DATAFRAME, PRINTS TOP TEN ZIP CODE AS A DICT\n",
    "    \"\"\"\n",
    "    grouped_df = focus2016_df.groupby('ZIP CODE').count()\n",
    "    grouped_df['numVehicleInv'] = 0\n",
    "    for column in vehicle_columns_list:\n",
    "        grouped_df['numVehicleInv'] = grouped_df['numVehicleInv'] + grouped_df[column]\n",
    "    final_df = grouped_df[['numVehicleInv']]\n",
    "    finalSorted_df = final_df.sort_values(by='numVehicleInv', ascending=False)\n",
    "    final_list = grouped_df['numVehicleInv']\n",
    "    focus2016_df = dateFilterMyDataFrame(bring_all_records_for='2016')\n",
    "    grouped_df = focus2016_df.groupby('ZIP CODE').count()\n",
    "    grouped_df['numVehicleInv'] = 0\n",
    "    for column in vehicle_columns_list:\n",
    "        grouped_df['numVehicleInv'] = grouped_df['numVehicleInv'] + grouped_df[column]\n",
    "    final_df = grouped_df[['numVehicleInv']]\n",
    "    finalSorted_df = final_df.sort_values(by='numVehicleInv', ascending=False)\n",
    "    print('> > >numberOfVehiclesInvZIPCode() calculated number of vehicle involved in acc per ZIP code  :')\n",
    "    promptAFewZip_dict = finalSorted_df.head().to_dict()\n",
    "    print(promptAFewZip_dict)\n",
    "    #     final_list = finalSorted_df['numVehicleInv']\n",
    "    return finalSorted_df"
   ]
  },
  {
   "cell_type": "code",
   "execution_count": 41,
   "metadata": {
    "ExecuteTime": {
     "end_time": "2019-05-13T06:52:52.075553Z",
     "start_time": "2019-05-13T06:52:52.073555Z"
    }
   },
   "outputs": [],
   "source": [
    "# numberOfVehiclesInvZIPCode()"
   ]
  },
  {
   "cell_type": "code",
   "execution_count": 50,
   "metadata": {
    "ExecuteTime": {
     "end_time": "2019-05-13T06:58:07.853576Z",
     "start_time": "2019-05-13T06:58:07.267912Z"
    }
   },
   "outputs": [
    {
     "name": "stdout",
     "output_type": "stream",
     "text": [
      "> > > dateFilterMyDataFrame() filtering all records by year : 2016\n"
     ]
    }
   ],
   "source": [
    "def mungleData4PlotTop5ZIPVehCnt(focus2016_df = dateFilterMyDataFrame(bring_all_records_for='2016')):    \n",
    "    \"\"\"\n",
    "    REQUIRES DATE FILTERED DATAFRAME, DATA MUNGLING FOR DATA VISUALIZATION\n",
    "    \"\"\"\n",
    "    grouped_df = focus2016_df.groupby('ZIP CODE').count()\n",
    "    grouped_df['numVehicleInv'] = 0\n",
    "    for column in vehicle_columns_list:\n",
    "        grouped_df['numVehicleInv'] = grouped_df['numVehicleInv'] + grouped_df[column]\n",
    "    final_df = grouped_df[['numVehicleInv']]\n",
    "    finalSorted_df = final_df.sort_values(by='numVehicleInv', ascending=False)\n",
    "    final_list = grouped_df['numVehicleInv']\n",
    "    focus2016_df = dateFilterMyDataFrame(bring_all_records_for='2016')\n",
    "    grouped_df = focus2016_df.groupby('ZIP CODE').count()\n",
    "    grouped_df['numVehicleInv'] = 0\n",
    "    for column in vehicle_columns_list:\n",
    "        grouped_df['numVehicleInv'] = grouped_df['numVehicleInv'] + grouped_df[column]\n",
    "    final_df = grouped_df[['numVehicleInv']]\n",
    "    finalSorted_df = final_df.sort_values(by='numVehicleInv', ascending=False)\n",
    "    zip2Nhood_list = ['Kings', 'Long Island', 'BergenBeach', 'Queens', 'Kings_']\n",
    "    topFive_df = finalSorted_df.head()\n",
    "    topFive_df['neighb0urhood'] = [str(hoodname) for hoodname in zip2Nhood_list] \n",
    "    dataPlotFive_df= topFive_df.reset_index().drop(columns='ZIP CODE').set_index('neighb0urhood')\n",
    "    print()\n",
    "    print(dataPlotFive_df.head().to_dict())\n",
    "    return dataPlotFive_df"
   ]
  },
  {
   "cell_type": "code",
   "execution_count": 51,
   "metadata": {
    "ExecuteTime": {
     "end_time": "2019-05-13T06:58:08.720075Z",
     "start_time": "2019-05-13T06:58:07.919537Z"
    }
   },
   "outputs": [
    {
     "name": "stdout",
     "output_type": "stream",
     "text": [
      "> > > dateFilterMyDataFrame() filtering all records by year : 2016\n",
      "\n",
      "{'numVehicleInv': {'Kings': 5703, 'Long Island': 4375, 'BergenBeach': 4283, 'Queens': 4181, 'Kings_': 4142}}\n"
     ]
    },
    {
     "data": {
      "text/html": [
       "<div>\n",
       "<style scoped>\n",
       "    .dataframe tbody tr th:only-of-type {\n",
       "        vertical-align: middle;\n",
       "    }\n",
       "\n",
       "    .dataframe tbody tr th {\n",
       "        vertical-align: top;\n",
       "    }\n",
       "\n",
       "    .dataframe thead th {\n",
       "        text-align: right;\n",
       "    }\n",
       "</style>\n",
       "<table border=\"1\" class=\"dataframe\">\n",
       "  <thead>\n",
       "    <tr style=\"text-align: right;\">\n",
       "      <th></th>\n",
       "      <th>numVehicleInv</th>\n",
       "    </tr>\n",
       "    <tr>\n",
       "      <th>neighb0urhood</th>\n",
       "      <th></th>\n",
       "    </tr>\n",
       "  </thead>\n",
       "  <tbody>\n",
       "    <tr>\n",
       "      <th>Kings</th>\n",
       "      <td>5703</td>\n",
       "    </tr>\n",
       "    <tr>\n",
       "      <th>Long Island</th>\n",
       "      <td>4375</td>\n",
       "    </tr>\n",
       "    <tr>\n",
       "      <th>BergenBeach</th>\n",
       "      <td>4283</td>\n",
       "    </tr>\n",
       "    <tr>\n",
       "      <th>Queens</th>\n",
       "      <td>4181</td>\n",
       "    </tr>\n",
       "    <tr>\n",
       "      <th>Kings_</th>\n",
       "      <td>4142</td>\n",
       "    </tr>\n",
       "  </tbody>\n",
       "</table>\n",
       "</div>"
      ],
      "text/plain": [
       "               numVehicleInv\n",
       "neighb0urhood               \n",
       "Kings                   5703\n",
       "Long Island             4375\n",
       "BergenBeach             4283\n",
       "Queens                  4181\n",
       "Kings_                  4142"
      ]
     },
     "execution_count": 51,
     "metadata": {},
     "output_type": "execute_result"
    }
   ],
   "source": [
    "mungleData4PlotTop5ZIPVehCnt()"
   ]
  },
  {
   "cell_type": "code",
   "execution_count": 55,
   "metadata": {
    "ExecuteTime": {
     "end_time": "2019-05-13T07:05:42.137665Z",
     "start_time": "2019-05-13T07:05:41.358110Z"
    }
   },
   "outputs": [
    {
     "name": "stdout",
     "output_type": "stream",
     "text": [
      "> > > dateFilterMyDataFrame() filtering all records by year : 2016\n",
      "\n",
      "{'numVehicleInv': {'Kings': 5703, 'Long Island': 4375, 'BergenBeach': 4283, 'Queens': 4181, 'Kings_': 4142}}\n"
     ]
    }
   ],
   "source": [
    "def barChartTop5ZIPVehCnt(dataPlotFive_df = mungleData4PlotTop5ZIPVehCnt()):\n",
    "    \"\"\"\n",
    "    REQURES DATA FRAME BY mungleData4PlotTop5ZIPVehCnt() AND SHOWS A BAR CHART\n",
    "    \"\"\"\n",
    "    x_bar = list(dataPlotFive_df.index)\n",
    "    y_bar = dataPlotFive_df['numVehicleInv']\n",
    "    plt.barh(x_bar, y_bar, color = 'coral', linewidth= 2, edgecolor='lightgrey' , alpha = 0.80)\n",
    "    plt.show()\n",
    "    return None"
   ]
  },
  {
   "cell_type": "code",
   "execution_count": 56,
   "metadata": {
    "ExecuteTime": {
     "end_time": "2019-05-13T07:05:43.073123Z",
     "start_time": "2019-05-13T07:05:42.204626Z"
    }
   },
   "outputs": [
    {
     "name": "stdout",
     "output_type": "stream",
     "text": [
      "> > > dateFilterMyDataFrame() filtering all records by year : 2016\n",
      "\n",
      "{'numVehicleInv': {'Kings': 5703, 'Long Island': 4375, 'BergenBeach': 4283, 'Queens': 4181, 'Kings_': 4142}}\n"
     ]
    },
    {
     "data": {
      "image/png": "[encoded data removed]",
      "text/plain": [
       "<Figure size 432x288 with 1 Axes>"
      ]
     },
     "metadata": {},
     "output_type": "display_data"
    }
   ],
   "source": [
    "barChartTop5ZIPVehCnt(dataPlotFive_df = mungleData4PlotTop5ZIPVehCnt())"
   ]
  }
 ],
 "metadata": {
  "kernelspec": {
   "display_name": "Python 3",
   "language": "python",
   "name": "python3"
  },
  "language_info": {
   "codemirror_mode": {
    "name": "ipython",
    "version": 3
   },
   "file_extension": ".py",
   "mimetype": "text/x-python",
   "name": "python",
   "nbconvert_exporter": "python",
   "pygments_lexer": "ipython3",
   "version": "3.6.5"
  },
  "varInspector": {
   "cols": {
    "lenName": 16,
    "lenType": 16,
    "lenVar": 40
   },
   "kernels_config": {
    "python": {
     "delete_cmd_postfix": "",
     "delete_cmd_prefix": "del ",
     "library": "var_list.py",
     "varRefreshCmd": "print(var_dic_list())"
    },
    "r": {
     "delete_cmd_postfix": ") ",
     "delete_cmd_prefix": "rm(",
     "library": "var_list.r",
     "varRefreshCmd": "cat(var_dic_list()) "
    }
   },
   "types_to_exclude": [
    "module",
    "function",
    "builtin_function_or_method",
    "instance",
    "_Feature"
   ],
   "window_display": false
  }
 },
 "nbformat": 4,
 "nbformat_minor": 2
}
