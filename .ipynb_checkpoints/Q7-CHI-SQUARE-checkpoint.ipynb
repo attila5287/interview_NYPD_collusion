{
 "cells": [
  {
   "cell_type": "markdown",
   "metadata": {},
   "source": [
    "##### Q-7: Do winter driving conditions lead to more multi-car collisions?\n",
    "* Compute the rate of multi car collisions as the proportion of the number of collisions involving 3 or more cars to the total number of collisions for each month of 2017. \n",
    "* Calculate the chi-square test statistic for testing whether a collision is more likely to involve 3 or more cars in January than in May."
   ]
  },
  {
   "cell_type": "code",
   "execution_count": null,
   "metadata": {
    "ExecuteTime": {
     "end_time": "2019-05-16T08:57:54.611842Z",
     "start_time": "2019-05-16T08:57:52.394834Z"
    }
   },
   "outputs": [],
   "source": [
    "from IPython.core.interactiveshell import InteractiveShell\n",
    "InteractiveShell.ast_node_interactivity = \"all\"\n",
    "import warnings; warnings.simplefilter('ignore')\n",
    "import pandas as pd\n",
    "import os\n",
    "import datetime as dt\n",
    "import matplotlib.pyplot as plt\n",
    "import seaborn as sns\n",
    "plt.style.use('fivethirtyeight')"
   ]
  },
  {
   "cell_type": "code",
   "execution_count": null,
   "metadata": {
    "ExecuteTime": {
     "end_time": "2019-05-08T03:04:10.359135Z",
     "start_time": "2019-05-08T03:04:02.712599Z"
    }
   },
   "outputs": [],
   "source": [
    "FILE_NAME = 'NYPD_Motor_Vehicle_Collisions.csv'\n",
    "master_df = pd.read_csv(FILE_NAME)"
   ]
  },
  {
   "cell_type": "code",
   "execution_count": null,
   "metadata": {
    "ExecuteTime": {
     "end_time": "2019-05-08T03:04:11.183701Z",
     "start_time": "2019-05-08T03:04:11.174687Z"
    }
   },
   "outputs": [],
   "source": [
    "column_list = master_df.columns\n",
    "relatedColumns_list = []\n",
    "relatedColumns_list = list(column_list[-5:])\n",
    "relatedColumns_list.append('DATE')\n",
    "# type(relatedColumns_list)"
   ]
  },
  {
   "cell_type": "code",
   "execution_count": null,
   "metadata": {
    "ExecuteTime": {
     "end_time": "2019-05-08T03:04:12.103523Z",
     "start_time": "2019-05-08T03:04:11.987237Z"
    }
   },
   "outputs": [],
   "source": [
    "focus_df = master_df[relatedColumns_list]\n",
    "focus_df.head()"
   ]
  },
  {
   "cell_type": "markdown",
   "metadata": {},
   "source": [
    "Compute the rate of multi car collisions as the proportion of \n",
    "*  the number of collisions involving 3 or more cars <br>\n",
    ">  to the total number of collisions for each month of 2017. "
   ]
  },
  {
   "cell_type": "code",
   "execution_count": null,
   "metadata": {
    "ExecuteTime": {
     "end_time": "2019-05-08T03:04:13.755553Z",
     "start_time": "2019-05-08T03:04:12.992995Z"
    }
   },
   "outputs": [],
   "source": [
    "focus_df['year'] = [ date[-4:] for date in focus_df['DATE']]\n",
    "focus_df = focus_df.loc[\n",
    "    focus_df['year'] == '2017'\n",
    "]"
   ]
  },
  {
   "cell_type": "code",
   "execution_count": null,
   "metadata": {
    "ExecuteTime": {
     "end_time": "2019-05-08T03:04:14.666030Z",
     "start_time": "2019-05-08T03:04:14.574083Z"
    }
   },
   "outputs": [],
   "source": [
    "focus_df['month'] = [ date[:2] for date in focus_df['DATE']]"
   ]
  },
  {
   "cell_type": "code",
   "execution_count": null,
   "metadata": {
    "ExecuteTime": {
     "end_time": "2019-05-08T03:04:15.676462Z",
     "start_time": "2019-05-08T03:04:15.573508Z"
    }
   },
   "outputs": [],
   "source": [
    "# add a new column \n",
    "focus_df['yearmonth'] = [\n",
    "    str(year + '-' + month) for year,month in\n",
    "    zip(focus_df['year'], focus_df['month'])\n",
    "]"
   ]
  },
  {
   "cell_type": "code",
   "execution_count": null,
   "metadata": {
    "ExecuteTime": {
     "end_time": "2019-05-08T03:04:16.495850Z",
     "start_time": "2019-05-08T03:04:16.482856Z"
    }
   },
   "outputs": [],
   "source": [
    "focus_df.head()"
   ]
  },
  {
   "cell_type": "code",
   "execution_count": null,
   "metadata": {
    "ExecuteTime": {
     "end_time": "2019-05-08T03:04:17.429327Z",
     "start_time": "2019-05-08T03:04:17.326370Z"
    }
   },
   "outputs": [],
   "source": [
    "focus_df = focus_df.drop(columns=['DATE',\n",
    "                       'year',\n",
    "                       'yearmonth'\n",
    "                      ])"
   ]
  },
  {
   "cell_type": "code",
   "execution_count": null,
   "metadata": {
    "ExecuteTime": {
     "end_time": "2019-05-08T03:04:18.331791Z",
     "start_time": "2019-05-08T03:04:18.242842Z"
    }
   },
   "outputs": [],
   "source": [
    "# vehicleColumns_list = master_df.columns[-5:]\n",
    "# for column in vehicleColumns_list:\n",
    "#     focus_df.isna()\n",
    "    \n",
    "TOTAL2017_NUM = focus_df.groupby('month').count()['VEHICLE TYPE CODE 1'].sum()"
   ]
  },
  {
   "cell_type": "code",
   "execution_count": null,
   "metadata": {
    "ExecuteTime": {
     "end_time": "2019-05-08T03:04:19.208299Z",
     "start_time": "2019-05-08T03:04:19.125334Z"
    }
   },
   "outputs": [],
   "source": [
    "gr0uped_df = focus_df.groupby('month').count()\n",
    "vehicleColumns_list = gr0uped_df.columns"
   ]
  },
  {
   "cell_type": "code",
   "execution_count": null,
   "metadata": {
    "ExecuteTime": {
     "end_time": "2019-05-08T03:04:20.020819Z",
     "start_time": "2019-05-08T03:04:20.016823Z"
    }
   },
   "outputs": [],
   "source": [
    "gr0uped_df['singleCarOnly'] = [\n",
    "    int(first - second) \n",
    "    for first, second \n",
    "    in zip(gr0uped_df[vehicleColumns_list[0]], gr0uped_df[vehicleColumns_list[1]])\n",
    "] "
   ]
  },
  {
   "cell_type": "code",
   "execution_count": null,
   "metadata": {
    "ExecuteTime": {
     "end_time": "2019-05-08T03:04:20.848360Z",
     "start_time": "2019-05-08T03:04:20.843346Z"
    }
   },
   "outputs": [],
   "source": [
    "gr0uped_df['twoCarsOnly'] = [\n",
    "    int(first - second) \n",
    "    for first, second \n",
    "    in zip(gr0uped_df[vehicleColumns_list[1]], gr0uped_df[vehicleColumns_list[2]])\n",
    "] "
   ]
  },
  {
   "cell_type": "markdown",
   "metadata": {},
   "source": [
    "###### Q-7: Do winter driving conditions lead to more multi-car collisions?\n",
    "* Compute the rate of multi car collisions as the proportion of the number of collisions involving 3 or more cars to the total number of collisions for each month of 2017. \n",
    "* Calculate the chi-square test statistic for testing whether a collision is more likely to involve 3 or more cars in January than in May."
   ]
  },
  {
   "cell_type": "code",
   "execution_count": null,
   "metadata": {
    "ExecuteTime": {
     "end_time": "2019-05-08T03:04:21.691858Z",
     "start_time": "2019-05-08T03:04:21.687859Z"
    }
   },
   "outputs": [],
   "source": [
    "# at least one vehicle involved \n",
    "gr0uped_df['numTotalMonthly'] = [ \n",
    "    int(minimum_one_car) \n",
    "    for minimum_one_car \n",
    "    in gr0uped_df[vehicleColumns_list[0]]     \n",
    "                   ]"
   ]
  },
  {
   "cell_type": "code",
   "execution_count": null,
   "metadata": {
    "ExecuteTime": {
     "end_time": "2019-05-08T03:04:22.520381Z",
     "start_time": "2019-05-08T03:04:22.508386Z"
    }
   },
   "outputs": [],
   "source": [
    "final_df = gr0uped_df[['singleCarOnly',\n",
    "                       'twoCarsOnly',\n",
    "                     'numTotalMonthly']]\n",
    "final_df.head()\n"
   ]
  },
  {
   "cell_type": "code",
   "execution_count": null,
   "metadata": {
    "ExecuteTime": {
     "end_time": "2019-05-08T03:04:23.397875Z",
     "start_time": "2019-05-08T03:04:23.357897Z"
    }
   },
   "outputs": [],
   "source": [
    "final_df['threeCarsAndMore'] = [int(total) - int(single + double) for total,single, double in zip(final_df['numTotalMonthly'], final_df['singleCarOnly'], final_df['twoCarsOnly'])\n",
    "                               ]"
   ]
  },
  {
   "cell_type": "code",
   "execution_count": null,
   "metadata": {
    "ExecuteTime": {
     "end_time": "2019-05-08T03:04:24.289361Z",
     "start_time": "2019-05-08T03:04:24.252383Z"
    }
   },
   "outputs": [],
   "source": [
    "final_df.drop(columns=['singleCarOnly', 'twoCarsOnly'], inplace=True)"
   ]
  },
  {
   "cell_type": "code",
   "execution_count": null,
   "metadata": {
    "ExecuteTime": {
     "end_time": "2019-05-08T03:04:25.119337Z",
     "start_time": "2019-05-08T03:04:25.112342Z"
    }
   },
   "outputs": [],
   "source": [
    "percentage_df = final_df.copy()\n",
    "percentage_df['percMonthly'] = [\n",
    "    float(threecars/totalnum*100).__round__(2)\n",
    "    for threecars,totalnum \n",
    "    in zip(percentage_df['threeCarsAndMore'],percentage_df['numTotalMonthly'])\n",
    "]"
   ]
  },
  {
   "cell_type": "code",
   "execution_count": null,
   "metadata": {
    "ExecuteTime": {
     "end_time": "2019-05-08T03:04:25.954856Z",
     "start_time": "2019-05-08T03:04:25.947861Z"
    }
   },
   "outputs": [],
   "source": [
    "percentage_df.drop(columns='threeCarsAndMore', inplace=True)"
   ]
  },
  {
   "cell_type": "code",
   "execution_count": null,
   "metadata": {
    "ExecuteTime": {
     "end_time": "2019-05-08T03:34:34.982765Z",
     "start_time": "2019-05-08T03:34:34.967774Z"
    }
   },
   "outputs": [],
   "source": [
    "percentage_df['01':'01']\n",
    "percentage_df['05':'05']\n"
   ]
  },
  {
   "cell_type": "code",
   "execution_count": null,
   "metadata": {
    "ExecuteTime": {
     "end_time": "2019-05-08T03:04:26.799389Z",
     "start_time": "2019-05-08T03:04:26.795372Z"
    }
   },
   "outputs": [],
   "source": [
    "import scipy.stats as scs"
   ]
  },
  {
   "cell_type": "code",
   "execution_count": null,
   "metadata": {
    "ExecuteTime": {
     "end_time": "2019-05-08T03:04:27.648882Z",
     "start_time": "2019-05-08T03:04:27.645883Z"
    }
   },
   "outputs": [],
   "source": [
    "def categories(series):\n",
    "    return range(int(series.min()), int(series.max()) + 1)"
   ]
  },
  {
   "cell_type": "code",
   "execution_count": null,
   "metadata": {
    "ExecuteTime": {
     "end_time": "2019-05-08T03:04:28.486597Z",
     "start_time": "2019-05-08T03:04:28.480597Z"
    }
   },
   "outputs": [],
   "source": [
    "def chi_square_of_df_cols(df, col1, col2):\n",
    "    df_col1, df_col2 = df[col1], df[col2]\n",
    "\n",
    "    result = [[sum((df_col1 == cat1) & (df_col2 == cat2))\n",
    "               for cat2 in categories(df_col2)]\n",
    "              for cat1 in categories(df_col1)]\n",
    "\n",
    "    return scs.chi2_contingency(result)"
   ]
  },
  {
   "cell_type": "code",
   "execution_count": null,
   "metadata": {
    "ExecuteTime": {
     "end_time": "2019-05-08T03:22:44.872104Z",
     "start_time": "2019-05-08T03:22:44.715194Z"
    }
   },
   "outputs": [],
   "source": [
    "plt.plot(percentage_df.index, \n",
    "    percentage_df['percMonthly'])"
   ]
  },
  {
   "cell_type": "markdown",
   "metadata": {},
   "source": [
    "# BELOW CODE DOESN'T RUN"
   ]
  },
  {
   "cell_type": "code",
   "execution_count": null,
   "metadata": {
    "ExecuteTime": {
     "end_time": "2019-05-08T03:23:14.149034Z",
     "start_time": "2019-05-08T03:23:14.146033Z"
    }
   },
   "outputs": [],
   "source": [
    "results = chi_square_of_df_cols(percentage_df, 'percMonthly','numTotalMonthly')"
   ]
  }
 ],
 "metadata": {
  "kernelspec": {
   "display_name": "Python 3",
   "language": "python",
   "name": "python3"
  },
  "language_info": {
   "codemirror_mode": {
    "name": "ipython",
    "version": 3
   },
   "file_extension": ".py",
   "mimetype": "text/x-python",
   "name": "python",
   "nbconvert_exporter": "python",
   "pygments_lexer": "ipython3",
   "version": "3.6.5"
  },
  "varInspector": {
   "cols": {
    "lenName": 16,
    "lenType": 16,
    "lenVar": 40
   },
   "kernels_config": {
    "python": {
     "delete_cmd_postfix": "",
     "delete_cmd_prefix": "del ",
     "library": "var_list.py",
     "varRefreshCmd": "print(var_dic_list())"
    },
    "r": {
     "delete_cmd_postfix": ") ",
     "delete_cmd_prefix": "rm(",
     "library": "var_list.r",
     "varRefreshCmd": "cat(var_dic_list()) "
    }
   },
   "types_to_exclude": [
    "module",
    "function",
    "builtin_function_or_method",
    "instance",
    "_Feature"
   ],
   "window_display": false
  }
 },
 "nbformat": 4,
 "nbformat_minor": 2
}
