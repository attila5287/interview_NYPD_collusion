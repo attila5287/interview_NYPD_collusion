{
 "cells": [
  {
   "cell_type": "markdown",
   "metadata": {},
   "source": [
    "##### Q-7: Do winter driving conditions lead to more multi-car collisions?\n",
    "* Compute the rate of multi car collisions as the proportion of the number of collisions involving 3 or more cars to the total number of collisions for each month of 2017. \n",
    "* Calculate the chi-square test statistic for testing whether a collision is more likely to involve 3 or more cars in January than in May."
   ]
  },
  {
   "cell_type": "code",
   "execution_count": 1,
   "metadata": {
    "ExecuteTime": {
     "end_time": "2019-05-18T05:01:32.181813Z",
     "start_time": "2019-05-18T05:01:30.865267Z"
    }
   },
   "outputs": [],
   "source": [
    "from IPython.core.interactiveshell import InteractiveShell\n",
    "InteractiveShell.ast_node_interactivity = \"all\"\n",
    "import warnings; warnings.simplefilter('ignore')\n",
    "import pandas as pd\n",
    "import os\n",
    "import datetime as dt\n",
    "import matplotlib.pyplot as plt\n",
    "import seaborn as sns\n",
    "plt.style.use('fivethirtyeight')"
   ]
  },
  {
   "cell_type": "code",
   "execution_count": 5,
   "metadata": {
    "ExecuteTime": {
     "end_time": "2019-05-18T05:01:57.987759Z",
     "start_time": "2019-05-18T05:01:51.234600Z"
    }
   },
   "outputs": [],
   "source": [
    "FILE_NAME = '../NYPD_Motor_Vehicle_Collisions.csv'\n",
    "master_df = pd.read_csv(FILE_NAME)"
   ]
  },
  {
   "cell_type": "code",
   "execution_count": 6,
   "metadata": {
    "ExecuteTime": {
     "end_time": "2019-05-18T05:02:04.720235Z",
     "start_time": "2019-05-18T05:02:04.716238Z"
    }
   },
   "outputs": [],
   "source": [
    "column_list = master_df.columns\n",
    "relatedColumns_list = []\n",
    "relatedColumns_list = list(column_list[-5:])\n",
    "relatedColumns_list.append('DATE')\n",
    "# type(relatedColumns_list)"
   ]
  },
  {
   "cell_type": "code",
   "execution_count": 7,
   "metadata": {
    "ExecuteTime": {
     "end_time": "2019-05-18T05:02:06.445440Z",
     "start_time": "2019-05-18T05:02:06.350497Z"
    }
   },
   "outputs": [
    {
     "data": {
      "text/html": [
       "<div>\n",
       "<style scoped>\n",
       "    .dataframe tbody tr th:only-of-type {\n",
       "        vertical-align: middle;\n",
       "    }\n",
       "\n",
       "    .dataframe tbody tr th {\n",
       "        vertical-align: top;\n",
       "    }\n",
       "\n",
       "    .dataframe thead th {\n",
       "        text-align: right;\n",
       "    }\n",
       "</style>\n",
       "<table border=\"1\" class=\"dataframe\">\n",
       "  <thead>\n",
       "    <tr style=\"text-align: right;\">\n",
       "      <th></th>\n",
       "      <th>VEHICLE TYPE CODE 1</th>\n",
       "      <th>VEHICLE TYPE CODE 2</th>\n",
       "      <th>VEHICLE TYPE CODE 3</th>\n",
       "      <th>VEHICLE TYPE CODE 4</th>\n",
       "      <th>VEHICLE TYPE CODE 5</th>\n",
       "      <th>DATE</th>\n",
       "    </tr>\n",
       "  </thead>\n",
       "  <tbody>\n",
       "    <tr>\n",
       "      <th>0</th>\n",
       "      <td>Sedan</td>\n",
       "      <td>Station Wagon/Sport Utility Vehicle</td>\n",
       "      <td>NaN</td>\n",
       "      <td>NaN</td>\n",
       "      <td>NaN</td>\n",
       "      <td>04/30/2019</td>\n",
       "    </tr>\n",
       "    <tr>\n",
       "      <th>1</th>\n",
       "      <td>Station Wagon/Sport Utility Vehicle</td>\n",
       "      <td>Ambulance</td>\n",
       "      <td>NaN</td>\n",
       "      <td>NaN</td>\n",
       "      <td>NaN</td>\n",
       "      <td>04/30/2019</td>\n",
       "    </tr>\n",
       "    <tr>\n",
       "      <th>2</th>\n",
       "      <td>Sedan</td>\n",
       "      <td>NaN</td>\n",
       "      <td>NaN</td>\n",
       "      <td>NaN</td>\n",
       "      <td>NaN</td>\n",
       "      <td>04/30/2019</td>\n",
       "    </tr>\n",
       "    <tr>\n",
       "      <th>3</th>\n",
       "      <td>COMMU</td>\n",
       "      <td>Sedan</td>\n",
       "      <td>NaN</td>\n",
       "      <td>NaN</td>\n",
       "      <td>NaN</td>\n",
       "      <td>04/30/2019</td>\n",
       "    </tr>\n",
       "    <tr>\n",
       "      <th>4</th>\n",
       "      <td>Station Wagon/Sport Utility Vehicle</td>\n",
       "      <td>Sedan</td>\n",
       "      <td>NaN</td>\n",
       "      <td>NaN</td>\n",
       "      <td>NaN</td>\n",
       "      <td>04/30/2019</td>\n",
       "    </tr>\n",
       "  </tbody>\n",
       "</table>\n",
       "</div>"
      ],
      "text/plain": [
       "                   VEHICLE TYPE CODE 1                  VEHICLE TYPE CODE 2  \\\n",
       "0                                Sedan  Station Wagon/Sport Utility Vehicle   \n",
       "1  Station Wagon/Sport Utility Vehicle                            Ambulance   \n",
       "2                                Sedan                                  NaN   \n",
       "3                                COMMU                                Sedan   \n",
       "4  Station Wagon/Sport Utility Vehicle                                Sedan   \n",
       "\n",
       "  VEHICLE TYPE CODE 3 VEHICLE TYPE CODE 4 VEHICLE TYPE CODE 5        DATE  \n",
       "0                 NaN                 NaN                 NaN  04/30/2019  \n",
       "1                 NaN                 NaN                 NaN  04/30/2019  \n",
       "2                 NaN                 NaN                 NaN  04/30/2019  \n",
       "3                 NaN                 NaN                 NaN  04/30/2019  \n",
       "4                 NaN                 NaN                 NaN  04/30/2019  "
      ]
     },
     "execution_count": 7,
     "metadata": {},
     "output_type": "execute_result"
    }
   ],
   "source": [
    "focus_df = master_df[relatedColumns_list]\n",
    "focus_df.head()"
   ]
  },
  {
   "cell_type": "markdown",
   "metadata": {},
   "source": [
    "Compute the rate of multi car collisions as the proportion of \n",
    "*  the number of collisions involving 3 or more cars <br>\n",
    ">  to the total number of collisions for each month of 2017. "
   ]
  },
  {
   "cell_type": "code",
   "execution_count": 8,
   "metadata": {
    "ExecuteTime": {
     "end_time": "2019-05-18T05:02:09.881640Z",
     "start_time": "2019-05-18T05:02:09.146064Z"
    }
   },
   "outputs": [],
   "source": [
    "focus_df['year'] = [ date[-4:] for date in focus_df['DATE']]\n",
    "focus_df = focus_df.loc[\n",
    "    focus_df['year'] == '2017'\n",
    "]"
   ]
  },
  {
   "cell_type": "code",
   "execution_count": 9,
   "metadata": {
    "ExecuteTime": {
     "end_time": "2019-05-18T05:02:11.629326Z",
     "start_time": "2019-05-18T05:02:11.550371Z"
    }
   },
   "outputs": [],
   "source": [
    "focus_df['month'] = [ date[:2] for date in focus_df['DATE']]"
   ]
  },
  {
   "cell_type": "code",
   "execution_count": 10,
   "metadata": {
    "ExecuteTime": {
     "end_time": "2019-05-18T05:02:13.371359Z",
     "start_time": "2019-05-18T05:02:13.269381Z"
    }
   },
   "outputs": [],
   "source": [
    "# add a new column \n",
    "focus_df['yearmonth'] = [\n",
    "    str(year + '-' + month) for year,month in\n",
    "    zip(focus_df['year'], focus_df['month'])\n",
    "]"
   ]
  },
  {
   "cell_type": "code",
   "execution_count": 11,
   "metadata": {
    "ExecuteTime": {
     "end_time": "2019-05-18T05:02:15.008420Z",
     "start_time": "2019-05-18T05:02:14.991430Z"
    }
   },
   "outputs": [
    {
     "data": {
      "text/html": [
       "<div>\n",
       "<style scoped>\n",
       "    .dataframe tbody tr th:only-of-type {\n",
       "        vertical-align: middle;\n",
       "    }\n",
       "\n",
       "    .dataframe tbody tr th {\n",
       "        vertical-align: top;\n",
       "    }\n",
       "\n",
       "    .dataframe thead th {\n",
       "        text-align: right;\n",
       "    }\n",
       "</style>\n",
       "<table border=\"1\" class=\"dataframe\">\n",
       "  <thead>\n",
       "    <tr style=\"text-align: right;\">\n",
       "      <th></th>\n",
       "      <th>VEHICLE TYPE CODE 1</th>\n",
       "      <th>VEHICLE TYPE CODE 2</th>\n",
       "      <th>VEHICLE TYPE CODE 3</th>\n",
       "      <th>VEHICLE TYPE CODE 4</th>\n",
       "      <th>VEHICLE TYPE CODE 5</th>\n",
       "      <th>DATE</th>\n",
       "      <th>year</th>\n",
       "      <th>month</th>\n",
       "      <th>yearmonth</th>\n",
       "    </tr>\n",
       "  </thead>\n",
       "  <tbody>\n",
       "    <tr>\n",
       "      <th>297563</th>\n",
       "      <td>PASSENGER VEHICLE</td>\n",
       "      <td>NaN</td>\n",
       "      <td>NaN</td>\n",
       "      <td>NaN</td>\n",
       "      <td>NaN</td>\n",
       "      <td>12/15/2017</td>\n",
       "      <td>2017</td>\n",
       "      <td>12</td>\n",
       "      <td>2017-12</td>\n",
       "    </tr>\n",
       "    <tr>\n",
       "      <th>297778</th>\n",
       "      <td>SPORT UTILITY / STATION WAGON</td>\n",
       "      <td>NaN</td>\n",
       "      <td>NaN</td>\n",
       "      <td>NaN</td>\n",
       "      <td>NaN</td>\n",
       "      <td>12/31/2017</td>\n",
       "      <td>2017</td>\n",
       "      <td>12</td>\n",
       "      <td>2017-12</td>\n",
       "    </tr>\n",
       "    <tr>\n",
       "      <th>297898</th>\n",
       "      <td>PASSENGER VEHICLE</td>\n",
       "      <td>PASSENGER VEHICLE</td>\n",
       "      <td>NaN</td>\n",
       "      <td>NaN</td>\n",
       "      <td>NaN</td>\n",
       "      <td>12/31/2017</td>\n",
       "      <td>2017</td>\n",
       "      <td>12</td>\n",
       "      <td>2017-12</td>\n",
       "    </tr>\n",
       "    <tr>\n",
       "      <th>297923</th>\n",
       "      <td>BU</td>\n",
       "      <td>NaN</td>\n",
       "      <td>NaN</td>\n",
       "      <td>NaN</td>\n",
       "      <td>NaN</td>\n",
       "      <td>11/23/2017</td>\n",
       "      <td>2017</td>\n",
       "      <td>11</td>\n",
       "      <td>2017-11</td>\n",
       "    </tr>\n",
       "    <tr>\n",
       "      <th>298070</th>\n",
       "      <td>SPORT UTILITY / STATION WAGON</td>\n",
       "      <td>NaN</td>\n",
       "      <td>NaN</td>\n",
       "      <td>NaN</td>\n",
       "      <td>NaN</td>\n",
       "      <td>11/17/2017</td>\n",
       "      <td>2017</td>\n",
       "      <td>11</td>\n",
       "      <td>2017-11</td>\n",
       "    </tr>\n",
       "  </tbody>\n",
       "</table>\n",
       "</div>"
      ],
      "text/plain": [
       "                  VEHICLE TYPE CODE 1 VEHICLE TYPE CODE 2 VEHICLE TYPE CODE 3  \\\n",
       "297563              PASSENGER VEHICLE                 NaN                 NaN   \n",
       "297778  SPORT UTILITY / STATION WAGON                 NaN                 NaN   \n",
       "297898              PASSENGER VEHICLE   PASSENGER VEHICLE                 NaN   \n",
       "297923                             BU                 NaN                 NaN   \n",
       "298070  SPORT UTILITY / STATION WAGON                 NaN                 NaN   \n",
       "\n",
       "       VEHICLE TYPE CODE 4 VEHICLE TYPE CODE 5        DATE  year month  \\\n",
       "297563                 NaN                 NaN  12/15/2017  2017    12   \n",
       "297778                 NaN                 NaN  12/31/2017  2017    12   \n",
       "297898                 NaN                 NaN  12/31/2017  2017    12   \n",
       "297923                 NaN                 NaN  11/23/2017  2017    11   \n",
       "298070                 NaN                 NaN  11/17/2017  2017    11   \n",
       "\n",
       "       yearmonth  \n",
       "297563   2017-12  \n",
       "297778   2017-12  \n",
       "297898   2017-12  \n",
       "297923   2017-11  \n",
       "298070   2017-11  "
      ]
     },
     "execution_count": 11,
     "metadata": {},
     "output_type": "execute_result"
    }
   ],
   "source": [
    "focus_df.head()"
   ]
  },
  {
   "cell_type": "code",
   "execution_count": 12,
   "metadata": {
    "ExecuteTime": {
     "end_time": "2019-05-18T05:02:16.751415Z",
     "start_time": "2019-05-18T05:02:16.645476Z"
    }
   },
   "outputs": [],
   "source": [
    "focus_df = focus_df.drop(columns=['DATE',\n",
    "                       'year',\n",
    "                       'yearmonth'\n",
    "                      ])"
   ]
  },
  {
   "cell_type": "code",
   "execution_count": 13,
   "metadata": {
    "ExecuteTime": {
     "end_time": "2019-05-18T05:02:18.474425Z",
     "start_time": "2019-05-18T05:02:18.395469Z"
    }
   },
   "outputs": [],
   "source": [
    "# vehicleColumns_list = master_df.columns[-5:]\n",
    "# for column in vehicleColumns_list:\n",
    "#     focus_df.isna()\n",
    "    \n",
    "TOTAL2017_NUM = focus_df.groupby('month').count()['VEHICLE TYPE CODE 1'].sum()"
   ]
  },
  {
   "cell_type": "code",
   "execution_count": 14,
   "metadata": {
    "ExecuteTime": {
     "end_time": "2019-05-18T05:02:20.136469Z",
     "start_time": "2019-05-18T05:02:20.059512Z"
    }
   },
   "outputs": [],
   "source": [
    "gr0uped_df = focus_df.groupby('month').count()\n",
    "vehicleColumns_list = gr0uped_df.columns"
   ]
  },
  {
   "cell_type": "code",
   "execution_count": 15,
   "metadata": {
    "ExecuteTime": {
     "end_time": "2019-05-18T05:02:21.739543Z",
     "start_time": "2019-05-18T05:02:21.732546Z"
    }
   },
   "outputs": [],
   "source": [
    "gr0uped_df['singleCarOnly'] = [\n",
    "    int(first - second) \n",
    "    for first, second \n",
    "    in zip(gr0uped_df[vehicleColumns_list[0]], gr0uped_df[vehicleColumns_list[1]])\n",
    "] "
   ]
  },
  {
   "cell_type": "code",
   "execution_count": 16,
   "metadata": {
    "ExecuteTime": {
     "end_time": "2019-05-18T05:02:23.341621Z",
     "start_time": "2019-05-18T05:02:23.335624Z"
    }
   },
   "outputs": [],
   "source": [
    "gr0uped_df['twoCarsOnly'] = [\n",
    "    int(first - second) \n",
    "    for first, second \n",
    "    in zip(gr0uped_df[vehicleColumns_list[1]], gr0uped_df[vehicleColumns_list[2]])\n",
    "] "
   ]
  },
  {
   "cell_type": "markdown",
   "metadata": {},
   "source": [
    "###### Q-7: Do winter driving conditions lead to more multi-car collisions?\n",
    "* Compute the rate of multi car collisions as the proportion of the number of collisions involving 3 or more cars to the total number of collisions for each month of 2017. \n",
    "* Calculate the chi-square test statistic for testing whether a collision is more likely to involve 3 or more cars in January than in May."
   ]
  },
  {
   "cell_type": "code",
   "execution_count": 17,
   "metadata": {
    "ExecuteTime": {
     "end_time": "2019-05-18T05:02:24.943698Z",
     "start_time": "2019-05-18T05:02:24.938702Z"
    }
   },
   "outputs": [],
   "source": [
    "# at least one vehicle involved \n",
    "gr0uped_df['numTotalMonthly'] = [ \n",
    "    int(minimum_one_car) \n",
    "    for minimum_one_car \n",
    "    in gr0uped_df[vehicleColumns_list[0]]     \n",
    "                   ]"
   ]
  },
  {
   "cell_type": "code",
   "execution_count": 18,
   "metadata": {
    "ExecuteTime": {
     "end_time": "2019-05-18T05:02:26.563767Z",
     "start_time": "2019-05-18T05:02:26.549775Z"
    }
   },
   "outputs": [
    {
     "data": {
      "text/html": [
       "<div>\n",
       "<style scoped>\n",
       "    .dataframe tbody tr th:only-of-type {\n",
       "        vertical-align: middle;\n",
       "    }\n",
       "\n",
       "    .dataframe tbody tr th {\n",
       "        vertical-align: top;\n",
       "    }\n",
       "\n",
       "    .dataframe thead th {\n",
       "        text-align: right;\n",
       "    }\n",
       "</style>\n",
       "<table border=\"1\" class=\"dataframe\">\n",
       "  <thead>\n",
       "    <tr style=\"text-align: right;\">\n",
       "      <th></th>\n",
       "      <th>singleCarOnly</th>\n",
       "      <th>twoCarsOnly</th>\n",
       "      <th>numTotalMonthly</th>\n",
       "    </tr>\n",
       "    <tr>\n",
       "      <th>month</th>\n",
       "      <th></th>\n",
       "      <th></th>\n",
       "      <th></th>\n",
       "    </tr>\n",
       "  </thead>\n",
       "  <tbody>\n",
       "    <tr>\n",
       "      <th>01</th>\n",
       "      <td>3121</td>\n",
       "      <td>8090</td>\n",
       "      <td>17423</td>\n",
       "    </tr>\n",
       "    <tr>\n",
       "      <th>02</th>\n",
       "      <td>5078</td>\n",
       "      <td>9654</td>\n",
       "      <td>15760</td>\n",
       "    </tr>\n",
       "    <tr>\n",
       "      <th>03</th>\n",
       "      <td>6456</td>\n",
       "      <td>11850</td>\n",
       "      <td>19225</td>\n",
       "    </tr>\n",
       "    <tr>\n",
       "      <th>04</th>\n",
       "      <td>5385</td>\n",
       "      <td>11417</td>\n",
       "      <td>17753</td>\n",
       "    </tr>\n",
       "    <tr>\n",
       "      <th>05</th>\n",
       "      <td>6448</td>\n",
       "      <td>13328</td>\n",
       "      <td>20912</td>\n",
       "    </tr>\n",
       "  </tbody>\n",
       "</table>\n",
       "</div>"
      ],
      "text/plain": [
       "       singleCarOnly  twoCarsOnly  numTotalMonthly\n",
       "month                                             \n",
       "01              3121         8090            17423\n",
       "02              5078         9654            15760\n",
       "03              6456        11850            19225\n",
       "04              5385        11417            17753\n",
       "05              6448        13328            20912"
      ]
     },
     "execution_count": 18,
     "metadata": {},
     "output_type": "execute_result"
    }
   ],
   "source": [
    "final_df = gr0uped_df[['singleCarOnly',\n",
    "                       'twoCarsOnly',\n",
    "                     'numTotalMonthly']]\n",
    "final_df.head()\n"
   ]
  },
  {
   "cell_type": "code",
   "execution_count": 19,
   "metadata": {
    "ExecuteTime": {
     "end_time": "2019-05-18T05:02:28.342742Z",
     "start_time": "2019-05-18T05:02:28.301766Z"
    }
   },
   "outputs": [],
   "source": [
    "final_df['threeCarsAndMore'] = [int(total) - int(single + double) for total,single, double in zip(final_df['numTotalMonthly'], final_df['singleCarOnly'], final_df['twoCarsOnly'])\n",
    "                               ]"
   ]
  },
  {
   "cell_type": "code",
   "execution_count": 20,
   "metadata": {
    "ExecuteTime": {
     "end_time": "2019-05-18T05:02:33.452361Z",
     "start_time": "2019-05-18T05:02:33.410385Z"
    }
   },
   "outputs": [],
   "source": [
    "final_df.drop(columns=['singleCarOnly', 'twoCarsOnly'], inplace=True)"
   ]
  },
  {
   "cell_type": "code",
   "execution_count": 21,
   "metadata": {
    "ExecuteTime": {
     "end_time": "2019-05-18T05:02:35.112406Z",
     "start_time": "2019-05-18T05:02:35.105410Z"
    }
   },
   "outputs": [],
   "source": [
    "percentage_df = final_df.copy()\n",
    "percentage_df['percMonthly'] = [\n",
    "    float(threecars/totalnum*100).__round__(2)\n",
    "    for threecars,totalnum \n",
    "    in zip(percentage_df['threeCarsAndMore'],percentage_df['numTotalMonthly'])\n",
    "]"
   ]
  },
  {
   "cell_type": "code",
   "execution_count": 22,
   "metadata": {
    "ExecuteTime": {
     "end_time": "2019-05-18T05:02:36.739242Z",
     "start_time": "2019-05-18T05:02:36.734244Z"
    }
   },
   "outputs": [],
   "source": [
    "percentage_df.drop(columns='threeCarsAndMore', inplace=True)"
   ]
  },
  {
   "cell_type": "code",
   "execution_count": 23,
   "metadata": {
    "ExecuteTime": {
     "end_time": "2019-05-18T05:02:38.401284Z",
     "start_time": "2019-05-18T05:02:38.385293Z"
    }
   },
   "outputs": [
    {
     "data": {
      "text/html": [
       "<div>\n",
       "<style scoped>\n",
       "    .dataframe tbody tr th:only-of-type {\n",
       "        vertical-align: middle;\n",
       "    }\n",
       "\n",
       "    .dataframe tbody tr th {\n",
       "        vertical-align: top;\n",
       "    }\n",
       "\n",
       "    .dataframe thead th {\n",
       "        text-align: right;\n",
       "    }\n",
       "</style>\n",
       "<table border=\"1\" class=\"dataframe\">\n",
       "  <thead>\n",
       "    <tr style=\"text-align: right;\">\n",
       "      <th></th>\n",
       "      <th>numTotalMonthly</th>\n",
       "      <th>percMonthly</th>\n",
       "    </tr>\n",
       "    <tr>\n",
       "      <th>month</th>\n",
       "      <th></th>\n",
       "      <th></th>\n",
       "    </tr>\n",
       "  </thead>\n",
       "  <tbody>\n",
       "    <tr>\n",
       "      <th>01</th>\n",
       "      <td>17423</td>\n",
       "      <td>35.65</td>\n",
       "    </tr>\n",
       "  </tbody>\n",
       "</table>\n",
       "</div>"
      ],
      "text/plain": [
       "       numTotalMonthly  percMonthly\n",
       "month                              \n",
       "01               17423        35.65"
      ]
     },
     "execution_count": 23,
     "metadata": {},
     "output_type": "execute_result"
    },
    {
     "data": {
      "text/html": [
       "<div>\n",
       "<style scoped>\n",
       "    .dataframe tbody tr th:only-of-type {\n",
       "        vertical-align: middle;\n",
       "    }\n",
       "\n",
       "    .dataframe tbody tr th {\n",
       "        vertical-align: top;\n",
       "    }\n",
       "\n",
       "    .dataframe thead th {\n",
       "        text-align: right;\n",
       "    }\n",
       "</style>\n",
       "<table border=\"1\" class=\"dataframe\">\n",
       "  <thead>\n",
       "    <tr style=\"text-align: right;\">\n",
       "      <th></th>\n",
       "      <th>numTotalMonthly</th>\n",
       "      <th>percMonthly</th>\n",
       "    </tr>\n",
       "    <tr>\n",
       "      <th>month</th>\n",
       "      <th></th>\n",
       "      <th></th>\n",
       "    </tr>\n",
       "  </thead>\n",
       "  <tbody>\n",
       "    <tr>\n",
       "      <th>05</th>\n",
       "      <td>20912</td>\n",
       "      <td>5.43</td>\n",
       "    </tr>\n",
       "  </tbody>\n",
       "</table>\n",
       "</div>"
      ],
      "text/plain": [
       "       numTotalMonthly  percMonthly\n",
       "month                              \n",
       "05               20912         5.43"
      ]
     },
     "execution_count": 23,
     "metadata": {},
     "output_type": "execute_result"
    }
   ],
   "source": [
    "percentage_df['01':'01']\n",
    "percentage_df['05':'05']\n"
   ]
  },
  {
   "cell_type": "code",
   "execution_count": 24,
   "metadata": {
    "ExecuteTime": {
     "end_time": "2019-05-18T05:02:40.078318Z",
     "start_time": "2019-05-18T05:02:40.072322Z"
    }
   },
   "outputs": [],
   "source": [
    "import scipy.stats as scs"
   ]
  },
  {
   "cell_type": "code",
   "execution_count": 25,
   "metadata": {
    "ExecuteTime": {
     "end_time": "2019-05-18T05:02:41.711377Z",
     "start_time": "2019-05-18T05:02:41.706381Z"
    }
   },
   "outputs": [],
   "source": [
    "def categories(series):\n",
    "    return range(int(series.min()), int(series.max()) + 1)"
   ]
  },
  {
   "cell_type": "code",
   "execution_count": 26,
   "metadata": {
    "ExecuteTime": {
     "end_time": "2019-05-18T05:02:43.364359Z",
     "start_time": "2019-05-18T05:02:43.359361Z"
    }
   },
   "outputs": [],
   "source": [
    "def chi_square_of_df_cols(df, col1, col2):\n",
    "    df_col1, df_col2 = df[col1], df[col2]\n",
    "\n",
    "    result = [[sum((df_col1 == cat1) & (df_col2 == cat2))\n",
    "               for cat2 in categories(df_col2)]\n",
    "              for cat1 in categories(df_col1)]\n",
    "\n",
    "    return scs.chi2_contingency(result)"
   ]
  },
  {
   "cell_type": "code",
   "execution_count": 34,
   "metadata": {
    "ExecuteTime": {
     "end_time": "2019-05-18T05:09:40.291431Z",
     "start_time": "2019-05-18T05:09:40.048572Z"
    }
   },
   "outputs": [
    {
     "data": {
      "text/plain": [
       "<Figure size 1080x864 with 0 Axes>"
      ]
     },
     "execution_count": 34,
     "metadata": {},
     "output_type": "execute_result"
    },
    {
     "data": {
      "text/plain": [
       "<matplotlib.collections.PathCollection at 0x24b00d0fa58>"
      ]
     },
     "execution_count": 34,
     "metadata": {},
     "output_type": "execute_result"
    },
    {
     "data": {
      "image/png": "[encoded data removed]",
      "text/plain": [
       "<Figure size 1080x864 with 1 Axes>"
      ]
     },
     "metadata": {},
     "output_type": "display_data"
    }
   ],
   "source": [
    "plt.figure(figsize=(15, 12))\n",
    "plt.scatter(percentage_df.index, \n",
    "    percentage_df['percMonthly'], s=500, marker='o', edgecolors='black' , alpha = 0.50)\n",
    "\n"
   ]
  },
  {
   "cell_type": "markdown",
   "metadata": {},
   "source": [
    "# BELOW CODE DOESN'T RUN"
   ]
  },
  {
   "cell_type": "code",
   "execution_count": null,
   "metadata": {
    "ExecuteTime": {
     "end_time": "2019-05-08T03:23:14.149034Z",
     "start_time": "2019-05-08T03:23:14.146033Z"
    }
   },
   "outputs": [],
   "source": [
    "results = chi_square_of_df_cols(percentage_df, 'percMonthly','numTotalMonthly')"
   ]
  }
 ],
 "metadata": {
  "kernelspec": {
   "display_name": "Python 3",
   "language": "python",
   "name": "python3"
  },
  "language_info": {
   "codemirror_mode": {
    "name": "ipython",
    "version": 3
   },
   "file_extension": ".py",
   "mimetype": "text/x-python",
   "name": "python",
   "nbconvert_exporter": "python",
   "pygments_lexer": "ipython3",
   "version": "3.6.5"
  },
  "varInspector": {
   "cols": {
    "lenName": 16,
    "lenType": 16,
    "lenVar": 40
   },
   "kernels_config": {
    "python": {
     "delete_cmd_postfix": "",
     "delete_cmd_prefix": "del ",
     "library": "var_list.py",
     "varRefreshCmd": "print(var_dic_list())"
    },
    "r": {
     "delete_cmd_postfix": ") ",
     "delete_cmd_prefix": "rm(",
     "library": "var_list.r",
     "varRefreshCmd": "cat(var_dic_list()) "
    }
   },
   "types_to_exclude": [
    "module",
    "function",
    "builtin_function_or_method",
    "instance",
    "_Feature"
   ],
   "window_display": false
  }
 },
 "nbformat": 4,
 "nbformat_minor": 2
}
