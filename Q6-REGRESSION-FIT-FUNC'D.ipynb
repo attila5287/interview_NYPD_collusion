{
 "cells": [
  {
   "cell_type": "code",
   "execution_count": 17,
   "metadata": {
    "ExecuteTime": {
     "end_time": "2019-05-20T08:30:38.470545Z",
     "start_time": "2019-05-20T08:30:38.466547Z"
    }
   },
   "outputs": [],
   "source": [
    "# Q-6: Consider the total number of collisions each year from 2013-2018. \n",
    "# * Is there an apparent trend? \n",
    "# * Fit a linear regression for the number of collisions per year and report its slope."
   ]
  },
  {
   "cell_type": "code",
   "execution_count": 40,
   "metadata": {
    "ExecuteTime": {
     "end_time": "2019-05-20T08:49:33.410228Z",
     "start_time": "2019-05-20T08:49:32.788585Z"
    }
   },
   "outputs": [
    {
     "name": "stdout",
     "output_type": "stream",
     "text": [
      "Automatically created module for IPython interactive environment\n"
     ]
    }
   ],
   "source": [
    "from IPython.core.interactiveshell import InteractiveShell\n",
    "InteractiveShell.ast_node_interactivity = \"all\"\n",
    "import warnings\n",
    "warnings.simplefilter('ignore')\n",
    "from sklearn.metrics import mean_squared_error, r2_score\n",
    "from sklearn import datasets, linear_model\n",
    "print(__doc__)\n",
    "import pandas as pd\n",
    "import os\n",
    "import numpy as np\n",
    "import matplotlib.pyplot as plt\n",
    "import seaborn as sns\n",
    "plt.style.use('fivethirtyeight')"
   ]
  },
  {
   "cell_type": "code",
   "execution_count": 19,
   "metadata": {
    "ExecuteTime": {
     "end_time": "2019-05-20T08:30:38.787291Z",
     "start_time": "2019-05-20T08:30:38.779293Z"
    }
   },
   "outputs": [],
   "source": [
    "def dataFram3NYC(FILE_NAME='NYPD_Motor_Vehicle_Collisions.csv',\n",
    "                 use_parent_dir=False):\n",
    "    \"\"\"\n",
    "    READS ~1,5 MILLION ROW CSV FILE, RETURNS MASTER DATAFRAME\n",
    "    use_parent_dir will use parent directory as base directory\n",
    "    \"\"\"\n",
    "    if use_parent_dir == True:\n",
    "        CURRENTWRK_DIR = os.getcwd()\n",
    "        BASE_DIR = os.path.dirname(CURRENTWRK_DIR)\n",
    "    elif use_parent_dir == False:\n",
    "        BASE_DIR = os.getcwd()\n",
    "\n",
    "\n",
    "#     STATIC_FOLDER = os.path.dirname(BASE_DIR)\n",
    "    STATIC_FOLDER = ''\n",
    "    # FILE_NAME = 'NYPD_Motor_Vehicle_Collisions.csv'\n",
    "    PATH_COMPILED = os.path.join(BASE_DIR, STATIC_FOLDER, FILE_NAME)\n",
    "    print('\\n> > > > dataFrameNYC() now reading csv with file path below')\n",
    "    print(PATH_COMPILED)\n",
    "    print()\n",
    "    _df = pd.read_csv(PATH_COMPILED, encoding=\"iso-8859-1\", low_memory=False)\n",
    "    col_list = list(_df.columns)\n",
    "    col_ind3x = np.arange(len(col_list))\n",
    "    col_dict = dict(zip(col_ind3x, col_list))\n",
    "    print(col_dict)\n",
    "    return _df"
   ]
  },
  {
   "cell_type": "code",
   "execution_count": 20,
   "metadata": {
    "ExecuteTime": {
     "end_time": "2019-05-20T08:30:38.907327Z",
     "start_time": "2019-05-20T08:30:38.899332Z"
    },
    "scrolled": false
   },
   "outputs": [],
   "source": [
    "def focusDataframer(columns2keep_list = [0,23]):\n",
    "    \"\"\"\n",
    "    MODIFIED DATA FRAMER, PRINTS OUT ALL COLUMN INDEX/NAMES, \n",
    "    REQUIRES A LIST OF REQUESTED COLUMN INDEXES AS INTEGERS\n",
    "    RETURNS A DATAFRAME WITH ONLY USER-SELECTED COLUMNS\n",
    "    \"\"\"\n",
    "    pass\n",
    "    raw_df = dataFram3NYC(use_parent_dir=True)\n",
    "    col_list = list(raw_df.columns)\n",
    "    col_ind3x = np.arange(len(col_list))\n",
    "    col_dict = dict(zip( col_ind3x, col_list))\n",
    "    col_final = []\n",
    "    for index in columns2keep_list:\n",
    "        add_this_column = col_dict[index]\n",
    "        col_final.append(add_this_column)\n",
    "    col_final = [\n",
    "        str(index)\n",
    "        for index in col_final\n",
    "    ]\n",
    "    _df = raw_df[\n",
    "        col_final\n",
    "    ]\n",
    "    print()\n",
    "    print('> > > focusDataframer(columns2keep_list = [indexNo_as_int00, indexNo_as_int01]')\n",
    "    print('> > >                * selected columns:')\n",
    "    for selected_col,keepthis in zip(columns2keep_list,col_final):\n",
    "        print('> > >                                  ', selected_col,' keeps ', keepthis)\n",
    "    return _df"
   ]
  },
  {
   "cell_type": "code",
   "execution_count": 21,
   "metadata": {
    "ExecuteTime": {
     "end_time": "2019-05-20T08:30:47.661870Z",
     "start_time": "2019-05-20T08:30:39.227724Z"
    }
   },
   "outputs": [
    {
     "name": "stdout",
     "output_type": "stream",
     "text": [
      "\n",
      "> > > > dataFrameNYC() now reading csv with file path below\n",
      "C:\\Users\\DENVER\\Desktop\\interviewPY\\INT_03_PYTHON_PANDAS_NYC_COLLISION\\NYPD_Motor_Vehicle_Collisions.csv\n",
      "\n",
      "{0: 'DATE', 1: 'TIME', 2: 'BOROUGH', 3: 'ZIP CODE', 4: 'LATITUDE', 5: 'LONGITUDE', 6: 'LOCATION', 7: 'ON STREET NAME', 8: 'CROSS STREET NAME', 9: 'OFF STREET NAME', 10: 'NUMBER OF PERSONS INJURED', 11: 'NUMBER OF PERSONS KILLED', 12: 'NUMBER OF PEDESTRIANS INJURED', 13: 'NUMBER OF PEDESTRIANS KILLED', 14: 'NUMBER OF CYCLIST INJURED', 15: 'NUMBER OF CYCLIST KILLED', 16: 'NUMBER OF MOTORIST INJURED', 17: 'NUMBER OF MOTORIST KILLED', 18: 'CONTRIBUTING FACTOR VEHICLE 1', 19: 'CONTRIBUTING FACTOR VEHICLE 2', 20: 'CONTRIBUTING FACTOR VEHICLE 3', 21: 'CONTRIBUTING FACTOR VEHICLE 4', 22: 'CONTRIBUTING FACTOR VEHICLE 5', 23: 'UNIQUE KEY', 24: 'VEHICLE TYPE CODE 1', 25: 'VEHICLE TYPE CODE 2', 26: 'VEHICLE TYPE CODE 3', 27: 'VEHICLE TYPE CODE 4', 28: 'VEHICLE TYPE CODE 5'}\n",
      "\n",
      "> > > focusDataframer(columns2keep_list = [indexNo_as_int00, indexNo_as_int01]\n",
      "> > >                * selected columns:\n",
      "> > >                                   0  keeps  DATE\n",
      "> > >                                   23  keeps  UNIQUE KEY\n"
     ]
    },
    {
     "data": {
      "text/html": [
       "<div>\n",
       "<style scoped>\n",
       "    .dataframe tbody tr th:only-of-type {\n",
       "        vertical-align: middle;\n",
       "    }\n",
       "\n",
       "    .dataframe tbody tr th {\n",
       "        vertical-align: top;\n",
       "    }\n",
       "\n",
       "    .dataframe thead th {\n",
       "        text-align: right;\n",
       "    }\n",
       "</style>\n",
       "<table border=\"1\" class=\"dataframe\">\n",
       "  <thead>\n",
       "    <tr style=\"text-align: right;\">\n",
       "      <th></th>\n",
       "      <th>DATE</th>\n",
       "      <th>UNIQUE KEY</th>\n",
       "    </tr>\n",
       "  </thead>\n",
       "  <tbody>\n",
       "    <tr>\n",
       "      <th>0</th>\n",
       "      <td>04/30/2019</td>\n",
       "      <td>4123208</td>\n",
       "    </tr>\n",
       "    <tr>\n",
       "      <th>1</th>\n",
       "      <td>04/30/2019</td>\n",
       "      <td>4123128</td>\n",
       "    </tr>\n",
       "    <tr>\n",
       "      <th>2</th>\n",
       "      <td>04/30/2019</td>\n",
       "      <td>4124069</td>\n",
       "    </tr>\n",
       "    <tr>\n",
       "      <th>3</th>\n",
       "      <td>04/30/2019</td>\n",
       "      <td>4123202</td>\n",
       "    </tr>\n",
       "    <tr>\n",
       "      <th>4</th>\n",
       "      <td>04/30/2019</td>\n",
       "      <td>4123344</td>\n",
       "    </tr>\n",
       "    <tr>\n",
       "      <th>5</th>\n",
       "      <td>04/30/2019</td>\n",
       "      <td>4123160</td>\n",
       "    </tr>\n",
       "    <tr>\n",
       "      <th>6</th>\n",
       "      <td>04/30/2019</td>\n",
       "      <td>4123054</td>\n",
       "    </tr>\n",
       "    <tr>\n",
       "      <th>7</th>\n",
       "      <td>04/30/2019</td>\n",
       "      <td>4123755</td>\n",
       "    </tr>\n",
       "    <tr>\n",
       "      <th>8</th>\n",
       "      <td>04/30/2019</td>\n",
       "      <td>4123120</td>\n",
       "    </tr>\n",
       "    <tr>\n",
       "      <th>9</th>\n",
       "      <td>04/30/2019</td>\n",
       "      <td>4122965</td>\n",
       "    </tr>\n",
       "    <tr>\n",
       "      <th>10</th>\n",
       "      <td>04/30/2019</td>\n",
       "      <td>4122945</td>\n",
       "    </tr>\n",
       "    <tr>\n",
       "      <th>11</th>\n",
       "      <td>04/30/2019</td>\n",
       "      <td>4123261</td>\n",
       "    </tr>\n",
       "    <tr>\n",
       "      <th>12</th>\n",
       "      <td>04/30/2019</td>\n",
       "      <td>4123007</td>\n",
       "    </tr>\n",
       "    <tr>\n",
       "      <th>13</th>\n",
       "      <td>04/30/2019</td>\n",
       "      <td>4123038</td>\n",
       "    </tr>\n",
       "    <tr>\n",
       "      <th>14</th>\n",
       "      <td>04/30/2019</td>\n",
       "      <td>4123016</td>\n",
       "    </tr>\n",
       "    <tr>\n",
       "      <th>15</th>\n",
       "      <td>04/30/2019</td>\n",
       "      <td>4122846</td>\n",
       "    </tr>\n",
       "    <tr>\n",
       "      <th>16</th>\n",
       "      <td>04/30/2019</td>\n",
       "      <td>4122796</td>\n",
       "    </tr>\n",
       "    <tr>\n",
       "      <th>17</th>\n",
       "      <td>04/30/2019</td>\n",
       "      <td>4122911</td>\n",
       "    </tr>\n",
       "    <tr>\n",
       "      <th>18</th>\n",
       "      <td>04/30/2019</td>\n",
       "      <td>4123197</td>\n",
       "    </tr>\n",
       "    <tr>\n",
       "      <th>19</th>\n",
       "      <td>04/30/2019</td>\n",
       "      <td>4122826</td>\n",
       "    </tr>\n",
       "    <tr>\n",
       "      <th>20</th>\n",
       "      <td>04/30/2019</td>\n",
       "      <td>4123206</td>\n",
       "    </tr>\n",
       "    <tr>\n",
       "      <th>21</th>\n",
       "      <td>04/30/2019</td>\n",
       "      <td>4123169</td>\n",
       "    </tr>\n",
       "    <tr>\n",
       "      <th>22</th>\n",
       "      <td>04/30/2019</td>\n",
       "      <td>4124144</td>\n",
       "    </tr>\n",
       "    <tr>\n",
       "      <th>23</th>\n",
       "      <td>04/30/2019</td>\n",
       "      <td>4123734</td>\n",
       "    </tr>\n",
       "    <tr>\n",
       "      <th>24</th>\n",
       "      <td>04/30/2019</td>\n",
       "      <td>4123981</td>\n",
       "    </tr>\n",
       "    <tr>\n",
       "      <th>25</th>\n",
       "      <td>04/30/2019</td>\n",
       "      <td>4123140</td>\n",
       "    </tr>\n",
       "    <tr>\n",
       "      <th>26</th>\n",
       "      <td>04/30/2019</td>\n",
       "      <td>4123496</td>\n",
       "    </tr>\n",
       "    <tr>\n",
       "      <th>27</th>\n",
       "      <td>04/30/2019</td>\n",
       "      <td>4123042</td>\n",
       "    </tr>\n",
       "    <tr>\n",
       "      <th>28</th>\n",
       "      <td>04/30/2019</td>\n",
       "      <td>4123280</td>\n",
       "    </tr>\n",
       "    <tr>\n",
       "      <th>29</th>\n",
       "      <td>04/30/2019</td>\n",
       "      <td>4123700</td>\n",
       "    </tr>\n",
       "    <tr>\n",
       "      <th>...</th>\n",
       "      <td>...</td>\n",
       "      <td>...</td>\n",
       "    </tr>\n",
       "    <tr>\n",
       "      <th>1487353</th>\n",
       "      <td>07/01/2012</td>\n",
       "      <td>254993</td>\n",
       "    </tr>\n",
       "    <tr>\n",
       "      <th>1487354</th>\n",
       "      <td>07/01/2012</td>\n",
       "      <td>179414</td>\n",
       "    </tr>\n",
       "    <tr>\n",
       "      <th>1487355</th>\n",
       "      <td>07/01/2012</td>\n",
       "      <td>3016724</td>\n",
       "    </tr>\n",
       "    <tr>\n",
       "      <th>1487356</th>\n",
       "      <td>07/01/2012</td>\n",
       "      <td>70031</td>\n",
       "    </tr>\n",
       "    <tr>\n",
       "      <th>1487357</th>\n",
       "      <td>07/01/2012</td>\n",
       "      <td>172551</td>\n",
       "    </tr>\n",
       "    <tr>\n",
       "      <th>1487358</th>\n",
       "      <td>07/01/2012</td>\n",
       "      <td>208724</td>\n",
       "    </tr>\n",
       "    <tr>\n",
       "      <th>1487359</th>\n",
       "      <td>07/01/2012</td>\n",
       "      <td>233142</td>\n",
       "    </tr>\n",
       "    <tr>\n",
       "      <th>1487360</th>\n",
       "      <td>07/01/2012</td>\n",
       "      <td>94868</td>\n",
       "    </tr>\n",
       "    <tr>\n",
       "      <th>1487361</th>\n",
       "      <td>07/01/2012</td>\n",
       "      <td>238643</td>\n",
       "    </tr>\n",
       "    <tr>\n",
       "      <th>1487362</th>\n",
       "      <td>07/01/2012</td>\n",
       "      <td>37634</td>\n",
       "    </tr>\n",
       "    <tr>\n",
       "      <th>1487363</th>\n",
       "      <td>07/01/2012</td>\n",
       "      <td>160103</td>\n",
       "    </tr>\n",
       "    <tr>\n",
       "      <th>1487364</th>\n",
       "      <td>07/01/2012</td>\n",
       "      <td>203690</td>\n",
       "    </tr>\n",
       "    <tr>\n",
       "      <th>1487365</th>\n",
       "      <td>07/01/2012</td>\n",
       "      <td>219394</td>\n",
       "    </tr>\n",
       "    <tr>\n",
       "      <th>1487366</th>\n",
       "      <td>07/01/2012</td>\n",
       "      <td>284646</td>\n",
       "    </tr>\n",
       "    <tr>\n",
       "      <th>1487367</th>\n",
       "      <td>07/01/2012</td>\n",
       "      <td>219398</td>\n",
       "    </tr>\n",
       "    <tr>\n",
       "      <th>1487368</th>\n",
       "      <td>07/01/2012</td>\n",
       "      <td>88535</td>\n",
       "    </tr>\n",
       "    <tr>\n",
       "      <th>1487369</th>\n",
       "      <td>07/01/2012</td>\n",
       "      <td>129899</td>\n",
       "    </tr>\n",
       "    <tr>\n",
       "      <th>1487370</th>\n",
       "      <td>07/01/2012</td>\n",
       "      <td>254997</td>\n",
       "    </tr>\n",
       "    <tr>\n",
       "      <th>1487371</th>\n",
       "      <td>07/01/2012</td>\n",
       "      <td>163374</td>\n",
       "    </tr>\n",
       "    <tr>\n",
       "      <th>1487372</th>\n",
       "      <td>07/01/2012</td>\n",
       "      <td>147454</td>\n",
       "    </tr>\n",
       "    <tr>\n",
       "      <th>1487373</th>\n",
       "      <td>07/01/2012</td>\n",
       "      <td>80827</td>\n",
       "    </tr>\n",
       "    <tr>\n",
       "      <th>1487374</th>\n",
       "      <td>07/01/2012</td>\n",
       "      <td>5294</td>\n",
       "    </tr>\n",
       "    <tr>\n",
       "      <th>1487375</th>\n",
       "      <td>07/01/2012</td>\n",
       "      <td>245559</td>\n",
       "    </tr>\n",
       "    <tr>\n",
       "      <th>1487376</th>\n",
       "      <td>07/01/2012</td>\n",
       "      <td>279641</td>\n",
       "    </tr>\n",
       "    <tr>\n",
       "      <th>1487377</th>\n",
       "      <td>07/01/2012</td>\n",
       "      <td>279639</td>\n",
       "    </tr>\n",
       "    <tr>\n",
       "      <th>1487378</th>\n",
       "      <td>07/01/2012</td>\n",
       "      <td>2896726</td>\n",
       "    </tr>\n",
       "    <tr>\n",
       "      <th>1487379</th>\n",
       "      <td>07/01/2012</td>\n",
       "      <td>37635</td>\n",
       "    </tr>\n",
       "    <tr>\n",
       "      <th>1487380</th>\n",
       "      <td>07/01/2012</td>\n",
       "      <td>219395</td>\n",
       "    </tr>\n",
       "    <tr>\n",
       "      <th>1487381</th>\n",
       "      <td>07/01/2012</td>\n",
       "      <td>44907</td>\n",
       "    </tr>\n",
       "    <tr>\n",
       "      <th>1487382</th>\n",
       "      <td>07/01/2012</td>\n",
       "      <td>85154</td>\n",
       "    </tr>\n",
       "  </tbody>\n",
       "</table>\n",
       "<p>1487383 rows × 2 columns</p>\n",
       "</div>"
      ],
      "text/plain": [
       "               DATE  UNIQUE KEY\n",
       "0        04/30/2019     4123208\n",
       "1        04/30/2019     4123128\n",
       "2        04/30/2019     4124069\n",
       "3        04/30/2019     4123202\n",
       "4        04/30/2019     4123344\n",
       "5        04/30/2019     4123160\n",
       "6        04/30/2019     4123054\n",
       "7        04/30/2019     4123755\n",
       "8        04/30/2019     4123120\n",
       "9        04/30/2019     4122965\n",
       "10       04/30/2019     4122945\n",
       "11       04/30/2019     4123261\n",
       "12       04/30/2019     4123007\n",
       "13       04/30/2019     4123038\n",
       "14       04/30/2019     4123016\n",
       "15       04/30/2019     4122846\n",
       "16       04/30/2019     4122796\n",
       "17       04/30/2019     4122911\n",
       "18       04/30/2019     4123197\n",
       "19       04/30/2019     4122826\n",
       "20       04/30/2019     4123206\n",
       "21       04/30/2019     4123169\n",
       "22       04/30/2019     4124144\n",
       "23       04/30/2019     4123734\n",
       "24       04/30/2019     4123981\n",
       "25       04/30/2019     4123140\n",
       "26       04/30/2019     4123496\n",
       "27       04/30/2019     4123042\n",
       "28       04/30/2019     4123280\n",
       "29       04/30/2019     4123700\n",
       "...             ...         ...\n",
       "1487353  07/01/2012      254993\n",
       "1487354  07/01/2012      179414\n",
       "1487355  07/01/2012     3016724\n",
       "1487356  07/01/2012       70031\n",
       "1487357  07/01/2012      172551\n",
       "1487358  07/01/2012      208724\n",
       "1487359  07/01/2012      233142\n",
       "1487360  07/01/2012       94868\n",
       "1487361  07/01/2012      238643\n",
       "1487362  07/01/2012       37634\n",
       "1487363  07/01/2012      160103\n",
       "1487364  07/01/2012      203690\n",
       "1487365  07/01/2012      219394\n",
       "1487366  07/01/2012      284646\n",
       "1487367  07/01/2012      219398\n",
       "1487368  07/01/2012       88535\n",
       "1487369  07/01/2012      129899\n",
       "1487370  07/01/2012      254997\n",
       "1487371  07/01/2012      163374\n",
       "1487372  07/01/2012      147454\n",
       "1487373  07/01/2012       80827\n",
       "1487374  07/01/2012        5294\n",
       "1487375  07/01/2012      245559\n",
       "1487376  07/01/2012      279641\n",
       "1487377  07/01/2012      279639\n",
       "1487378  07/01/2012     2896726\n",
       "1487379  07/01/2012       37635\n",
       "1487380  07/01/2012      219395\n",
       "1487381  07/01/2012       44907\n",
       "1487382  07/01/2012       85154\n",
       "\n",
       "[1487383 rows x 2 columns]"
      ]
     },
     "execution_count": 21,
     "metadata": {},
     "output_type": "execute_result"
    }
   ],
   "source": [
    "focusDataframer(columns2keep_list = [0,23])"
   ]
  },
  {
   "cell_type": "code",
   "execution_count": 34,
   "metadata": {
    "ExecuteTime": {
     "end_time": "2019-05-20T08:35:06.207757Z",
     "start_time": "2019-05-20T08:34:57.009052Z"
    },
    "scrolled": true
   },
   "outputs": [
    {
     "name": "stdout",
     "output_type": "stream",
     "text": [
      "\n",
      "> > > > dataFrameNYC() now reading csv with file path below\n",
      "C:\\Users\\DENVER\\Desktop\\interviewPY\\INT_03_PYTHON_PANDAS_NYC_COLLISION\\NYPD_Motor_Vehicle_Collisions.csv\n",
      "\n",
      "{0: 'DATE', 1: 'TIME', 2: 'BOROUGH', 3: 'ZIP CODE', 4: 'LATITUDE', 5: 'LONGITUDE', 6: 'LOCATION', 7: 'ON STREET NAME', 8: 'CROSS STREET NAME', 9: 'OFF STREET NAME', 10: 'NUMBER OF PERSONS INJURED', 11: 'NUMBER OF PERSONS KILLED', 12: 'NUMBER OF PEDESTRIANS INJURED', 13: 'NUMBER OF PEDESTRIANS KILLED', 14: 'NUMBER OF CYCLIST INJURED', 15: 'NUMBER OF CYCLIST KILLED', 16: 'NUMBER OF MOTORIST INJURED', 17: 'NUMBER OF MOTORIST KILLED', 18: 'CONTRIBUTING FACTOR VEHICLE 1', 19: 'CONTRIBUTING FACTOR VEHICLE 2', 20: 'CONTRIBUTING FACTOR VEHICLE 3', 21: 'CONTRIBUTING FACTOR VEHICLE 4', 22: 'CONTRIBUTING FACTOR VEHICLE 5', 23: 'UNIQUE KEY', 24: 'VEHICLE TYPE CODE 1', 25: 'VEHICLE TYPE CODE 2', 26: 'VEHICLE TYPE CODE 3', 27: 'VEHICLE TYPE CODE 4', 28: 'VEHICLE TYPE CODE 5'}\n",
      "\n",
      "> > > focusDataframer(columns2keep_list = [indexNo_as_int00, indexNo_as_int01]\n",
      "> > >                * selected columns:\n",
      "> > >                                   0  keeps  DATE\n",
      "> > >                                   23  keeps  UNIQUE KEY\n",
      "\n",
      "> > > > gr0upYearByCollusionCount() calculated collusion count under year: \n",
      "> > > > check if sum of all yearly collusion counts add up total row number 1,487,383\n",
      "> > > >                                                                     1,487,383 expected [?]\n"
     ]
    },
    {
     "data": {
      "text/html": [
       "<div>\n",
       "<style scoped>\n",
       "    .dataframe tbody tr th:only-of-type {\n",
       "        vertical-align: middle;\n",
       "    }\n",
       "\n",
       "    .dataframe tbody tr th {\n",
       "        vertical-align: top;\n",
       "    }\n",
       "\n",
       "    .dataframe thead th {\n",
       "        text-align: right;\n",
       "    }\n",
       "</style>\n",
       "<table border=\"1\" class=\"dataframe\">\n",
       "  <thead>\n",
       "    <tr style=\"text-align: right;\">\n",
       "      <th></th>\n",
       "      <th>c0llusionCount</th>\n",
       "    </tr>\n",
       "    <tr>\n",
       "      <th>ye4r</th>\n",
       "      <th></th>\n",
       "    </tr>\n",
       "  </thead>\n",
       "  <tbody>\n",
       "    <tr>\n",
       "      <th>2012</th>\n",
       "      <td>100541</td>\n",
       "    </tr>\n",
       "    <tr>\n",
       "      <th>2013</th>\n",
       "      <td>203729</td>\n",
       "    </tr>\n",
       "    <tr>\n",
       "      <th>2014</th>\n",
       "      <td>206030</td>\n",
       "    </tr>\n",
       "    <tr>\n",
       "      <th>2015</th>\n",
       "      <td>217692</td>\n",
       "    </tr>\n",
       "    <tr>\n",
       "      <th>2016</th>\n",
       "      <td>229787</td>\n",
       "    </tr>\n",
       "    <tr>\n",
       "      <th>2017</th>\n",
       "      <td>230997</td>\n",
       "    </tr>\n",
       "    <tr>\n",
       "      <th>2018</th>\n",
       "      <td>231467</td>\n",
       "    </tr>\n",
       "    <tr>\n",
       "      <th>2019</th>\n",
       "      <td>67140</td>\n",
       "    </tr>\n",
       "  </tbody>\n",
       "</table>\n",
       "</div>"
      ],
      "text/plain": [
       "      c0llusionCount\n",
       "ye4r                \n",
       "2012          100541\n",
       "2013          203729\n",
       "2014          206030\n",
       "2015          217692\n",
       "2016          229787\n",
       "2017          230997\n",
       "2018          231467\n",
       "2019           67140"
      ]
     },
     "execution_count": 34,
     "metadata": {},
     "output_type": "execute_result"
    }
   ],
   "source": [
    "def gr0upYearByCollusionCount(focus_df = focusDataframer()):\n",
    "    \"\"\"\n",
    "    REQUIRES A DATAFRAME WITH A TARGET FIELD NAMED 'DATE',\n",
    "    GROUP YEAR BY COLLUSION COUNT\n",
    "    \"\"\"\n",
    "    pass\n",
    "    print()\n",
    "    print('> > > > gr0upYearByCollusionCount() calculated collusion count under year: ')\n",
    "    focus_df['ye4r'] = [date[-4:] for date in focus_df['DATE']]\n",
    "    gr0uped_df = focus_df.groupby('ye4r').count().drop(columns = 'DATE')\n",
    "    gr0uped_df['c0llusionCount'] = [\n",
    "        collusionCount\n",
    "        for collusionCount in gr0uped_df['UNIQUE KEY']\n",
    "    ]\n",
    "    gr0uped_df = gr0uped_df.drop(columns='UNIQUE KEY')\n",
    "    check_row_total = gr0uped_df.sum()[0]\n",
    "    print('> > > > check if sum of all yearly collusion counts add up total row number {:,}'.format(check_row_total))\n",
    "    print('> > > >                                                                     1,487,383 expected [?]')\n",
    "    return gr0uped_df\n",
    "# ----------------- 1487383\n",
    "gr0upYearByCollusionCount()"
   ]
  },
  {
   "cell_type": "code",
   "execution_count": 35,
   "metadata": {
    "ExecuteTime": {
     "end_time": "2019-05-20T08:35:06.922345Z",
     "start_time": "2019-05-20T08:35:06.220749Z"
    }
   },
   "outputs": [
    {
     "name": "stdout",
     "output_type": "stream",
     "text": [
      "\n",
      "> > > > gr0upYearByCollusionCount() calculated collusion count under year: \n",
      "> > > > check if sum of all yearly collusion counts add up total row number 1,487,383\n",
      "> > > >                                                                     1,487,383 expected [?]\n"
     ]
    }
   ],
   "source": [
    "def yearLabeledCollusionCountDF(gr0uped_df=gr0upYearByCollusionCount(),\n",
    "                                year_first=2013,\n",
    "                                year_last=2018):\n",
    "    \"\"\"\n",
    "    REQUIRES GROUPED DATAFRAME WITH YEAR ON INDEX AND COLLUSION COUNT AS VALUES\n",
    "    \"\"\"\n",
    "    pass\n",
    "    print()\n",
    "    print(\n",
    "        '> > > yearLabeledCollusionCountDF() returns a _df with below years on label: '\n",
    "    )\n",
    "    year_last += 1\n",
    "    yrs_list = [\n",
    "        int(year) for year in np.arange(int(year_first), int(year_last))\n",
    "    ]\n",
    "    print(yrs_list)\n",
    "    yearLabel_df = gr0uped_df.T\n",
    "    yearStr_list = [str(year) for year in yrs_list]\n",
    "    return yearLabel_df[yearStr_list].T"
   ]
  },
  {
   "cell_type": "code",
   "execution_count": 36,
   "metadata": {
    "ExecuteTime": {
     "end_time": "2019-05-20T08:36:22.010635Z",
     "start_time": "2019-05-20T08:36:21.997659Z"
    }
   },
   "outputs": [
    {
     "name": "stdout",
     "output_type": "stream",
     "text": [
      "\n",
      "> > > yearLabeledCollusionCountDF() returns a _df with below years on label: \n",
      "[2013, 2014, 2015, 2016, 2017, 2018]\n",
      "\n",
      "> > > yearLabeledCollusionCountDF() returns a _df with below years on label: \n",
      "[2013, 2014, 2015, 2016, 2017, 2018]\n"
     ]
    }
   ],
   "source": [
    "def snsRegressionPlot(df = yearLabeledCollusionCountDF().T, yTarget='c0llusionCount',gr0up_df=yearLabeledCollusionCountDF()):\n",
    "    \"\"\"df is a pivoted dataframe,\n",
    "    yTarget is the value to be predicted\n",
    "    ----default is 'United States'\n",
    "    returns plot with regression\n",
    "    \"\"\"\n",
    "    c0lorList=['coral', 'goldenrod', 'salmon', 'orangered', 'darkolivegreen', 'olivedrab',\n",
    "               'cadetblue', 'palevioletred', 'mediumorchid', 'darkorange', 'teal', 'cyan', 'aqua']\n",
    "\n",
    "    plt.rcParams[\"font.size\"] = 12\n",
    "    \n",
    "    _colList_ = df.columns\n",
    "    plt.figure(figsize = (12,8))        \n",
    "    plt.title('Q6 - NO-OF-COLLUSIONS vs YEAR: TREND ANALYSIS')\n",
    "    plt.xlabel('YEAR ')\n",
    "    plt.ylabel('NUMBER OF COLLUSIONS')\n",
    "    int_for_x_axis = [\n",
    "        int(year)\n",
    "        for year in gr0up_df.index\n",
    "        ]\n",
    "    x_axis = pd.Series(int_for_x_axis)\n",
    "    y_axis = pd.Series(gr0up_df[yTarget])\n",
    "    rand1nt = np.random.randint(0,len(c0lorList))\n",
    "    c0lor = c0lorList[rand1nt] \n",
    "    sns.regplot(y=y_axis, x=x_axis, data=df, fit_reg = True, color= c0lor, marker='o')\n",
    "    plt.grid(True)\n",
    "    plt.show()\n",
    "    return None"
   ]
  },
  {
   "cell_type": "code",
   "execution_count": 33,
   "metadata": {
    "ExecuteTime": {
     "end_time": "2019-05-20T08:31:42.193964Z",
     "start_time": "2019-05-20T08:31:41.955085Z"
    }
   },
   "outputs": [
    {
     "data": {
      "image/png": "[encoded data removed]",
      "text/plain": [
       "<Figure size 864x576 with 1 Axes>"
      ]
     },
     "metadata": {},
     "output_type": "display_data"
    }
   ],
   "source": [
    "snsRegressionPlot()\n",
    "# hit ctrl+enter for jedi lightsaber experience lol"
   ]
  },
  {
   "cell_type": "code",
   "execution_count": null,
   "metadata": {
    "ExecuteTime": {
     "end_time": "2019-05-20T08:30:57.413257Z",
     "start_time": "2019-05-20T08:30:39.946Z"
    }
   },
   "outputs": [],
   "source": [
    "# Q-6: Consider the total number of collisions each year from 2013-2018. \n",
    "# * Is there an apparent trend? \n",
    "# * Fit a linear regression for the number of collisions per year and report its slope."
   ]
  },
  {
   "cell_type": "code",
   "execution_count": null,
   "metadata": {
    "ExecuteTime": {
     "end_time": "2019-05-20T08:41:58.908111Z",
     "start_time": "2019-05-20T08:41:58.605287Z"
    }
   },
   "outputs": [],
   "source": [
    "df = yearLabeledCollusionCountDF().T\n",
    "yTarget='c0llusionCount'\n",
    "gr0up_df=yearLabeledCollusionCountDF()\n",
    "# ------------------------------------\n",
    "int_for_x_axis = [\n",
    "    int(year)\n",
    "    for year in gr0up_df.index\n",
    "    ]\n",
    "x_axis = pd.Series(int_for_x_axis)\n",
    "y_axis = pd.Series(gr0up_df[yTarget])"
   ]
  },
  {
   "cell_type": "code",
   "execution_count": 65,
   "metadata": {
    "ExecuteTime": {
     "end_time": "2019-05-20T09:02:53.225500Z",
     "start_time": "2019-05-20T09:02:53.218502Z"
    }
   },
   "outputs": [
    {
     "data": {
      "text/plain": [
       "array([2013, 2014, 2015, 2016, 2017, 2018])"
      ]
     },
     "execution_count": 65,
     "metadata": {},
     "output_type": "execute_result"
    }
   ],
   "source": [
    "year_first = x_axis[0] \n",
    "year_last = x_axis[5] + 1\n",
    "\n",
    "x_ax1s = np.arange(int(year_first), int(year_last))\n",
    "x_ax1s"
   ]
  },
  {
   "cell_type": "code",
   "execution_count": 77,
   "metadata": {
    "ExecuteTime": {
     "end_time": "2019-05-20T09:12:58.273622Z",
     "start_time": "2019-05-20T09:12:58.268625Z"
    }
   },
   "outputs": [
    {
     "data": {
      "text/plain": [
       "array([[2013],\n",
       "       [2014],\n",
       "       [2015],\n",
       "       [2016],\n",
       "       [2017],\n",
       "       [2018]])"
      ]
     },
     "execution_count": 77,
     "metadata": {},
     "output_type": "execute_result"
    }
   ],
   "source": [
    "# Create linear regression object\n",
    "regr = linear_model.LinearRegression(fit_intercept=False)\n",
    "# Train the model using the training sets\n",
    "x_ax2s = x_ax1s.reshape(-1, 1)\n",
    "x_ax2s"
   ]
  },
  {
   "cell_type": "code",
   "execution_count": 78,
   "metadata": {
    "ExecuteTime": {
     "end_time": "2019-05-20T09:12:59.172248Z",
     "start_time": "2019-05-20T09:12:59.166249Z"
    }
   },
   "outputs": [
    {
     "data": {
      "text/plain": [
       "LinearRegression(copy_X=True, fit_intercept=False, n_jobs=1, normalize=False)"
      ]
     },
     "execution_count": 78,
     "metadata": {},
     "output_type": "execute_result"
    }
   ],
   "source": [
    "regr.fit(x_ax2s, y_axis)"
   ]
  },
  {
   "cell_type": "code",
   "execution_count": 79,
   "metadata": {
    "ExecuteTime": {
     "end_time": "2019-05-20T09:12:59.771219Z",
     "start_time": "2019-05-20T09:12:59.767223Z"
    }
   },
   "outputs": [],
   "source": [
    "\n",
    "y_predict = regr.predict(x_ax2s)"
   ]
  },
  {
   "cell_type": "code",
   "execution_count": null,
   "metadata": {},
   "outputs": [],
   "source": [
    "r2_score"
   ]
  },
  {
   "cell_type": "code",
   "execution_count": 81,
   "metadata": {
    "ExecuteTime": {
     "end_time": "2019-05-20T10:47:37.271363Z",
     "start_time": "2019-05-20T10:47:37.085487Z"
    }
   },
   "outputs": [
    {
     "name": "stdout",
     "output_type": "stream",
     "text": [
      "Coefficients: \n",
      " [109.13396511]\n",
      "Intercept: \n",
      " 0.0\n",
      "Mean squared error: 131501466.18\n",
      "Variance score: 0.03\n"
     ]
    },
    {
     "data": {
      "text/plain": [
       "<matplotlib.collections.PathCollection at 0x230854f13c8>"
      ]
     },
     "execution_count": 81,
     "metadata": {},
     "output_type": "execute_result"
    },
    {
     "data": {
      "text/plain": [
       "[<matplotlib.lines.Line2D at 0x2308de549b0>]"
      ]
     },
     "execution_count": 81,
     "metadata": {},
     "output_type": "execute_result"
    },
    {
     "data": {
      "image/png": "[encoded data removed]",
      "text/plain": [
       "<Figure size 432x288 with 1 Axes>"
      ]
     },
     "metadata": {},
     "output_type": "display_data"
    }
   ],
   "source": [
    "print('Coefficients: \\n', regr.coef_)\n",
    "print('Intercept: \\n', regr.intercept_)\n",
    "print(\"Mean squared error: %.2f\" % mean_squared_error(y_axis, y_predict))\n",
    "# Explained variance score: 1 is perfect prediction\n",
    "print('Variance score: %.2f' % r2_score(y_axis, y_predict))\n",
    "\n",
    "# Plot outputs\n",
    "plt.scatter(x_ax2s, y_axis, color='black')\n",
    "plt.plot(x_ax2s, y_predict, color='blue', linewidth=3)\n",
    "plt.show()"
   ]
  },
  {
   "cell_type": "code",
   "execution_count": null,
   "metadata": {},
   "outputs": [],
   "source": []
  },
  {
   "cell_type": "code",
   "execution_count": null,
   "metadata": {},
   "outputs": [],
   "source": []
  },
  {
   "cell_type": "code",
   "execution_count": 43,
   "metadata": {
    "ExecuteTime": {
     "end_time": "2019-05-20T08:49:50.740568Z",
     "start_time": "2019-05-20T08:49:50.425752Z"
    }
   },
   "outputs": [
    {
     "data": {
      "text/plain": [
       "<Figure size 864x576 with 0 Axes>"
      ]
     },
     "execution_count": 43,
     "metadata": {},
     "output_type": "execute_result"
    },
    {
     "data": {
      "text/plain": [
       "Text(0.5,1,'Q6 - NO-OF-COLLUSIONS vs YEAR: TREND ANALYSIS')"
      ]
     },
     "execution_count": 43,
     "metadata": {},
     "output_type": "execute_result"
    },
    {
     "data": {
      "text/plain": [
       "Text(0.5,0,'YEAR ')"
      ]
     },
     "execution_count": 43,
     "metadata": {},
     "output_type": "execute_result"
    },
    {
     "data": {
      "text/plain": [
       "Text(0,0.5,'NUMBER OF COLLUSIONS')"
      ]
     },
     "execution_count": 43,
     "metadata": {},
     "output_type": "execute_result"
    },
    {
     "data": {
      "text/plain": [
       "<matplotlib.axes._subplots.AxesSubplot at 0x2308c942390>"
      ]
     },
     "execution_count": 43,
     "metadata": {},
     "output_type": "execute_result"
    },
    {
     "data": {
      "image/png": "[encoded data removed]",
      "text/plain": [
       "<Figure size 864x576 with 1 Axes>"
      ]
     },
     "metadata": {},
     "output_type": "display_data"
    }
   ],
   "source": [
    "c0lorList=['coral', 'goldenrod', 'salmon', 'orangered', 'darkolivegreen', 'olivedrab',\n",
    "           'cadetblue', 'palevioletred', 'mediumorchid', 'darkorange', 'teal', 'cyan', 'aqua']\n",
    "plt.rcParams[\"font.size\"] = 12\n",
    "_colList_ = df.columns\n",
    "plt.figure(figsize = (12,8))        \n",
    "plt.title('Q6 - NO-OF-COLLUSIONS vs YEAR: TREND ANALYSIS')\n",
    "plt.xlabel('YEAR ')\n",
    "plt.ylabel('NUMBER OF COLLUSIONS')\n",
    "rand1nt = np.random.randint(0,len(c0lorList))\n",
    "c0lor = c0lorList[rand1nt] \n",
    "sns.regplot(y=y_axis, x=x_axis, data=df, fit_reg = True, color= c0lor, marker='o')\n",
    "plt.grid(True)\n",
    "plt.show()"
   ]
  },
  {
   "cell_type": "code",
   "execution_count": null,
   "metadata": {},
   "outputs": [],
   "source": []
  },
  {
   "cell_type": "code",
   "execution_count": null,
   "metadata": {},
   "outputs": [],
   "source": []
  },
  {
   "cell_type": "code",
   "execution_count": null,
   "metadata": {},
   "outputs": [],
   "source": []
  }
 ],
 "metadata": {
  "kernelspec": {
   "display_name": "Python 3",
   "language": "python",
   "name": "python3"
  },
  "language_info": {
   "codemirror_mode": {
    "name": "ipython",
    "version": 3
   },
   "file_extension": ".py",
   "mimetype": "text/x-python",
   "name": "python",
   "nbconvert_exporter": "python",
   "pygments_lexer": "ipython3",
   "version": "3.6.5"
  },
  "varInspector": {
   "cols": {
    "lenName": 16,
    "lenType": 16,
    "lenVar": 40
   },
   "kernels_config": {
    "python": {
     "delete_cmd_postfix": "",
     "delete_cmd_prefix": "del ",
     "library": "var_list.py",
     "varRefreshCmd": "print(var_dic_list())"
    },
    "r": {
     "delete_cmd_postfix": ") ",
     "delete_cmd_prefix": "rm(",
     "library": "var_list.r",
     "varRefreshCmd": "cat(var_dic_list()) "
    }
   },
   "types_to_exclude": [
    "module",
    "function",
    "builtin_function_or_method",
    "instance",
    "_Feature"
   ],
   "window_display": false
  }
 },
 "nbformat": 4,
 "nbformat_minor": 2
}
